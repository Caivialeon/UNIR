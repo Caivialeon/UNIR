{
 "cells": [
  {
   "cell_type": "code",
   "execution_count": 3,
   "id": "697ca628",
   "metadata": {},
   "outputs": [],
   "source": [
    "import pandas as pd\n",
    "import numpy as np\n",
    "from matplotlib.pylab  import rcParams\n",
    "import matplotlib.pyplot as plt\n",
    "from sklearn import metrics\n",
    "%matplotlib inline\n",
    "import seaborn as sns\n",
    "from sklearn.model_selection import train_test_split"
   ]
  },
  {
   "cell_type": "markdown",
   "id": "af482367",
   "metadata": {},
   "source": [
    "Cargar datos"
   ]
  },
  {
   "cell_type": "code",
   "execution_count": 5,
   "id": "a72cd898",
   "metadata": {},
   "outputs": [
    {
     "data": {
      "text/html": [
       "<div>\n",
       "<style scoped>\n",
       "    .dataframe tbody tr th:only-of-type {\n",
       "        vertical-align: middle;\n",
       "    }\n",
       "\n",
       "    .dataframe tbody tr th {\n",
       "        vertical-align: top;\n",
       "    }\n",
       "\n",
       "    .dataframe thead th {\n",
       "        text-align: right;\n",
       "    }\n",
       "</style>\n",
       "<table border=\"1\" class=\"dataframe\">\n",
       "  <thead>\n",
       "    <tr style=\"text-align: right;\">\n",
       "      <th></th>\n",
       "      <th>fixed acidity</th>\n",
       "      <th>volatile acidity</th>\n",
       "      <th>citric acid</th>\n",
       "      <th>residual sugar</th>\n",
       "      <th>chlorides</th>\n",
       "      <th>free sulfur dioxide</th>\n",
       "      <th>total sulfur dioxide</th>\n",
       "      <th>density</th>\n",
       "      <th>pH</th>\n",
       "      <th>sulphates</th>\n",
       "      <th>alcohol</th>\n",
       "      <th>quality</th>\n",
       "    </tr>\n",
       "  </thead>\n",
       "  <tbody>\n",
       "    <tr>\n",
       "      <th>count</th>\n",
       "      <td>1599.000000</td>\n",
       "      <td>1599.000000</td>\n",
       "      <td>1599.000000</td>\n",
       "      <td>1599.000000</td>\n",
       "      <td>1599.000000</td>\n",
       "      <td>1599.000000</td>\n",
       "      <td>1599.000000</td>\n",
       "      <td>1599.000000</td>\n",
       "      <td>1599.000000</td>\n",
       "      <td>1599.000000</td>\n",
       "      <td>1599.000000</td>\n",
       "      <td>1599.000000</td>\n",
       "    </tr>\n",
       "    <tr>\n",
       "      <th>mean</th>\n",
       "      <td>8.319637</td>\n",
       "      <td>0.527821</td>\n",
       "      <td>0.270976</td>\n",
       "      <td>2.538806</td>\n",
       "      <td>0.087467</td>\n",
       "      <td>15.874922</td>\n",
       "      <td>46.467792</td>\n",
       "      <td>0.996747</td>\n",
       "      <td>3.311113</td>\n",
       "      <td>0.658149</td>\n",
       "      <td>10.422983</td>\n",
       "      <td>5.636023</td>\n",
       "    </tr>\n",
       "    <tr>\n",
       "      <th>std</th>\n",
       "      <td>1.741096</td>\n",
       "      <td>0.179060</td>\n",
       "      <td>0.194801</td>\n",
       "      <td>1.409928</td>\n",
       "      <td>0.047065</td>\n",
       "      <td>10.460157</td>\n",
       "      <td>32.895324</td>\n",
       "      <td>0.001887</td>\n",
       "      <td>0.154386</td>\n",
       "      <td>0.169507</td>\n",
       "      <td>1.065668</td>\n",
       "      <td>0.807569</td>\n",
       "    </tr>\n",
       "    <tr>\n",
       "      <th>min</th>\n",
       "      <td>4.600000</td>\n",
       "      <td>0.120000</td>\n",
       "      <td>0.000000</td>\n",
       "      <td>0.900000</td>\n",
       "      <td>0.012000</td>\n",
       "      <td>1.000000</td>\n",
       "      <td>6.000000</td>\n",
       "      <td>0.990070</td>\n",
       "      <td>2.740000</td>\n",
       "      <td>0.330000</td>\n",
       "      <td>8.400000</td>\n",
       "      <td>3.000000</td>\n",
       "    </tr>\n",
       "    <tr>\n",
       "      <th>25%</th>\n",
       "      <td>7.100000</td>\n",
       "      <td>0.390000</td>\n",
       "      <td>0.090000</td>\n",
       "      <td>1.900000</td>\n",
       "      <td>0.070000</td>\n",
       "      <td>7.000000</td>\n",
       "      <td>22.000000</td>\n",
       "      <td>0.995600</td>\n",
       "      <td>3.210000</td>\n",
       "      <td>0.550000</td>\n",
       "      <td>9.500000</td>\n",
       "      <td>5.000000</td>\n",
       "    </tr>\n",
       "    <tr>\n",
       "      <th>50%</th>\n",
       "      <td>7.900000</td>\n",
       "      <td>0.520000</td>\n",
       "      <td>0.260000</td>\n",
       "      <td>2.200000</td>\n",
       "      <td>0.079000</td>\n",
       "      <td>14.000000</td>\n",
       "      <td>38.000000</td>\n",
       "      <td>0.996750</td>\n",
       "      <td>3.310000</td>\n",
       "      <td>0.620000</td>\n",
       "      <td>10.200000</td>\n",
       "      <td>6.000000</td>\n",
       "    </tr>\n",
       "    <tr>\n",
       "      <th>75%</th>\n",
       "      <td>9.200000</td>\n",
       "      <td>0.640000</td>\n",
       "      <td>0.420000</td>\n",
       "      <td>2.600000</td>\n",
       "      <td>0.090000</td>\n",
       "      <td>21.000000</td>\n",
       "      <td>62.000000</td>\n",
       "      <td>0.997835</td>\n",
       "      <td>3.400000</td>\n",
       "      <td>0.730000</td>\n",
       "      <td>11.100000</td>\n",
       "      <td>6.000000</td>\n",
       "    </tr>\n",
       "    <tr>\n",
       "      <th>max</th>\n",
       "      <td>15.900000</td>\n",
       "      <td>1.580000</td>\n",
       "      <td>1.000000</td>\n",
       "      <td>15.500000</td>\n",
       "      <td>0.611000</td>\n",
       "      <td>72.000000</td>\n",
       "      <td>289.000000</td>\n",
       "      <td>1.003690</td>\n",
       "      <td>4.010000</td>\n",
       "      <td>2.000000</td>\n",
       "      <td>14.900000</td>\n",
       "      <td>8.000000</td>\n",
       "    </tr>\n",
       "  </tbody>\n",
       "</table>\n",
       "</div>"
      ],
      "text/plain": [
       "       fixed acidity  volatile acidity  citric acid  residual sugar  \\\n",
       "count    1599.000000       1599.000000  1599.000000     1599.000000   \n",
       "mean        8.319637          0.527821     0.270976        2.538806   \n",
       "std         1.741096          0.179060     0.194801        1.409928   \n",
       "min         4.600000          0.120000     0.000000        0.900000   \n",
       "25%         7.100000          0.390000     0.090000        1.900000   \n",
       "50%         7.900000          0.520000     0.260000        2.200000   \n",
       "75%         9.200000          0.640000     0.420000        2.600000   \n",
       "max        15.900000          1.580000     1.000000       15.500000   \n",
       "\n",
       "         chlorides  free sulfur dioxide  total sulfur dioxide      density  \\\n",
       "count  1599.000000          1599.000000           1599.000000  1599.000000   \n",
       "mean      0.087467            15.874922             46.467792     0.996747   \n",
       "std       0.047065            10.460157             32.895324     0.001887   \n",
       "min       0.012000             1.000000              6.000000     0.990070   \n",
       "25%       0.070000             7.000000             22.000000     0.995600   \n",
       "50%       0.079000            14.000000             38.000000     0.996750   \n",
       "75%       0.090000            21.000000             62.000000     0.997835   \n",
       "max       0.611000            72.000000            289.000000     1.003690   \n",
       "\n",
       "                pH    sulphates      alcohol      quality  \n",
       "count  1599.000000  1599.000000  1599.000000  1599.000000  \n",
       "mean      3.311113     0.658149    10.422983     5.636023  \n",
       "std       0.154386     0.169507     1.065668     0.807569  \n",
       "min       2.740000     0.330000     8.400000     3.000000  \n",
       "25%       3.210000     0.550000     9.500000     5.000000  \n",
       "50%       3.310000     0.620000    10.200000     6.000000  \n",
       "75%       3.400000     0.730000    11.100000     6.000000  \n",
       "max       4.010000     2.000000    14.900000     8.000000  "
      ]
     },
     "execution_count": 5,
     "metadata": {},
     "output_type": "execute_result"
    }
   ],
   "source": [
    "#cargando datos\n",
    "df_wine = pd.read_csv(\"winequality-red.csv\")\n",
    "df_wine.describe() #resumen del conjunto de datos"
   ]
  },
  {
   "cell_type": "code",
   "execution_count": 6,
   "id": "96ab5765",
   "metadata": {},
   "outputs": [
    {
     "data": {
      "text/plain": [
       "fixed acidity           0\n",
       "volatile acidity        0\n",
       "citric acid             0\n",
       "residual sugar          0\n",
       "chlorides               0\n",
       "free sulfur dioxide     0\n",
       "total sulfur dioxide    0\n",
       "density                 0\n",
       "pH                      0\n",
       "sulphates               0\n",
       "alcohol                 0\n",
       "quality                 0\n",
       "dtype: int64"
      ]
     },
     "execution_count": 6,
     "metadata": {},
     "output_type": "execute_result"
    }
   ],
   "source": [
    "df_wine.isnull().sum()"
   ]
  },
  {
   "cell_type": "markdown",
   "id": "24564636",
   "metadata": {},
   "source": [
    "histograma de la variable quality"
   ]
  },
  {
   "cell_type": "code",
   "execution_count": 7,
   "id": "1deaf0fa",
   "metadata": {},
   "outputs": [
    {
     "data": {
      "image/png": "[encoded data removed]",
      "text/plain": [
       "<Figure size 432x288 with 1 Axes>"
      ]
     },
     "metadata": {
      "needs_background": "light"
     },
     "output_type": "display_data"
    }
   ],
   "source": [
    "plt.hist (x=df_wine[\"quality\"] , color= \"#F2AB6D\" , rwidth = 0.85)\n",
    "plt.show()"
   ]
  },
  {
   "cell_type": "markdown",
   "id": "8d21ff8f",
   "metadata": {},
   "source": [
    "se observa que la variable objetivo posee diferentes categorias, convertimos esta variable a una salida binaria. Si quality > 6 es igual a buena_calidad(1) , caso contrario igual a mala calidad(0)"
   ]
  },
  {
   "cell_type": "code",
   "execution_count": 3,
   "id": "eab9e60d",
   "metadata": {},
   "outputs": [
    {
     "ename": "NameError",
     "evalue": "name 'df_wine' is not defined",
     "output_type": "error",
     "traceback": [
      "\u001b[1;31m---------------------------------------------------------------------------\u001b[0m",
      "\u001b[1;31mNameError\u001b[0m                                 Traceback (most recent call last)",
      "\u001b[1;32m~\\AppData\\Local\\Temp/ipykernel_3048/3620374265.py\u001b[0m in \u001b[0;36m<module>\u001b[1;34m\u001b[0m\n\u001b[1;32m----> 1\u001b[1;33m \u001b[0mdf_wine\u001b[0m\u001b[1;33m[\u001b[0m\u001b[1;34m\"calidad\"\u001b[0m\u001b[1;33m]\u001b[0m \u001b[1;33m=\u001b[0m \u001b[1;33m[\u001b[0m\u001b[1;36m1\u001b[0m \u001b[1;32mif\u001b[0m \u001b[0mx\u001b[0m \u001b[1;33m>=\u001b[0m \u001b[1;36m6\u001b[0m \u001b[1;32melse\u001b[0m \u001b[1;36m0\u001b[0m \u001b[1;32mfor\u001b[0m \u001b[0mx\u001b[0m \u001b[1;32min\u001b[0m \u001b[0mdf_wine\u001b[0m \u001b[1;33m[\u001b[0m\u001b[1;34m\"quality\"\u001b[0m\u001b[1;33m]\u001b[0m\u001b[1;33m]\u001b[0m\u001b[1;33m\u001b[0m\u001b[1;33m\u001b[0m\u001b[0m\n\u001b[0m\u001b[0;32m      2\u001b[0m \u001b[1;31m#dividimos el conjunto de datos en (X) variables de caracteristicas y (Y) variable objeto\u001b[0m\u001b[1;33m\u001b[0m\u001b[1;33m\u001b[0m\u001b[0m\n\u001b[0;32m      3\u001b[0m \u001b[0mX\u001b[0m \u001b[1;33m=\u001b[0m \u001b[0mdf_wine\u001b[0m\u001b[1;33m.\u001b[0m\u001b[0mdrop\u001b[0m\u001b[1;33m(\u001b[0m\u001b[1;33m[\u001b[0m\u001b[1;34m\"quality\"\u001b[0m \u001b[1;33m,\u001b[0m \u001b[1;34m\"calidad\"\u001b[0m\u001b[1;33m]\u001b[0m \u001b[1;33m,\u001b[0m \u001b[0maxis\u001b[0m\u001b[1;33m=\u001b[0m \u001b[1;36m1\u001b[0m\u001b[1;33m)\u001b[0m\u001b[1;33m\u001b[0m\u001b[1;33m\u001b[0m\u001b[0m\n\u001b[0;32m      4\u001b[0m \u001b[0mY\u001b[0m \u001b[1;33m=\u001b[0m\u001b[0mdf_wine\u001b[0m\u001b[1;33m[\u001b[0m\u001b[1;34m\"calidad\"\u001b[0m\u001b[1;33m]\u001b[0m\u001b[1;33m\u001b[0m\u001b[1;33m\u001b[0m\u001b[0m\n",
      "\u001b[1;31mNameError\u001b[0m: name 'df_wine' is not defined"
     ]
    }
   ],
   "source": [
    "df_wine[\"calidad\"] = [1 if x >= 6 else 0 for x in df_wine [\"quality\"]]\n",
    "#dividimos el conjunto de datos en (X) variables de caracteristicas y (Y) variable objeto\n",
    "X = df_wine.drop([\"quality\" , \"calidad\"] , axis= 1)\n",
    "Y =df_wine[\"calidad\"]"
   ]
  },
  {
   "cell_type": "code",
   "execution_count": 12,
   "id": "4590a81b",
   "metadata": {},
   "outputs": [
    {
     "data": {
      "text/plain": [
       "1    855\n",
       "0    744\n",
       "Name: calidad, dtype: int64"
      ]
     },
     "execution_count": 12,
     "metadata": {},
     "output_type": "execute_result"
    }
   ],
   "source": [
    "df_wine[\"calidad\"].value_counts()"
   ]
  },
  {
   "cell_type": "markdown",
   "id": "2e312582",
   "metadata": {},
   "source": [
    "Modelo arbol de clasificacion"
   ]
  },
  {
   "cell_type": "markdown",
   "id": "fa2012cd",
   "metadata": {},
   "source": [
    "Determinar el conjunto de modelizacion y el de validacion"
   ]
  },
  {
   "cell_type": "code",
   "execution_count": 14,
   "id": "6fab8849",
   "metadata": {},
   "outputs": [],
   "source": [
    "from sklearn.preprocessing import StandardScaler\n",
    "X_carac_= X\n",
    "X = StandardScaler().fit_transform(X)"
   ]
  },
  {
   "cell_type": "markdown",
   "id": "671dd161",
   "metadata": {},
   "source": [
    "entrenamiento y evaluacion del modelo"
   ]
  },
  {
   "cell_type": "code",
   "execution_count": 20,
   "id": "44f8608d",
   "metadata": {},
   "outputs": [],
   "source": [
    "#dividir conjunto train/test\n",
    "x_train,x_test , y_train , y_test = train_test_split(X ,Y ,train_size = 0.8 , random_state = 0)"
   ]
  },
  {
   "cell_type": "code",
   "execution_count": 23,
   "id": "b0724cf0",
   "metadata": {},
   "outputs": [
    {
     "name": "stdout",
     "output_type": "stream",
     "text": [
      "              precision    recall  f1-score   support\n",
      "\n",
      "           0       0.71      0.81      0.76       148\n",
      "           1       0.82      0.72      0.77       172\n",
      "\n",
      "    accuracy                           0.76       320\n",
      "   macro avg       0.77      0.77      0.76       320\n",
      "weighted avg       0.77      0.76      0.76       320\n",
      "\n"
     ]
    }
   ],
   "source": [
    "#entrenar el modelo\n",
    "from sklearn.metrics import classification_report\n",
    "from sklearn.tree import DecisionTreeClassifier\n",
    "modelo = DecisionTreeClassifier(random_state = 1)\n",
    "modelo.fit(x_train,y_train)\n",
    "predicciones = modelo.predict(X= x_test,)\n",
    "print(classification_report(y_test , predicciones))"
   ]
  },
  {
   "cell_type": "markdown",
   "id": "56bfccf8",
   "metadata": {},
   "source": [
    "Metricas"
   ]
  },
  {
   "cell_type": "markdown",
   "id": "19802766",
   "metadata": {},
   "source": [
    "Cross-validation\n",
    "La tecnica de validacion cruzada nos ayuda a medir el comportamiento de los modelos que creamos y nos ayudara a encontrar un mejor modelo rapidamente"
   ]
  },
  {
   "cell_type": "code",
   "execution_count": 25,
   "id": "234cd7c9",
   "metadata": {},
   "outputs": [
    {
     "name": "stdout",
     "output_type": "stream",
     "text": [
      "Metricas Cross_validation [0.734375   0.6953125  0.73828125 0.7265625  0.72156863]\n"
     ]
    }
   ],
   "source": [
    "from sklearn.model_selection import cross_val_score\n",
    "from sklearn.model_selection import KFold\n",
    "kf = KFold(n_splits = 5)#numero de iteraciones\n",
    "\n",
    "puntuaciones = cross_val_score(modelo,x_train , y_train , cv = kf , scoring = \"accuracy\")\n",
    "print (\"Metricas Cross_validation\" , puntuaciones)"
   ]
  },
  {
   "cell_type": "markdown",
   "id": "12844b0d",
   "metadata": {},
   "source": [
    "Matriz de confusion\n",
    "\n",
    "1.- Metrica de evaluacion de los errores de un clasificador\n",
    "2.- Es una tabla que organiza las predicciones en funcion de los valores reales de los datos"
   ]
  },
  {
   "cell_type": "code",
   "execution_count": 27,
   "id": "eff414a4",
   "metadata": {},
   "outputs": [
    {
     "name": "stdout",
     "output_type": "stream",
     "text": [
      "Matriz de confusion\n",
      "-------------------\n"
     ]
    },
    {
     "data": {
      "text/plain": [
       "array([[120,  28],\n",
       "       [ 48, 124]], dtype=int64)"
      ]
     },
     "execution_count": 27,
     "metadata": {},
     "output_type": "execute_result"
    }
   ],
   "source": [
    "from sklearn.metrics import confusion_matrix\n",
    "\n",
    "print(\"Matriz de confusion\")\n",
    "print(\"-------------------\")\n",
    "confusion_matrix( y_true = y_test , y_pred = predicciones)"
   ]
  },
  {
   "cell_type": "markdown",
   "id": "3c9380f2",
   "metadata": {},
   "source": [
    "Presicion vs accuracy\n",
    "\n",
    "presicion .- capacidad de un instrumento de dar el mismo resultado en mediciones diferentes realizadas en las mismas condificones\n",
    "\n",
    "accuracy.- es una medida de sesgo estadistico o errores sistematicos"
   ]
  },
  {
   "cell_type": "code",
   "execution_count": 28,
   "id": "b7490744",
   "metadata": {},
   "outputs": [],
   "source": [
    "from sklearn.metrics import precision_score\n",
    "from sklearn.metrics import accuracy_score"
   ]
  },
  {
   "cell_type": "code",
   "execution_count": 30,
   "id": "dfed617b",
   "metadata": {},
   "outputs": [
    {
     "name": "stdout",
     "output_type": "stream",
     "text": [
      "el accuracy de test es :  76.25 %\n"
     ]
    }
   ],
   "source": [
    "accuracy = accuracy_score( y_true = y_test , y_pred = predicciones, normalize = True)\n",
    "print(f\"el accuracy de test es :  {100*accuracy} %\")"
   ]
  },
  {
   "cell_type": "code",
   "execution_count": 32,
   "id": "39f28cd8",
   "metadata": {},
   "outputs": [
    {
     "name": "stdout",
     "output_type": "stream",
     "text": [
      "la precision de test es :  81.57894736842105 %\n"
     ]
    }
   ],
   "source": [
    "#precision tp / (tp + fp)\n",
    "precision = precision_score (y_test,predicciones)\n",
    "print(f\"la precision de test es :  {100*precision} %\")"
   ]
  },
  {
   "cell_type": "markdown",
   "id": "baac49b7",
   "metadata": {},
   "source": [
    "Curvas ROC/AUC\n",
    "\n",
    "mide el rendimiento respecto a los falsos positivos (FP) y verdaderos positivos(TP)\n",
    "El area bajo la curva (AUC) que permite caracterizar el rendimiento del modelo de claisificacion."
   ]
  },
  {
   "cell_type": "code",
   "execution_count": 33,
   "id": "a830d957",
   "metadata": {},
   "outputs": [
    {
     "data": {
      "image/png": "[encoded data removed]",
      "text/plain": [
       "<Figure size 432x288 with 1 Axes>"
      ]
     },
     "metadata": {
      "needs_background": "light"
     },
     "output_type": "display_data"
    },
    {
     "name": "stdout",
     "output_type": "stream",
     "text": [
      "AUC 0.23412947831552489\n"
     ]
    }
   ],
   "source": [
    "fpr ,tpr , thresholds = metrics.roc_curve (y_test, predicciones,pos_label= 0 )\n",
    "\n",
    "#print ROC Curve\n",
    "plt.plot (tpr,fpr)\n",
    "plt.show()\n",
    "\n",
    "#print AUC\n",
    "auc = np.trapz(tpr,fpr)\n",
    "print(\"AUC\" , auc)"
   ]
  },
  {
   "cell_type": "code",
   "execution_count": null,
   "id": "49f38ace",
   "metadata": {},
   "outputs": [],
   "source": []
  }
 ],
 "metadata": {
  "kernelspec": {
   "display_name": "Python 3 (ipykernel)",
   "language": "python",
   "name": "python3"
  },
  "language_info": {
   "codemirror_mode": {
    "name": "ipython",
    "version": 3
   },
   "file_extension": ".py",
   "mimetype": "text/x-python",
   "name": "python",
   "nbconvert_exporter": "python",
   "pygments_lexer": "ipython3",
   "version": "3.9.7"
  }
 },
 "nbformat": 4,
 "nbformat_minor": 5
}
