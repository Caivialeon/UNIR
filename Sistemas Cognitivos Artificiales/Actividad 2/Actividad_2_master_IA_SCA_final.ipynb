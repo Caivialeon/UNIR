{
 "cells": [
  {
   "cell_type": "markdown",
   "metadata": {
    "cell_id": "82a370b8-abc0-4ad3-8d3f-b2122bd32de3",
    "deepnote_cell_height": 542,
    "deepnote_cell_type": "markdown",
    "id": "XHQPNNaHf0dS"
   },
   "source": [
    "# Actividad 2: Reconocimiento de imagenes más complejas utilizando redes neuronales convolucionales.\n",
    "\n",
    "En esta actividad se llevará el reconocimiento de imagenes al siguiente nivel, reconociendo imágenes reales de Gatos y Perros para clasificar una imagen entrante como una u otra. En particular, algunos dataset como el reconocimiento de la escritura a mano agilizará el proceso al hacer que todas las imágenes tengan el mismo tamaño y forma, y todas fueran monocromo. Las imágenes del mundo real no son así... tienen diferentes formas, proporciones de aspecto, etc., ¡y normalmente son en color!\n",
    "\n",
    "Así que, como parte de la tarea necesaria para el proceso de los datos... no es menos importante redimensionarlos para que tengan una forma uniforme.\n",
    "\n",
    "Para completar esta actividad, se deben realizar los siguientes pasos:\n",
    "\n",
    "1. Explorar los datos de ejemplo de gatos y perros\n",
    "2. Preprocesar los datos\n",
    "3. Construir y entrenar una red neuronal para reconocer la diferencia entre los dos\n",
    "4. Evaluar la precisión del entrenamiento y la validación\n"
   ]
  },
  {
   "cell_type": "markdown",
   "metadata": {
    "cell_id": "00001-76bdebeb-7a9d-42f8-b672-681712c319e3",
    "deepnote_cell_height": 82,
    "deepnote_cell_type": "markdown",
    "id": "_Pwowecnf0dT",
    "tags": []
   },
   "source": [
    "# 1. Exploración de los datos"
   ]
  },
  {
   "cell_type": "markdown",
   "metadata": {
    "cell_id": "00002-6e5e380e-a4b2-4e44-a4f6-6a9ec08dab2e",
    "deepnote_cell_height": 55,
    "deepnote_cell_type": "markdown",
    "id": "PRh2IfUEl6Fm"
   },
   "source": [
    "Comenzar descargando los datos de ejemplo, un .zip de 2.000 fotos JPG de gatos y perros, y extrayéndolo localmente en /tmp."
   ]
  },
  {
   "cell_type": "code",
   "execution_count": 1,
   "metadata": {
    "cell_id": "00003-bd8f3337-294e-41e0-93d1-d5cab25d7290",
    "colab": {
     "base_uri": "https://localhost:8080/"
    },
    "deepnote_cell_height": 198,
    "deepnote_cell_type": "code",
    "deepnote_output_heights": [
     52
    ],
    "deepnote_to_be_reexecuted": false,
    "execution_millis": 670,
    "execution_start": 1660352635181,
    "id": "hq360tsxf0dU",
    "outputId": "8efdfa91-0a71-4445-9733-3a75b37b3097",
    "source_hash": "a1f96103"
   },
   "outputs": [
    {
     "data": {
      "text/plain": [
       "('/tmp/cats_and_dogs_filtered.zip',\n",
       " <http.client.HTTPMessage at 0x7ff3be44f670>)"
      ]
     },
     "execution_count": 1,
     "metadata": {},
     "output_type": "execute_result"
    }
   ],
   "source": [
    "import urllib.request\n",
    "url = 'https://storage.googleapis.com/mledu-datasets/cats_and_dogs_filtered.zip'\n",
    "filename = '/tmp/cats_and_dogs_filtered.zip'\n",
    "urllib.request.urlretrieve(url, filename)"
   ]
  },
  {
   "cell_type": "markdown",
   "metadata": {
    "cell_id": "00004-af471280-907d-4a2f-ba08-62f9ccce92e8",
    "deepnote_cell_height": 80,
    "deepnote_cell_type": "markdown",
    "id": "AafwA-L7l0kI"
   },
   "source": [
    "El siguiente código en Python utiliza la biblioteca del OS para usar las bibliotecas del sistema operativo, proporcionando acceso al sistema de archivos, y la biblioteca de archivos zip, que permite descomprimir los datos."
   ]
  },
  {
   "cell_type": "code",
   "execution_count": 2,
   "metadata": {
    "cell_id": "00005-33a5df88-0e9c-42d5-b5ef-e832129999ac",
    "deepnote_cell_height": 220,
    "deepnote_cell_type": "code",
    "deepnote_to_be_reexecuted": false,
    "execution_millis": 1331,
    "execution_start": 1660352635871,
    "id": "NH0uxjLEf0dY",
    "source_hash": "e5d2f76c"
   },
   "outputs": [],
   "source": [
    "import os\n",
    "import zipfile\n",
    "\n",
    "local_zip = '/tmp/cats_and_dogs_filtered.zip'\n",
    "\n",
    "zip_ref = zipfile.ZipFile(local_zip, 'r')\n",
    "\n",
    "zip_ref.extractall('/tmp')\n",
    "zip_ref.close()"
   ]
  },
  {
   "cell_type": "markdown",
   "metadata": {
    "cell_id": "00006-ef54d410-2f7b-4654-a901-0c1fac2d1d00",
    "deepnote_cell_height": 55,
    "deepnote_cell_type": "markdown",
    "id": "HW-TjT0Kl-On"
   },
   "source": [
    "A continuación se definen los directorios a utilizar para entrenar esta red neuronal"
   ]
  },
  {
   "cell_type": "code",
   "execution_count": 3,
   "metadata": {
    "cell_id": "00007-723da00c-19fd-4259-b6f2-762865907b96",
    "deepnote_cell_height": 310,
    "deepnote_cell_type": "code",
    "deepnote_to_be_reexecuted": false,
    "execution_millis": 52,
    "execution_start": 1660352637218,
    "id": "WUWgNpamf0da",
    "source_hash": "c502ff2e"
   },
   "outputs": [],
   "source": [
    "base_dir = '/tmp/cats_and_dogs_filtered'\n",
    "\n",
    "train_dir = os.path.join(base_dir, 'train')\n",
    "validation_dir = os.path.join(base_dir, 'validation')\n",
    "\n",
    "# Directorio para la entrenamiento de las imagenes de gatos\n",
    "train_cats_dir = os.path.join(train_dir, 'cats')\n",
    "\n",
    "# Directorio para la validación de las imagenes de perros\n",
    "train_dogs_dir = os.path.join(train_dir, 'dogs')\n",
    "\n",
    "# Directorio para la validación de las imagenes de perros y gatos\n",
    "validation_cats_dir = os.path.join(validation_dir, 'cats')\n",
    "validation_dogs_dir = os.path.join(validation_dir, 'dogs')"
   ]
  },
  {
   "cell_type": "markdown",
   "metadata": {
    "cell_id": "00008-aaaa7cef-51e4-4327-acc2-a2f063dc5acd",
    "deepnote_cell_height": 80,
    "deepnote_cell_type": "markdown",
    "id": "kb4WKU15mHiG"
   },
   "source": [
    "Se observan los nombres de los archivos en los directorios de los entrenamientos de perros y gatos (las convenciones de nombres de archivos son las mismas en el directorio de validación):"
   ]
  },
  {
   "cell_type": "code",
   "execution_count": 4,
   "metadata": {
    "cell_id": "00009-863a04c3-fe72-41c3-aa28-d393e4bf1839",
    "colab": {
     "base_uri": "https://localhost:8080/"
    },
    "deepnote_cell_height": 219,
    "deepnote_cell_type": "code",
    "deepnote_to_be_reexecuted": false,
    "execution_millis": 183186,
    "execution_start": 1660352637285,
    "id": "-uo2KiIdf0dd",
    "outputId": "5660d768-14ef-4fa8-db65-d70189e1ccb1",
    "output_cleared": false,
    "source_hash": "e5a77cf7"
   },
   "outputs": [
    {
     "name": "stdout",
     "output_type": "stream",
     "text": [
      "['cat.896.jpg', 'cat.897.jpg', 'cat.898.jpg', 'cat.899.jpg', 'cat.900.jpg', 'cat.901.jpg', 'cat.902.jpg', 'cat.903.jpg', 'cat.904.jpg', 'cat.905.jpg']\n",
      "['dog.896.jpg', 'dog.897.jpg', 'dog.898.jpg', 'dog.899.jpg', 'dog.900.jpg', 'dog.901.jpg', 'dog.902.jpg', 'dog.903.jpg', 'dog.904.jpg', 'dog.905.jpg']\n"
     ]
    }
   ],
   "source": [
    "train_cat_fnames = os.listdir( train_cats_dir )\n",
    "train_dog_fnames = os.listdir( train_dogs_dir )\n",
    "\n",
    "print(train_cat_fnames[:10])\n",
    "print(train_dog_fnames[:10])"
   ]
  },
  {
   "cell_type": "markdown",
   "metadata": {
    "cell_id": "00010-61ea2dc3-7136-4847-b4da-dafb34a4dc13",
    "deepnote_cell_height": 55,
    "deepnote_cell_type": "markdown",
    "id": "SBpe4mpvmOgI"
   },
   "source": [
    "Se descubre el número total de imágenes de gatos y perros en los directorios de trenes y validación:"
   ]
  },
  {
   "cell_type": "code",
   "execution_count": 5,
   "metadata": {
    "cell_id": "00011-caa47547-c209-4562-b1eb-64d97584365a",
    "colab": {
     "base_uri": "https://localhost:8080/"
    },
    "deepnote_cell_height": 271,
    "deepnote_cell_type": "code",
    "deepnote_to_be_reexecuted": false,
    "execution_millis": 183147,
    "execution_start": 1660352637350,
    "id": "qfDeByEOf0df",
    "outputId": "0da98573-411e-4e59-cac4-fb4a5bf6d16b",
    "output_cleared": false,
    "source_hash": "27b7c6c6"
   },
   "outputs": [
    {
     "name": "stdout",
     "output_type": "stream",
     "text": [
      "total training cat images : 1000\n",
      "total training dog images : 1000\n",
      "total validation cat images : 500\n",
      "total validation dog images : 500\n"
     ]
    }
   ],
   "source": [
    "print('total training cat images :', len(os.listdir(      train_cats_dir ) ))\n",
    "print('total training dog images :', len(os.listdir(      train_dogs_dir ) ))\n",
    "\n",
    "print('total validation cat images :', len(os.listdir( validation_cats_dir ) ))\n",
    "print('total validation dog images :', len(os.listdir( validation_dogs_dir ) ))"
   ]
  },
  {
   "cell_type": "markdown",
   "metadata": {
    "cell_id": "00012-89af1995-adb7-41ab-935d-9ea6b6d18dc4",
    "deepnote_cell_height": 55,
    "deepnote_cell_type": "markdown",
    "id": "54rzAOPNmPjt"
   },
   "source": [
    "Se diseñará ahora una CNN para la clasificación de un problema binario (perros y gatos):"
   ]
  },
  {
   "cell_type": "markdown",
   "metadata": {
    "cell_id": "00013-132057a8-7368-42df-9557-8097a5d81051",
    "deepnote_cell_height": 105,
    "deepnote_cell_type": "markdown",
    "id": "h_xgIpqC9UXI"
   },
   "source": [
    "**Ejercicio 1 ( 5 puntos)**: Diseñar una red neuronal convolucional para clasificar las imagenes de perros y gatos. Evaluar los requisitos de la red neuronal que se pide y construirla completando los parametros necesarios para que las capas de la red neuronal sean optimas para la tarea de clasificar los perros y gatos.\n"
   ]
  },
  {
   "cell_type": "code",
   "execution_count": 6,
   "metadata": {
    "cell_id": "00014-4f855f6c-90b0-4b17-a0cc-94dcd05aa82d",
    "deepnote_cell_height": 539,
    "deepnote_cell_type": "code",
    "deepnote_to_be_reexecuted": false,
    "execution_millis": 10298,
    "execution_start": 1660352637350,
    "id": "AaGW46vAf0dq",
    "source_hash": "3c89d973"
   },
   "outputs": [
    {
     "name": "stderr",
     "output_type": "stream",
     "text": [
      "2022-08-21 19:30:26.479805: I tensorflow/core/util/util.cc:169] oneDNN custom operations are on. You may see slightly different numerical results due to floating-point round-off errors from different computation orders. To turn them off, set the environment variable `TF_ENABLE_ONEDNN_OPTS=0`.\n",
      "2022-08-21 19:30:26.495607: W tensorflow/stream_executor/platform/default/dso_loader.cc:64] Could not load dynamic library 'libcudart.so.11.0'; dlerror: libcudart.so.11.0: cannot open shared object file: No such file or directory\n",
      "2022-08-21 19:30:26.495617: I tensorflow/stream_executor/cuda/cudart_stub.cc:29] Ignore above cudart dlerror if you do not have a GPU set up on your machine.\n",
      "2022-08-21 19:30:28.311828: W tensorflow/stream_executor/platform/default/dso_loader.cc:64] Could not load dynamic library 'libcuda.so.1'; dlerror: libcuda.so.1: cannot open shared object file: No such file or directory\n",
      "2022-08-21 19:30:28.311839: W tensorflow/stream_executor/cuda/cuda_driver.cc:269] failed call to cuInit: UNKNOWN ERROR (303)\n",
      "2022-08-21 19:30:28.311849: I tensorflow/stream_executor/cuda/cuda_diagnostics.cc:156] kernel driver does not appear to be running on this host (genomorro-16t90p): /proc/driver/nvidia/version does not exist\n",
      "2022-08-21 19:30:28.312000: I tensorflow/core/platform/cpu_feature_guard.cc:193] This TensorFlow binary is optimized with oneAPI Deep Neural Network Library (oneDNN) to use the following CPU instructions in performance-critical operations:  AVX2 AVX512F AVX512_VNNI FMA\n",
      "To enable them in other operations, rebuild TensorFlow with the appropriate compiler flags.\n"
     ]
    }
   ],
   "source": [
    "import tensorflow as tf\n",
    "# tu código para la red neuronal del ejercicio 1 aquí\n",
    "model = tf.keras.models.Sequential([\n",
    "    tf.keras.layers.Conv2D(16,(3,3),activation=\"relu\",input_shape=[150,150,3]),\n",
    "    tf.keras.layers.Conv2D(16,(3,3),activation=\"relu\"),\n",
    "    tf.keras.layers.MaxPool2D(2,2),\n",
    "    tf.keras.layers.Conv2D(32,(3,3),activation=\"relu\",input_shape=[150,150,3]),\n",
    "    tf.keras.layers.MaxPool2D(2,2),\n",
    "    tf.keras.layers.Conv2D(64,(3,3),activation=\"relu\",input_shape=[150,150,3]),\n",
    "    tf.keras.layers.MaxPool2D(2,2),\n",
    "    tf.keras.layers.Flatten(),\n",
    "    tf.keras.layers.Dropout(0.2),\n",
    "    tf.keras.layers.Dense(512,activation=\"relu\"),\n",
    "    tf.keras.layers.Dense(1,activation=\"sigmoid\")\n",
    "])"
   ]
  },
  {
   "cell_type": "markdown",
   "metadata": {
    "cell_id": "00015-bbfa9d57-cae7-4296-8535-e6612aeb1f15",
    "deepnote_cell_height": 55,
    "deepnote_cell_type": "markdown",
    "id": "sLI62tLPmkk3"
   },
   "source": [
    "Se comprueba el modelo:"
   ]
  },
  {
   "cell_type": "code",
   "execution_count": 7,
   "metadata": {
    "cell_id": "00016-e0bc55b7-76da-43ca-94f3-a2bd47e05a26",
    "colab": {
     "base_uri": "https://localhost:8080/"
    },
    "deepnote_cell_height": 696,
    "deepnote_cell_type": "code",
    "deepnote_to_be_reexecuted": false,
    "execution_millis": 98,
    "execution_start": 1660352647653,
    "id": "soiJZ6sTf0dt",
    "outputId": "1362a9b8-5bb9-4230-aa8f-b8799d2ca269",
    "output_cleared": false,
    "source_hash": "4e6a3b95"
   },
   "outputs": [
    {
     "name": "stdout",
     "output_type": "stream",
     "text": [
      "Model: \"sequential\"\n",
      "_________________________________________________________________\n",
      " Layer (type)                Output Shape              Param #   \n",
      "=================================================================\n",
      " conv2d (Conv2D)             (None, 148, 148, 16)      448       \n",
      "                                                                 \n",
      " conv2d_1 (Conv2D)           (None, 146, 146, 16)      2320      \n",
      "                                                                 \n",
      " max_pooling2d (MaxPooling2D  (None, 73, 73, 16)       0         \n",
      " )                                                               \n",
      "                                                                 \n",
      " conv2d_2 (Conv2D)           (None, 71, 71, 32)        4640      \n",
      "                                                                 \n",
      " max_pooling2d_1 (MaxPooling  (None, 35, 35, 32)       0         \n",
      " 2D)                                                             \n",
      "                                                                 \n",
      " conv2d_3 (Conv2D)           (None, 33, 33, 64)        18496     \n",
      "                                                                 \n",
      " max_pooling2d_2 (MaxPooling  (None, 16, 16, 64)       0         \n",
      " 2D)                                                             \n",
      "                                                                 \n",
      " flatten (Flatten)           (None, 16384)             0         \n",
      "                                                                 \n",
      " dropout (Dropout)           (None, 16384)             0         \n",
      "                                                                 \n",
      " dense (Dense)               (None, 512)               8389120   \n",
      "                                                                 \n",
      " dense_1 (Dense)             (None, 1)                 513       \n",
      "                                                                 \n",
      "=================================================================\n",
      "Total params: 8,415,537\n",
      "Trainable params: 8,415,537\n",
      "Non-trainable params: 0\n",
      "_________________________________________________________________\n"
     ]
    }
   ],
   "source": [
    "model.summary()"
   ]
  },
  {
   "cell_type": "markdown",
   "metadata": {
    "cell_id": "00017-30536921-4f9c-4d6d-8d33-2a204d9afe02",
    "deepnote_cell_height": 80,
    "deepnote_cell_type": "markdown",
    "id": "vnlqmJZwmpbe"
   },
   "source": [
    "**Ejercicio 2 (1 punto)**: A continuación habrá que compilar el modelo, para ello usar el optimizador RMSprop, para el loss. Se debe tener en cuenta los elementos a  clasificar, en este caso perros y gatos (un clasificador binario). Como métrica mostrar la precisión."
   ]
  },
  {
   "cell_type": "code",
   "execution_count": 8,
   "metadata": {
    "cell_id": "00018-80505972-1882-4485-be3e-30ebde968f35",
    "deepnote_cell_height": 130,
    "deepnote_cell_type": "code",
    "deepnote_to_be_reexecuted": false,
    "execution_millis": 182673,
    "execution_start": 1660352647795,
    "id": "INmfVD--f0dw",
    "source_hash": "2422eb6a"
   },
   "outputs": [],
   "source": [
    "# tu código para la compilación del ejercicio 2 aquí\n",
    "model.compile(loss='binary_crossentropy',\n",
    "            optimizer='RMSprop',\n",
    "            metrics=['accuracy'])"
   ]
  },
  {
   "cell_type": "markdown",
   "metadata": {
    "cell_id": "00019-928e592a-6afa-4e80-b655-2c147d9a2a29",
    "deepnote_cell_height": 82,
    "deepnote_cell_type": "markdown",
    "id": "J9W81gXjf0dy",
    "tags": []
   },
   "source": [
    "# 2. Preprocesamiento de los datos"
   ]
  },
  {
   "cell_type": "markdown",
   "metadata": {
    "cell_id": "00020-ad77bf61-029b-47f3-b02d-5b5efcf8f584",
    "deepnote_cell_height": 55,
    "deepnote_cell_type": "markdown",
    "id": "ucuiDYJvmtkz"
   },
   "source": [
    "Una buena practica cuando se trate de clasificar imagenes, es pretratar los datos (imagenes) para mejorar la precisión de la CNN"
   ]
  },
  {
   "cell_type": "code",
   "execution_count": 9,
   "metadata": {
    "cell_id": "00021-32d9dbca-3d1a-4331-95cf-f67aa507d210",
    "colab": {
     "base_uri": "https://localhost:8080/"
    },
    "deepnote_cell_height": 485,
    "deepnote_cell_type": "code",
    "deepnote_to_be_reexecuted": false,
    "execution_millis": 146,
    "execution_start": 1660352647845,
    "id": "yEY85eFUf0dz",
    "outputId": "9aedd42b-99ba-4019-e452-85a7b19f2fc3",
    "output_cleared": false,
    "source_hash": "dde89990"
   },
   "outputs": [
    {
     "name": "stdout",
     "output_type": "stream",
     "text": [
      "Found 2000 images belonging to 2 classes.\n",
      "Found 1000 images belonging to 2 classes.\n"
     ]
    }
   ],
   "source": [
    "from tensorflow.keras.preprocessing.image import ImageDataGenerator\n",
    "\n",
    "# Todas las imagenes tienen que ser reescaldas a 1./255.\n",
    "train_datagen = ImageDataGenerator( rescale = 1.0/255. )\n",
    "test_datagen  = ImageDataGenerator( rescale = 1.0/255. )\n",
    "\n",
    "# --------------------\n",
    "# Flujo de imagenes de entrenamiento en batches de 20 usando el \"train_datagen generator\"\n",
    "# --------------------\n",
    "train_generator = train_datagen.flow_from_directory(train_dir,\n",
    "                                                    batch_size=20,\n",
    "                                                    class_mode='binary',\n",
    "                                                    target_size=(150, 150))     \n",
    "# --------------------\n",
    "# Flujo de imagenes de entrenamiento en batches de 20 usando el \"test_datagen generator\"\n",
    "# --------------------\n",
    "validation_generator =  test_datagen.flow_from_directory(validation_dir,\n",
    "                                                         batch_size=20,\n",
    "                                                         class_mode  = 'binary',\n",
    "                                                         target_size = (150, 150))"
   ]
  },
  {
   "cell_type": "markdown",
   "metadata": {
    "cell_id": "00022-13826f29-e9c2-4512-ace3-26ac651e4e95",
    "deepnote_cell_height": 82,
    "deepnote_cell_type": "markdown",
    "id": "B4xk34Xsf0d5",
    "tags": []
   },
   "source": [
    "# 3. Construcción del modelo, entreno y validación"
   ]
  },
  {
   "cell_type": "markdown",
   "metadata": {
    "cell_id": "00023-a5c6e749-2b91-4d09-be3f-a67590884738",
    "deepnote_cell_height": 105,
    "deepnote_cell_type": "markdown",
    "id": "c4OWUu6cm1X0"
   },
   "source": [
    "**Ejercicio 3 (1 puntos)**: Para concluir la creación de la CNN para la clasificación de perros y gatos, falta entrenar la red neuronal. Para ello escribir, crear la variable \"history\" y guardar en esa variable el modelo entrenado de la CNN. Para el entrenamiento, se deberán definir los \"step_per_epoch\", el número de \"epochs\", el número de \"validation_steps\" y usar \"verbose=2\"."
   ]
  },
  {
   "cell_type": "code",
   "execution_count": 10,
   "metadata": {
    "cell_id": "00024-95c65dc7-89f0-4938-822a-864b13e42dd4",
    "colab": {
     "base_uri": "https://localhost:8080/"
    },
    "deepnote_cell_height": 840,
    "deepnote_cell_type": "code",
    "deepnote_to_be_reexecuted": false,
    "execution_millis": 8428086,
    "execution_start": 1660352647970,
    "id": "0Xe5DBZOf0d5",
    "outputId": "ede892d2-fb76-4c5a-e656-ac3b9abb3932",
    "output_cleared": false,
    "source_hash": "e43a56b0"
   },
   "outputs": [
    {
     "name": "stdout",
     "output_type": "stream",
     "text": [
      "Epoch 1/40\n",
      "100/100 - 11s - loss: 0.7369 - accuracy: 0.5010 - val_loss: 0.6822 - val_accuracy: 0.5890 - 11s/epoch - 114ms/step\n",
      "Epoch 2/40\n",
      "100/100 - 11s - loss: 0.6720 - accuracy: 0.6005 - val_loss: 0.5952 - val_accuracy: 0.6920 - 11s/epoch - 108ms/step\n",
      "Epoch 3/40\n",
      "100/100 - 12s - loss: 0.5917 - accuracy: 0.6815 - val_loss: 0.6034 - val_accuracy: 0.6720 - 12s/epoch - 118ms/step\n",
      "Epoch 4/40\n",
      "100/100 - 12s - loss: 0.5445 - accuracy: 0.7305 - val_loss: 0.5722 - val_accuracy: 0.6990 - 12s/epoch - 123ms/step\n",
      "Epoch 5/40\n",
      "100/100 - 13s - loss: 0.4686 - accuracy: 0.7860 - val_loss: 0.5456 - val_accuracy: 0.7160 - 13s/epoch - 127ms/step\n",
      "Epoch 6/40\n",
      "100/100 - 13s - loss: 0.4079 - accuracy: 0.8215 - val_loss: 0.5782 - val_accuracy: 0.7170 - 13s/epoch - 127ms/step\n",
      "Epoch 7/40\n",
      "100/100 - 13s - loss: 0.3360 - accuracy: 0.8490 - val_loss: 0.5969 - val_accuracy: 0.7310 - 13s/epoch - 129ms/step\n",
      "Epoch 8/40\n",
      "100/100 - 13s - loss: 0.2690 - accuracy: 0.8865 - val_loss: 0.6766 - val_accuracy: 0.7200 - 13s/epoch - 130ms/step\n",
      "Epoch 9/40\n",
      "100/100 - 13s - loss: 0.1992 - accuracy: 0.9150 - val_loss: 0.7207 - val_accuracy: 0.7470 - 13s/epoch - 131ms/step\n",
      "Epoch 10/40\n",
      "100/100 - 13s - loss: 0.1480 - accuracy: 0.9400 - val_loss: 0.9141 - val_accuracy: 0.7370 - 13s/epoch - 132ms/step\n",
      "Epoch 11/40\n",
      "100/100 - 12s - loss: 0.1109 - accuracy: 0.9530 - val_loss: 1.1249 - val_accuracy: 0.7130 - 12s/epoch - 119ms/step\n",
      "Epoch 12/40\n",
      "100/100 - 12s - loss: 0.0890 - accuracy: 0.9715 - val_loss: 1.2589 - val_accuracy: 0.7120 - 12s/epoch - 115ms/step\n",
      "Epoch 13/40\n",
      "100/100 - 13s - loss: 0.0614 - accuracy: 0.9755 - val_loss: 1.3871 - val_accuracy: 0.7090 - 13s/epoch - 127ms/step\n",
      "Epoch 14/40\n",
      "100/100 - 13s - loss: 0.0696 - accuracy: 0.9775 - val_loss: 1.2580 - val_accuracy: 0.7390 - 13s/epoch - 135ms/step\n",
      "Epoch 15/40\n",
      "100/100 - 14s - loss: 0.0633 - accuracy: 0.9810 - val_loss: 1.3604 - val_accuracy: 0.7200 - 14s/epoch - 139ms/step\n",
      "Epoch 16/40\n",
      "100/100 - 14s - loss: 0.0361 - accuracy: 0.9900 - val_loss: 2.1253 - val_accuracy: 0.6940 - 14s/epoch - 136ms/step\n",
      "Epoch 17/40\n",
      "100/100 - 14s - loss: 0.0823 - accuracy: 0.9790 - val_loss: 1.5125 - val_accuracy: 0.7320 - 14s/epoch - 138ms/step\n",
      "Epoch 18/40\n",
      "100/100 - 14s - loss: 0.0370 - accuracy: 0.9855 - val_loss: 1.2671 - val_accuracy: 0.7120 - 14s/epoch - 138ms/step\n",
      "Epoch 19/40\n",
      "100/100 - 14s - loss: 0.0500 - accuracy: 0.9880 - val_loss: 2.1272 - val_accuracy: 0.7330 - 14s/epoch - 139ms/step\n",
      "Epoch 20/40\n",
      "100/100 - 14s - loss: 0.0366 - accuracy: 0.9920 - val_loss: 1.9251 - val_accuracy: 0.7290 - 14s/epoch - 136ms/step\n",
      "Epoch 21/40\n",
      "100/100 - 14s - loss: 0.0403 - accuracy: 0.9850 - val_loss: 1.9910 - val_accuracy: 0.7290 - 14s/epoch - 142ms/step\n",
      "Epoch 22/40\n",
      "100/100 - 14s - loss: 0.0404 - accuracy: 0.9880 - val_loss: 1.7393 - val_accuracy: 0.7280 - 14s/epoch - 142ms/step\n",
      "Epoch 23/40\n",
      "100/100 - 14s - loss: 0.0297 - accuracy: 0.9930 - val_loss: 2.4265 - val_accuracy: 0.7370 - 14s/epoch - 144ms/step\n",
      "Epoch 24/40\n",
      "100/100 - 14s - loss: 0.0347 - accuracy: 0.9905 - val_loss: 2.0139 - val_accuracy: 0.7180 - 14s/epoch - 143ms/step\n",
      "Epoch 25/40\n",
      "100/100 - 14s - loss: 0.0249 - accuracy: 0.9930 - val_loss: 2.5965 - val_accuracy: 0.7270 - 14s/epoch - 139ms/step\n",
      "Epoch 26/40\n",
      "100/100 - 14s - loss: 0.0349 - accuracy: 0.9910 - val_loss: 2.0292 - val_accuracy: 0.7440 - 14s/epoch - 144ms/step\n",
      "Epoch 27/40\n",
      "100/100 - 14s - loss: 0.0258 - accuracy: 0.9915 - val_loss: 2.4989 - val_accuracy: 0.7310 - 14s/epoch - 138ms/step\n",
      "Epoch 28/40\n",
      "100/100 - 14s - loss: 0.0238 - accuracy: 0.9930 - val_loss: 2.6813 - val_accuracy: 0.7480 - 14s/epoch - 140ms/step\n",
      "Epoch 29/40\n",
      "100/100 - 14s - loss: 0.0235 - accuracy: 0.9955 - val_loss: 2.8259 - val_accuracy: 0.6990 - 14s/epoch - 143ms/step\n",
      "Epoch 30/40\n",
      "100/100 - 14s - loss: 0.0432 - accuracy: 0.9890 - val_loss: 3.1543 - val_accuracy: 0.7010 - 14s/epoch - 142ms/step\n",
      "Epoch 31/40\n",
      "100/100 - 14s - loss: 0.0374 - accuracy: 0.9905 - val_loss: 2.5555 - val_accuracy: 0.7200 - 14s/epoch - 142ms/step\n",
      "Epoch 32/40\n",
      "100/100 - 14s - loss: 0.0135 - accuracy: 0.9955 - val_loss: 2.8078 - val_accuracy: 0.7270 - 14s/epoch - 139ms/step\n",
      "Epoch 33/40\n",
      "100/100 - 14s - loss: 0.0239 - accuracy: 0.9935 - val_loss: 4.1154 - val_accuracy: 0.7020 - 14s/epoch - 138ms/step\n",
      "Epoch 34/40\n",
      "100/100 - 14s - loss: 0.0186 - accuracy: 0.9980 - val_loss: 3.8113 - val_accuracy: 0.7320 - 14s/epoch - 142ms/step\n",
      "Epoch 35/40\n",
      "100/100 - 14s - loss: 0.0371 - accuracy: 0.9895 - val_loss: 3.4118 - val_accuracy: 0.7230 - 14s/epoch - 138ms/step\n",
      "Epoch 36/40\n",
      "100/100 - 14s - loss: 0.0343 - accuracy: 0.9920 - val_loss: 2.6777 - val_accuracy: 0.7380 - 14s/epoch - 140ms/step\n",
      "Epoch 37/40\n",
      "100/100 - 14s - loss: 0.0162 - accuracy: 0.9930 - val_loss: 3.3920 - val_accuracy: 0.7310 - 14s/epoch - 138ms/step\n",
      "Epoch 38/40\n",
      "100/100 - 14s - loss: 0.0265 - accuracy: 0.9920 - val_loss: 3.9839 - val_accuracy: 0.7360 - 14s/epoch - 137ms/step\n",
      "Epoch 39/40\n",
      "100/100 - 14s - loss: 0.0184 - accuracy: 0.9955 - val_loss: 3.7491 - val_accuracy: 0.7460 - 14s/epoch - 138ms/step\n",
      "Epoch 40/40\n",
      "100/100 - 14s - loss: 0.0259 - accuracy: 0.9935 - val_loss: 4.2365 - val_accuracy: 0.7340 - 14s/epoch - 140ms/step\n"
     ]
    }
   ],
   "source": [
    "# tu código para la variable history que guarda el entrenamiento de la CNN del ejercicio 3 aquí\n",
    "history = model.fit(\n",
    "    train_generator,\n",
    "    epochs=40,\n",
    "    steps_per_epoch=len(train_generator),\n",
    "    validation_data=validation_generator,\n",
    "    validation_steps=len(validation_generator),\n",
    "    verbose=2\n",
    ")"
   ]
  },
  {
   "cell_type": "markdown",
   "metadata": {
    "cell_id": "00025-a6370865-5af5-4fd9-9949-0e99d85faffb",
    "deepnote_cell_height": 82,
    "deepnote_cell_type": "markdown",
    "id": "AEJ3QJPRf0eA",
    "jp-MarkdownHeadingCollapsed": true,
    "tags": []
   },
   "source": [
    "# 4. Evaluando la precisión y la perdida del modelo\n"
   ]
  },
  {
   "cell_type": "code",
   "execution_count": 11,
   "metadata": {
    "cell_id": "00026-a84729b0-5b50-4b56-bb4f-681f9033dc22",
    "colab": {
     "base_uri": "https://localhost:8080/",
     "height": 545
    },
    "deepnote_cell_height": 1182,
    "deepnote_cell_type": "code",
    "deepnote_output_heights": [
     266,
     266
    ],
    "deepnote_to_be_reexecuted": false,
    "execution_millis": 2108,
    "execution_start": 1660361076082,
    "id": "lvceXWnBf0eA",
    "outputId": "eb979888-756d-4226-d3d0-6298879f3874",
    "output_cleared": false,
    "source_hash": "791d9186"
   },
   "outputs": [
    {
     "data": {
      "image/png": "[encoded data removed]",
      "text/plain": [
       "<Figure size 432x288 with 1 Axes>"
      ]
     },
     "metadata": {
      "needs_background": "light"
     },
     "output_type": "display_data"
    },
    {
     "data": {
      "image/png": "[encoded data removed]",
      "text/plain": [
       "<Figure size 432x288 with 1 Axes>"
      ]
     },
     "metadata": {
      "needs_background": "light"
     },
     "output_type": "display_data"
    }
   ],
   "source": [
    "#-----------------------------------------------------------\n",
    "# Recuperar una lista de resultados de la lista de datos de los conjuntos de entrenamiento y pruebas para cada epoch de entrenamiento\n",
    "#-----------------------------------------------------------\n",
    "import matplotlib.pyplot as plt\n",
    "\n",
    "acc = history.history['accuracy']\n",
    "val_acc = history.history['val_accuracy']\n",
    "loss = history.history['loss']\n",
    "val_loss = history.history['val_loss']\n",
    "\n",
    "epochs = range(len(acc))\n",
    "\n",
    "#------------------------------------------------\n",
    "# Imprimir la precisión del entrenamiento y validación por epoch\n",
    "#------------------------------------------------\n",
    "plt.plot(epochs, acc, 'bo', label='Training accuracy')\n",
    "plt.plot(epochs, val_acc, 'b', label='Validation accuracy')\n",
    "plt.title('Precisión de entrenamiento y validación')\n",
    "\n",
    "plt.figure()\n",
    "\n",
    "#------------------------------------------------\n",
    "# Imprimir la perdida de entrenamiento y validación por epoch\n",
    "#------------------------------------------------\n",
    "plt.plot(epochs, loss, 'bo', label='Training Loss')\n",
    "plt.plot(epochs, val_loss, 'b', label='Validation Loss')\n",
    "plt.title('Perdida de entrenamiento y validación')\n",
    "plt.legend()\n",
    "\n",
    "plt.show()"
   ]
  },
  {
   "cell_type": "markdown",
   "metadata": {
    "cell_id": "00027-75a5888b-e344-475a-8aaa-5115b1ebb17a",
    "deepnote_cell_height": 960,
    "deepnote_cell_type": "markdown",
    "id": "dO0ADpvwf0eD"
   },
   "source": [
    "Como se puede observar, este es un claro ejemplo de overfitting, algo que naturalmente se quiere evitar para que las redes neuronales sean lo más precisas posibles.\n",
    "\n",
    "**Ejercicio 4 (3 puntos)**: Para soluciónar este problema, se debe rehacer algunas partes del código anterior utilizando las técnicas de regularización aprendidas en clase, como el data augmentation.\n",
    "\n",
    "*Consejo*: Volver a escribir otra vez todas las secciones y cambiar el código necesario aplicando las técnicas de regularización elegidas. Se debe recordar que este tipo de técnicas se suele usar en el preprocesamiento de los datos.\n",
    "\n",
    "*Aclaración*: Se espera que al menos se use una de las técnicas de regularización aprendidas en clase. Se valorará positivamente razonar el motivo del uso de la técnica escogida (o escogidas en el caso de ser varias) y no las otras.\n",
    "\n",
    "A modo orientativo, se espera obtener un resultado gráfico similar a este:\n",
    "\n",
    "![2.png](data:image/png;base64,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)\n",
    "![1.png](data:image/png;base64,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)"
   ]
  },
  {
   "cell_type": "markdown",
   "metadata": {
    "cell_id": "d94a324898334730939dc76c5e9dab26",
    "deepnote_cell_height": 148,
    "deepnote_cell_type": "markdown",
    "id": "BXuaM_xTft2U",
    "tags": []
   },
   "source": [
    "# 5. Corrección\n",
    "\n",
    "Primero se mejora el generador de imágenes. Este generador es muy popular, es usado incluso en el material de clase del curso. Permite tener diversas variantes de la misma imagen."
   ]
  },
  {
   "cell_type": "code",
   "execution_count": 12,
   "metadata": {
    "allow_embed": false,
    "cell_id": "cbd1d69826d2428fa6bf26ca756e5c92",
    "colab": {
     "base_uri": "https://localhost:8080/"
    },
    "deepnote_cell_height": 719,
    "deepnote_cell_type": "code",
    "deepnote_to_be_reexecuted": false,
    "execution_millis": 203,
    "execution_start": 1660361078185,
    "id": "u3i--5PTFTMy",
    "outputId": "bbc289dd-310f-48a9-f1cf-d9b1c0fcd517",
    "output_cleared": false,
    "source_hash": "52084e51"
   },
   "outputs": [],
   "source": [
    "### Tu código aquí para la reducción del overfitting del ejercicio 4 aquí ###\n",
    "# Importar todas las librerías necesarias para esta sección\n",
    "from tensorflow.keras.preprocessing.image import ImageDataGenerator\n",
    "from tensorflow.keras.callbacks import TensorBoard, EarlyStopping\n",
    "import gc\n",
    "import numpy as np\n",
    "import tensorflow as tf"
   ]
  },
  {
   "cell_type": "code",
   "execution_count": 13,
   "metadata": {
    "allow_embed": false,
    "cell_id": "cbd1d69826d2428fa6bf26ca756e5c92",
    "colab": {
     "base_uri": "https://localhost:8080/"
    },
    "deepnote_cell_height": 719,
    "deepnote_cell_type": "code",
    "deepnote_to_be_reexecuted": false,
    "execution_millis": 203,
    "execution_start": 1660361078185,
    "id": "u3i--5PTFTMy",
    "outputId": "bbc289dd-310f-48a9-f1cf-d9b1c0fcd517",
    "output_cleared": false,
    "source_hash": "52084e51"
   },
   "outputs": [
    {
     "name": "stdout",
     "output_type": "stream",
     "text": [
      "Found 2000 images belonging to 2 classes.\n",
      "Found 1000 images belonging to 2 classes.\n"
     ]
    }
   ],
   "source": [
    "# Todas las imagenes tienen que ser reescaldas a 1./255.\n",
    "train_datagen = ImageDataGenerator(\n",
    "    rescale = 1.0/255.,\n",
    "    horizontal_flip=True,\n",
    "    vertical_flip=True,\n",
    "    zoom_range=0.2,\n",
    "    shear_range=0.7,\n",
    "    height_shift_range=0.2,\n",
    "    width_shift_range=0.2,\n",
    "    rotation_range=40,\n",
    "    brightness_range=[0.8,1.2],\n",
    "    fill_mode=\"nearest\"\n",
    "    )\n",
    "test_datagen  = ImageDataGenerator( rescale = 1.0/255.)\n",
    "\n",
    "# --------------------\n",
    "# Flujo de imagenes de entrenamiento en batches de 20 usando el \"train_datagen generator\"\n",
    "# --------------------\n",
    "train_generator = train_datagen.flow_from_directory(train_dir,\n",
    "                                                    batch_size=100,\n",
    "                                                    class_mode='binary',\n",
    "                                                    shuffle=True,\n",
    "                                                    target_size=(150, 150))     \n",
    "# --------------------\n",
    "# Flujo de imagenes de entrenamiento en batches de 20 usando el \"test_datagen generator\"\n",
    "# --------------------\n",
    "validation_generator =  test_datagen.flow_from_directory(validation_dir,\n",
    "                                                         batch_size=100,\n",
    "                                                         class_mode  = 'binary',\n",
    "                                                         target_size = (150, 150))"
   ]
  },
  {
   "cell_type": "markdown",
   "metadata": {},
   "source": [
    "Para examinar los resultados de este ejercicio se usará la herramienta `TensorBoard`, que permite generar gráficas mientras aprende la red neuronal. Además, permite comparar fácilmente los gráficos obtenidos.\n",
    "\n",
    "Ahora mismo TensorBoard muestra los resultados de la presente práctica, mismos que serán sobreescritos si se ejecutan los modelos posteriores a la siguiente celda."
   ]
  },
  {
   "cell_type": "code",
   "execution_count": 14,
   "metadata": {},
   "outputs": [
    {
     "data": {
      "text/html": [
       "\n",
       "      <iframe id=\"tensorboard-frame-8aaf4635b55f4054\" width=\"100%\" height=\"800\" frameborder=\"0\">\n",
       "      </iframe>\n",
       "      <script>\n",
       "        (function() {\n",
       "          const frame = document.getElementById(\"tensorboard-frame-8aaf4635b55f4054\");\n",
       "          const url = new URL(\"/\", window.location);\n",
       "          const port = 6006;\n",
       "          if (port) {\n",
       "            url.port = port;\n",
       "          }\n",
       "          frame.src = url;\n",
       "        })();\n",
       "      </script>\n",
       "    "
      ],
      "text/plain": [
       "<IPython.core.display.HTML object>"
      ]
     },
     "metadata": {},
     "output_type": "display_data"
    }
   ],
   "source": [
    "# Iniciar tensorboard\n",
    "# Se creará una ventana, podrá seguir desde ahí el avance de los modelos.\n",
    "# Se pueden observar los detalles con mayor comodidad en http://localhost:6006\n",
    "%load_ext tensorboard\n",
    "%tensorboard --logdir out/logs"
   ]
  },
  {
   "cell_type": "markdown",
   "metadata": {},
   "source": [
    "Se crean algunos callbacks que sirven para que TensorBoard registre la información con la cual funcionará."
   ]
  },
  {
   "cell_type": "code",
   "execution_count": 15,
   "metadata": {},
   "outputs": [],
   "source": [
    "# Callbacks para el uso de tensorboard\n",
    "cb_m0 = tf.keras.callbacks.TensorBoard(log_dir='out/logs/m0', histogram_freq=1)\n",
    "cb_m1 = tf.keras.callbacks.TensorBoard(log_dir='out/logs/m1', histogram_freq=1)"
   ]
  },
  {
   "cell_type": "markdown",
   "metadata": {
    "cell_id": "00030-045af78c-f62b-4c9f-a5dd-c71bb56b47a8",
    "deepnote_cell_height": 70,
    "deepnote_cell_type": "markdown",
    "id": "-dKiX1FkjIbE",
    "tags": []
   },
   "source": [
    "## Modelo 0 o modelo de referencia\n",
    "\n",
    "Primero se probará la misma red neuronal con el nuevo aumento de datos y se observará cual su mejora."
   ]
  },
  {
   "cell_type": "code",
   "execution_count": 16,
   "metadata": {
    "cell_id": "c9008d5e2af343038fc70a2101be271b",
    "colab": {
     "base_uri": "https://localhost:8080/"
    },
    "deepnote_cell_height": 1002,
    "deepnote_cell_type": "code",
    "deepnote_to_be_reexecuted": false,
    "execution_millis": 380,
    "execution_start": 1660361078394,
    "id": "6iHXXU1_ft2U",
    "outputId": "6b4cbb62-c38e-493a-a265-7f5fd4c3cbca",
    "output_cleared": false,
    "source_hash": "d901d56",
    "tags": []
   },
   "outputs": [
    {
     "name": "stdout",
     "output_type": "stream",
     "text": [
      "Model: \"sequential\"\n",
      "_________________________________________________________________\n",
      " Layer (type)                Output Shape              Param #   \n",
      "=================================================================\n",
      " conv2d (Conv2D)             (None, 148, 148, 16)      448       \n",
      "                                                                 \n",
      " conv2d_1 (Conv2D)           (None, 146, 146, 16)      2320      \n",
      "                                                                 \n",
      " max_pooling2d (MaxPooling2D  (None, 73, 73, 16)       0         \n",
      " )                                                               \n",
      "                                                                 \n",
      " conv2d_2 (Conv2D)           (None, 71, 71, 32)        4640      \n",
      "                                                                 \n",
      " max_pooling2d_1 (MaxPooling  (None, 35, 35, 32)       0         \n",
      " 2D)                                                             \n",
      "                                                                 \n",
      " conv2d_3 (Conv2D)           (None, 33, 33, 64)        18496     \n",
      "                                                                 \n",
      " max_pooling2d_2 (MaxPooling  (None, 16, 16, 64)       0         \n",
      " 2D)                                                             \n",
      "                                                                 \n",
      " flatten (Flatten)           (None, 16384)             0         \n",
      "                                                                 \n",
      " dropout (Dropout)           (None, 16384)             0         \n",
      "                                                                 \n",
      " dense (Dense)               (None, 512)               8389120   \n",
      "                                                                 \n",
      " dense_1 (Dense)             (None, 1)                 513       \n",
      "                                                                 \n",
      "=================================================================\n",
      "Total params: 8,415,537\n",
      "Trainable params: 8,415,537\n",
      "Non-trainable params: 0\n",
      "_________________________________________________________________\n"
     ]
    }
   ],
   "source": [
    "model.summary()"
   ]
  },
  {
   "cell_type": "markdown",
   "metadata": {},
   "source": [
    "Al llamar la función `fit()`, cambiará la sustitución del parámetro `verbose` por un callback para TensorBoard y el número de épocas se eleva a 100, valor que servirá para observar un comportamiento para establecer un mejor valor."
   ]
  },
  {
   "cell_type": "code",
   "execution_count": 17,
   "metadata": {
    "allow_embed": false,
    "cell_id": "ec454a53148c42d39ef3fd2b848a3f14",
    "colab": {
     "base_uri": "https://localhost:8080/"
    },
    "deepnote_cell_height": 912,
    "deepnote_cell_type": "code",
    "deepnote_to_be_reexecuted": false,
    "execution_millis": 20388136,
    "execution_start": 1660361078813,
    "id": "NL4Fxc-fjRRN",
    "outputId": "7416bec9-d82e-4bbf-cb51-59e0a87daa37",
    "output_cleared": false,
    "scrolled": true,
    "source_hash": "540fba48",
    "tags": []
   },
   "outputs": [
    {
     "name": "stdout",
     "output_type": "stream",
     "text": [
      "Epoch 1/100\n",
      "20/20 [==============================] - 11s 537ms/step - loss: 1.0812 - accuracy: 0.5000 - val_loss: 0.6917 - val_accuracy: 0.5000\n",
      "Epoch 2/100\n",
      "20/20 [==============================] - 11s 570ms/step - loss: 0.6923 - accuracy: 0.5095 - val_loss: 0.6889 - val_accuracy: 0.5600\n",
      "Epoch 3/100\n",
      "20/20 [==============================] - 12s 606ms/step - loss: 0.6931 - accuracy: 0.5385 - val_loss: 0.6871 - val_accuracy: 0.5050\n",
      "Epoch 4/100\n",
      "20/20 [==============================] - 13s 640ms/step - loss: 0.6850 - accuracy: 0.5745 - val_loss: 0.8649 - val_accuracy: 0.5000\n",
      "Epoch 5/100\n",
      "20/20 [==============================] - 13s 657ms/step - loss: 0.6959 - accuracy: 0.5650 - val_loss: 0.6734 - val_accuracy: 0.6060\n",
      "Epoch 6/100\n",
      "20/20 [==============================] - 14s 707ms/step - loss: 0.6743 - accuracy: 0.5670 - val_loss: 0.6537 - val_accuracy: 0.6140\n",
      "Epoch 7/100\n",
      "20/20 [==============================] - 15s 735ms/step - loss: 0.6844 - accuracy: 0.5870 - val_loss: 0.6446 - val_accuracy: 0.6130\n",
      "Epoch 8/100\n",
      "20/20 [==============================] - 15s 725ms/step - loss: 0.6636 - accuracy: 0.6030 - val_loss: 0.6200 - val_accuracy: 0.6680\n",
      "Epoch 9/100\n",
      "20/20 [==============================] - 15s 723ms/step - loss: 0.6637 - accuracy: 0.6100 - val_loss: 0.6164 - val_accuracy: 0.6490\n",
      "Epoch 10/100\n",
      "20/20 [==============================] - 15s 739ms/step - loss: 0.6592 - accuracy: 0.6145 - val_loss: 0.6232 - val_accuracy: 0.6790\n",
      "Epoch 11/100\n",
      "20/20 [==============================] - 15s 728ms/step - loss: 0.6587 - accuracy: 0.6320 - val_loss: 0.6318 - val_accuracy: 0.6740\n",
      "Epoch 12/100\n",
      "20/20 [==============================] - 15s 730ms/step - loss: 0.6348 - accuracy: 0.6330 - val_loss: 0.5864 - val_accuracy: 0.6800\n",
      "Epoch 13/100\n",
      "20/20 [==============================] - 15s 733ms/step - loss: 0.6423 - accuracy: 0.6315 - val_loss: 0.5944 - val_accuracy: 0.6940\n",
      "Epoch 14/100\n",
      "20/20 [==============================] - 15s 736ms/step - loss: 0.6174 - accuracy: 0.6560 - val_loss: 0.5828 - val_accuracy: 0.6890\n",
      "Epoch 15/100\n",
      "20/20 [==============================] - 15s 741ms/step - loss: 0.6319 - accuracy: 0.6310 - val_loss: 0.6314 - val_accuracy: 0.6270\n",
      "Epoch 16/100\n",
      "20/20 [==============================] - 15s 732ms/step - loss: 0.6408 - accuracy: 0.6460 - val_loss: 0.6388 - val_accuracy: 0.6490\n",
      "Epoch 17/100\n",
      "20/20 [==============================] - 15s 732ms/step - loss: 0.6188 - accuracy: 0.6695 - val_loss: 0.6907 - val_accuracy: 0.6030\n",
      "Epoch 18/100\n",
      "20/20 [==============================] - 15s 728ms/step - loss: 0.6241 - accuracy: 0.6495 - val_loss: 0.6188 - val_accuracy: 0.6490\n",
      "Epoch 19/100\n",
      "20/20 [==============================] - 15s 732ms/step - loss: 0.6186 - accuracy: 0.6515 - val_loss: 0.5735 - val_accuracy: 0.6940\n",
      "Epoch 20/100\n",
      "20/20 [==============================] - 15s 735ms/step - loss: 0.5986 - accuracy: 0.6735 - val_loss: 0.6071 - val_accuracy: 0.6920\n",
      "Epoch 21/100\n",
      "20/20 [==============================] - 15s 729ms/step - loss: 0.6030 - accuracy: 0.6680 - val_loss: 0.5596 - val_accuracy: 0.7120\n",
      "Epoch 22/100\n",
      "20/20 [==============================] - 15s 725ms/step - loss: 0.5908 - accuracy: 0.6820 - val_loss: 0.5825 - val_accuracy: 0.6920\n",
      "Epoch 23/100\n",
      "20/20 [==============================] - 15s 730ms/step - loss: 0.6352 - accuracy: 0.6585 - val_loss: 0.5951 - val_accuracy: 0.6730\n",
      "Epoch 24/100\n",
      "20/20 [==============================] - 15s 733ms/step - loss: 0.5783 - accuracy: 0.6975 - val_loss: 0.5682 - val_accuracy: 0.6910\n",
      "Epoch 25/100\n",
      "20/20 [==============================] - 15s 730ms/step - loss: 0.5951 - accuracy: 0.6700 - val_loss: 0.5671 - val_accuracy: 0.6780\n",
      "Epoch 26/100\n",
      "20/20 [==============================] - 15s 725ms/step - loss: 0.6015 - accuracy: 0.6760 - val_loss: 0.5773 - val_accuracy: 0.6910\n",
      "Epoch 27/100\n",
      "20/20 [==============================] - 15s 733ms/step - loss: 0.5938 - accuracy: 0.6975 - val_loss: 0.6381 - val_accuracy: 0.6670\n",
      "Epoch 28/100\n",
      "20/20 [==============================] - 15s 726ms/step - loss: 0.5874 - accuracy: 0.6895 - val_loss: 0.5565 - val_accuracy: 0.7180\n",
      "Epoch 29/100\n",
      "20/20 [==============================] - 15s 732ms/step - loss: 0.5849 - accuracy: 0.6940 - val_loss: 0.5553 - val_accuracy: 0.7180\n",
      "Epoch 30/100\n",
      "20/20 [==============================] - 15s 739ms/step - loss: 0.5778 - accuracy: 0.6955 - val_loss: 0.5606 - val_accuracy: 0.7230\n",
      "Epoch 31/100\n",
      "20/20 [==============================] - 15s 734ms/step - loss: 0.5761 - accuracy: 0.6850 - val_loss: 0.5753 - val_accuracy: 0.6880\n",
      "Epoch 32/100\n",
      "20/20 [==============================] - 15s 729ms/step - loss: 0.5842 - accuracy: 0.6765 - val_loss: 0.5560 - val_accuracy: 0.7020\n",
      "Epoch 33/100\n",
      "20/20 [==============================] - 15s 735ms/step - loss: 0.5841 - accuracy: 0.6890 - val_loss: 0.5700 - val_accuracy: 0.7120\n",
      "Epoch 34/100\n",
      "20/20 [==============================] - 15s 741ms/step - loss: 0.5839 - accuracy: 0.6950 - val_loss: 0.5729 - val_accuracy: 0.6920\n",
      "Epoch 35/100\n",
      "20/20 [==============================] - 15s 730ms/step - loss: 0.5727 - accuracy: 0.6910 - val_loss: 0.5480 - val_accuracy: 0.7120\n",
      "Epoch 36/100\n",
      "20/20 [==============================] - 15s 728ms/step - loss: 0.5666 - accuracy: 0.7075 - val_loss: 0.5473 - val_accuracy: 0.7190\n",
      "Epoch 37/100\n",
      "20/20 [==============================] - 15s 729ms/step - loss: 0.5607 - accuracy: 0.7080 - val_loss: 0.5741 - val_accuracy: 0.6860\n",
      "Epoch 38/100\n",
      "20/20 [==============================] - 15s 728ms/step - loss: 0.5623 - accuracy: 0.7095 - val_loss: 0.5507 - val_accuracy: 0.7100\n",
      "Epoch 39/100\n",
      "20/20 [==============================] - 15s 732ms/step - loss: 0.5641 - accuracy: 0.6945 - val_loss: 0.5935 - val_accuracy: 0.7150\n",
      "Epoch 40/100\n",
      "20/20 [==============================] - 15s 732ms/step - loss: 0.5758 - accuracy: 0.7075 - val_loss: 0.5338 - val_accuracy: 0.7190\n",
      "Epoch 41/100\n",
      "20/20 [==============================] - 15s 725ms/step - loss: 0.5588 - accuracy: 0.7095 - val_loss: 0.5536 - val_accuracy: 0.7100\n",
      "Epoch 42/100\n",
      "20/20 [==============================] - 15s 729ms/step - loss: 0.6050 - accuracy: 0.6980 - val_loss: 0.5346 - val_accuracy: 0.7300\n",
      "Epoch 43/100\n",
      "20/20 [==============================] - 15s 726ms/step - loss: 0.5436 - accuracy: 0.7170 - val_loss: 0.5413 - val_accuracy: 0.7230\n",
      "Epoch 44/100\n",
      "20/20 [==============================] - 15s 727ms/step - loss: 0.5494 - accuracy: 0.7090 - val_loss: 0.5506 - val_accuracy: 0.7340\n",
      "Epoch 45/100\n",
      "20/20 [==============================] - 15s 732ms/step - loss: 0.5503 - accuracy: 0.7070 - val_loss: 0.6625 - val_accuracy: 0.6480\n",
      "Epoch 46/100\n",
      "20/20 [==============================] - 15s 735ms/step - loss: 0.5480 - accuracy: 0.7155 - val_loss: 0.5674 - val_accuracy: 0.7100\n",
      "Epoch 47/100\n",
      "20/20 [==============================] - 15s 737ms/step - loss: 0.5395 - accuracy: 0.7220 - val_loss: 0.5340 - val_accuracy: 0.7250\n",
      "Epoch 48/100\n",
      "20/20 [==============================] - 15s 728ms/step - loss: 0.5450 - accuracy: 0.7180 - val_loss: 0.5339 - val_accuracy: 0.7360\n",
      "Epoch 49/100\n",
      "20/20 [==============================] - 15s 732ms/step - loss: 0.5534 - accuracy: 0.7115 - val_loss: 0.5479 - val_accuracy: 0.7390\n",
      "Epoch 50/100\n",
      "20/20 [==============================] - 15s 727ms/step - loss: 0.5485 - accuracy: 0.7130 - val_loss: 0.5355 - val_accuracy: 0.7400\n",
      "Epoch 51/100\n",
      "20/20 [==============================] - 15s 734ms/step - loss: 0.5376 - accuracy: 0.7285 - val_loss: 0.5854 - val_accuracy: 0.6720\n",
      "Epoch 52/100\n",
      "20/20 [==============================] - 15s 735ms/step - loss: 0.5657 - accuracy: 0.7120 - val_loss: 0.5110 - val_accuracy: 0.7490\n",
      "Epoch 53/100\n",
      "20/20 [==============================] - 15s 733ms/step - loss: 0.5335 - accuracy: 0.7340 - val_loss: 0.5243 - val_accuracy: 0.7460\n",
      "Epoch 54/100\n",
      "20/20 [==============================] - 15s 731ms/step - loss: 0.5278 - accuracy: 0.7375 - val_loss: 0.5192 - val_accuracy: 0.7400\n",
      "Epoch 55/100\n",
      "20/20 [==============================] - 15s 733ms/step - loss: 0.5389 - accuracy: 0.7210 - val_loss: 0.5327 - val_accuracy: 0.7440\n",
      "Epoch 56/100\n",
      "20/20 [==============================] - 15s 729ms/step - loss: 0.5321 - accuracy: 0.7280 - val_loss: 0.5311 - val_accuracy: 0.7480\n",
      "Epoch 57/100\n",
      "20/20 [==============================] - 15s 734ms/step - loss: 0.5358 - accuracy: 0.7165 - val_loss: 0.5561 - val_accuracy: 0.7220\n",
      "Epoch 58/100\n",
      "20/20 [==============================] - 15s 735ms/step - loss: 0.5340 - accuracy: 0.7310 - val_loss: 0.5638 - val_accuracy: 0.7200\n",
      "Epoch 59/100\n",
      "20/20 [==============================] - 15s 731ms/step - loss: 0.5141 - accuracy: 0.7465 - val_loss: 0.5259 - val_accuracy: 0.7300\n",
      "Epoch 60/100\n",
      "20/20 [==============================] - 15s 729ms/step - loss: 0.5391 - accuracy: 0.7285 - val_loss: 0.6069 - val_accuracy: 0.7200\n",
      "Epoch 61/100\n",
      "20/20 [==============================] - 15s 733ms/step - loss: 0.5339 - accuracy: 0.7310 - val_loss: 0.5021 - val_accuracy: 0.7430\n",
      "Epoch 62/100\n",
      "20/20 [==============================] - 15s 731ms/step - loss: 0.5332 - accuracy: 0.7385 - val_loss: 0.4993 - val_accuracy: 0.7500\n",
      "Epoch 63/100\n",
      "20/20 [==============================] - 15s 744ms/step - loss: 0.5107 - accuracy: 0.7405 - val_loss: 0.5652 - val_accuracy: 0.7160\n",
      "Epoch 64/100\n",
      "20/20 [==============================] - 15s 735ms/step - loss: 0.5348 - accuracy: 0.7275 - val_loss: 0.5936 - val_accuracy: 0.6930\n",
      "Epoch 65/100\n",
      "20/20 [==============================] - 15s 733ms/step - loss: 0.5095 - accuracy: 0.7445 - val_loss: 0.5928 - val_accuracy: 0.6900\n",
      "Epoch 66/100\n",
      "20/20 [==============================] - 15s 735ms/step - loss: 0.5201 - accuracy: 0.7355 - val_loss: 0.5124 - val_accuracy: 0.7550\n",
      "Epoch 67/100\n",
      "20/20 [==============================] - 15s 728ms/step - loss: 0.5120 - accuracy: 0.7455 - val_loss: 0.5138 - val_accuracy: 0.7430\n",
      "Epoch 68/100\n",
      "20/20 [==============================] - 15s 739ms/step - loss: 0.5393 - accuracy: 0.7210 - val_loss: 0.5058 - val_accuracy: 0.7530\n",
      "Epoch 69/100\n",
      "20/20 [==============================] - 15s 731ms/step - loss: 0.5143 - accuracy: 0.7485 - val_loss: 0.6563 - val_accuracy: 0.6530\n",
      "Epoch 70/100\n",
      "20/20 [==============================] - 15s 732ms/step - loss: 0.5093 - accuracy: 0.7475 - val_loss: 0.5564 - val_accuracy: 0.7430\n",
      "Epoch 71/100\n",
      "20/20 [==============================] - 15s 730ms/step - loss: 0.5315 - accuracy: 0.7190 - val_loss: 0.5087 - val_accuracy: 0.7430\n",
      "Epoch 72/100\n",
      "20/20 [==============================] - 15s 736ms/step - loss: 0.5110 - accuracy: 0.7420 - val_loss: 0.5445 - val_accuracy: 0.7460\n",
      "Epoch 73/100\n",
      "20/20 [==============================] - 15s 734ms/step - loss: 0.5162 - accuracy: 0.7565 - val_loss: 0.5202 - val_accuracy: 0.7390\n",
      "Epoch 74/100\n",
      "20/20 [==============================] - 15s 733ms/step - loss: 0.5213 - accuracy: 0.7395 - val_loss: 0.5161 - val_accuracy: 0.7520\n",
      "Epoch 75/100\n",
      "20/20 [==============================] - 15s 732ms/step - loss: 0.5147 - accuracy: 0.7430 - val_loss: 0.6214 - val_accuracy: 0.7030\n",
      "Epoch 76/100\n",
      "20/20 [==============================] - 15s 736ms/step - loss: 0.4966 - accuracy: 0.7460 - val_loss: 0.5425 - val_accuracy: 0.7190\n",
      "Epoch 77/100\n",
      "20/20 [==============================] - 15s 735ms/step - loss: 0.5064 - accuracy: 0.7470 - val_loss: 0.6099 - val_accuracy: 0.7400\n",
      "Epoch 78/100\n",
      "20/20 [==============================] - 15s 748ms/step - loss: 0.5043 - accuracy: 0.7630 - val_loss: 0.5386 - val_accuracy: 0.7230\n",
      "Epoch 79/100\n",
      "20/20 [==============================] - 15s 763ms/step - loss: 0.4943 - accuracy: 0.7570 - val_loss: 0.5418 - val_accuracy: 0.7210\n",
      "Epoch 80/100\n",
      "20/20 [==============================] - 16s 779ms/step - loss: 0.5092 - accuracy: 0.7430 - val_loss: 0.4950 - val_accuracy: 0.7650\n",
      "Epoch 81/100\n",
      "20/20 [==============================] - 15s 764ms/step - loss: 0.5297 - accuracy: 0.7405 - val_loss: 0.5232 - val_accuracy: 0.7440\n",
      "Epoch 82/100\n",
      "20/20 [==============================] - 16s 772ms/step - loss: 0.4837 - accuracy: 0.7525 - val_loss: 0.5515 - val_accuracy: 0.7220\n",
      "Epoch 83/100\n",
      "20/20 [==============================] - 15s 766ms/step - loss: 0.5059 - accuracy: 0.7475 - val_loss: 0.5118 - val_accuracy: 0.7640\n",
      "Epoch 84/100\n",
      "20/20 [==============================] - 16s 770ms/step - loss: 0.5123 - accuracy: 0.7370 - val_loss: 0.5232 - val_accuracy: 0.7350\n",
      "Epoch 85/100\n",
      "20/20 [==============================] - 16s 788ms/step - loss: 0.5068 - accuracy: 0.7425 - val_loss: 0.4847 - val_accuracy: 0.7610\n",
      "Epoch 86/100\n",
      "20/20 [==============================] - 16s 781ms/step - loss: 0.4971 - accuracy: 0.7455 - val_loss: 0.6725 - val_accuracy: 0.7140\n",
      "Epoch 87/100\n",
      "20/20 [==============================] - 16s 783ms/step - loss: 0.5497 - accuracy: 0.7315 - val_loss: 0.5136 - val_accuracy: 0.7620\n",
      "Epoch 88/100\n",
      "20/20 [==============================] - 16s 785ms/step - loss: 0.4942 - accuracy: 0.7600 - val_loss: 0.4968 - val_accuracy: 0.7550\n",
      "Epoch 89/100\n",
      "20/20 [==============================] - 16s 776ms/step - loss: 0.5070 - accuracy: 0.7565 - val_loss: 0.4892 - val_accuracy: 0.7610\n",
      "Epoch 90/100\n",
      "20/20 [==============================] - 16s 789ms/step - loss: 0.5111 - accuracy: 0.7510 - val_loss: 0.4820 - val_accuracy: 0.7560\n",
      "Epoch 91/100\n",
      "20/20 [==============================] - 16s 786ms/step - loss: 0.4928 - accuracy: 0.7505 - val_loss: 0.5295 - val_accuracy: 0.7440\n",
      "Epoch 92/100\n",
      "20/20 [==============================] - 16s 806ms/step - loss: 0.5042 - accuracy: 0.7495 - val_loss: 0.5369 - val_accuracy: 0.7260\n",
      "Epoch 93/100\n",
      "20/20 [==============================] - 16s 779ms/step - loss: 0.5052 - accuracy: 0.7465 - val_loss: 0.5761 - val_accuracy: 0.7040\n",
      "Epoch 94/100\n",
      "20/20 [==============================] - 16s 785ms/step - loss: 0.4925 - accuracy: 0.7605 - val_loss: 0.4987 - val_accuracy: 0.7610\n",
      "Epoch 95/100\n",
      "20/20 [==============================] - 15s 743ms/step - loss: 0.4894 - accuracy: 0.7635 - val_loss: 0.5033 - val_accuracy: 0.7630\n",
      "Epoch 96/100\n",
      "20/20 [==============================] - 15s 737ms/step - loss: 0.5007 - accuracy: 0.7545 - val_loss: 0.4899 - val_accuracy: 0.7570\n",
      "Epoch 97/100\n",
      "20/20 [==============================] - 15s 738ms/step - loss: 0.4688 - accuracy: 0.7640 - val_loss: 0.5211 - val_accuracy: 0.7450\n",
      "Epoch 98/100\n",
      "20/20 [==============================] - 15s 750ms/step - loss: 0.4929 - accuracy: 0.7750 - val_loss: 0.4987 - val_accuracy: 0.7610\n",
      "Epoch 99/100\n",
      "20/20 [==============================] - 16s 781ms/step - loss: 0.4863 - accuracy: 0.7610 - val_loss: 0.5154 - val_accuracy: 0.7390\n",
      "Epoch 100/100\n",
      "20/20 [==============================] - 15s 734ms/step - loss: 0.5093 - accuracy: 0.7410 - val_loss: 0.4942 - val_accuracy: 0.7580\n"
     ]
    }
   ],
   "source": [
    "history0 = model.fit(\n",
    "    train_generator,\n",
    "    epochs=100,\n",
    "    steps_per_epoch=len(train_generator),\n",
    "    validation_data=validation_generator,\n",
    "    validation_steps=len(validation_generator),\n",
    "    callbacks=[cb_m0])"
   ]
  },
  {
   "cell_type": "markdown",
   "metadata": {
    "jp-MarkdownHeadingCollapsed": true,
    "tags": []
   },
   "source": [
    "## Método: Iteración de modelos\n",
    "\n",
    "Ahora se recurre al método \"prueba-error\". Se ha implementado un código que permite generar 27 modelos con distinto número de capas de convolución y capas totalmente conectadas. Se producirán 27 modelos basados en el Modelo 0, y se elegirá el mejor. La desventaja de este método es primeramente el tiempo que tomará entrenar todos los modelos generados, y segundo, no todas las combinaciones son tomadas en cuenta, por ejemplo, cada capa de todos los modelos tendrá siempre el mismo número de neuronas, sin distinción.\n",
    "\n",
    "Se ha limitado a 128 neuronas porque más allá de dicho valor se vuelve un modelo inviable para la ejecución en el equipo disponible. De hecho se observará que aquellos métodos con 128 neuronas y una o más capas totalmente conectadas no pudieron generarse por falta de memoria, por lo que serán descartados.\n",
    "\n",
    "Además, se definen dos callbacks para revisar cuanto mejora el modelo en cada época y no exceder el uso del hardware en vano. Definiremos un callback para la precisión y otro para la perdida. Cada uno revisa las últimas veinticinco épocas y determina si el modelo ha dejado de mejorar, se debe mejorar al menos en 0.001 entre esas veinticinco épocas."
   ]
  },
  {
   "cell_type": "code",
   "execution_count": 18,
   "metadata": {},
   "outputs": [],
   "source": [
    "es_accu = EarlyStopping(monitor='val_accuracy', patience=25,min_delta=0.001,mode='max',verbose=0)\n",
    "es_loss = EarlyStopping(monitor='val_loss',patience=25,min_delta=0.001,mode='min',verbose=0)"
   ]
  },
  {
   "cell_type": "code",
   "execution_count": null,
   "metadata": {
    "scrolled": true,
    "tags": []
   },
   "outputs": [],
   "source": [
    "############################################################################\n",
    "#                     IMPORTANTE: LEER ANTES DE EJECUTAR                   #\n",
    "############################################################################\n",
    "# Ejecute este código con precaución porque sobreescribe los resultados\n",
    "# que ahora muestra TensorBoard. Además el tiempo de ejecución es muy largo.\n",
    "# Puede saturar la memoria del equipo.\n",
    "num_dense_l = [0, 1, 2]\n",
    "num_neurons = [32, 64, 128]\n",
    "convolutions = [1, 2, 3]\n",
    "\n",
    "for layer in num_dense_l:\n",
    "    for neuron in num_neurons:\n",
    "        for convolution in convolutions:\n",
    "            # Crear un nombre para el log de TensorBoard\n",
    "            ln = \"{}-convolutions-{}-neurons-{}-layers\".format(convolution, neuron, layer)\n",
    "            print(\"Inicia red:\",ln)\n",
    "            # Se inicia el modelo\n",
    "            model = tf.keras.models.Sequential()\n",
    "            # Esta capa es obligatoria debido a que incluye el valor de input_shape\n",
    "            model.add(tf.keras.layers.Conv2D(16, (3,3),activation='relu',input_shape=[150,150,3]))\n",
    "            # Crear capas convolucionales adicionales\n",
    "            for l in range(convolution-1):\n",
    "                model.add(tf.keras.layers.Conv2D(neuron,(3,3),activation='relu'))\n",
    "                model.add(tf.keras.layers.MaxPooling2D(2, 2))\n",
    "            # Capa Flatten obligatoria. Concervamos la capa Dropout aunque no es obligatoria\n",
    "            model.add(tf.keras.layers.Flatten())\n",
    "            model.add(tf.keras.layers.Dropout(0.2))\n",
    "            # Crear capas completamente conectadas\n",
    "            for l in range(layer):\n",
    "                model.add(tf.keras.layers.Dense(neuron,activation='relu'))\n",
    "            # Capa de salida obligatoria\n",
    "            model.add(tf.keras.layers.Dense(1,activation='sigmoid'))\n",
    "            # Crear el callback de Tensorboard\n",
    "            cb_tb = TensorBoard(log_dir=\"out/logs/{}\".format(ln),histogram_freq=1)\n",
    "            # Compilar el modelo\n",
    "            model.compile(loss='binary_crossentropy',\n",
    "                          optimizer='adam',\n",
    "                          metrics=['accuracy'])\n",
    "            # Aprendizaje del modelo\n",
    "            model.fit(\n",
    "                train_generator,\n",
    "                epochs=100,\n",
    "                steps_per_epoch=len(train_generator),\n",
    "                validation_data=validation_generator,\n",
    "                validation_steps=len(validation_generator),\n",
    "                callbacks=[cb_tb,\n",
    "                          es_accu,\n",
    "                          es_loss\n",
    "                          ])\n",
    "            gc.collect()"
   ]
  },
  {
   "cell_type": "markdown",
   "metadata": {
    "jp-MarkdownHeadingCollapsed": true,
    "tags": []
   },
   "source": [
    "### Modelo seleccionado\n",
    "\n",
    "De la iteración anterior se observa que el modelo mejor implementado es aquel con tres capas de convolución, 64 neuronas y ninguna capa completamente conectada, por lo tanto se replicará dicha red neuronal ahora con el nombre de _mS_ para que sea identificable en los resultados."
   ]
  },
  {
   "cell_type": "code",
   "execution_count": 19,
   "metadata": {
    "scrolled": true,
    "tags": []
   },
   "outputs": [
    {
     "name": "stdout",
     "output_type": "stream",
     "text": [
      "Inicia red: mS-3-convolutions-64-neurons-0-layers\n",
      "Epoch 1/100\n",
      "20/20 [==============================] - 23s 1s/step - loss: 0.6998 - accuracy: 0.5210 - val_loss: 0.6868 - val_accuracy: 0.5000\n",
      "Epoch 2/100\n",
      "20/20 [==============================] - 26s 1s/step - loss: 0.6834 - accuracy: 0.5470 - val_loss: 0.6616 - val_accuracy: 0.6030\n",
      "Epoch 3/100\n",
      "20/20 [==============================] - 28s 1s/step - loss: 0.6690 - accuracy: 0.5860 - val_loss: 0.6695 - val_accuracy: 0.5620\n",
      "Epoch 4/100\n",
      "20/20 [==============================] - 27s 1s/step - loss: 0.6568 - accuracy: 0.6040 - val_loss: 0.6470 - val_accuracy: 0.6400\n",
      "Epoch 5/100\n",
      "20/20 [==============================] - 28s 1s/step - loss: 0.6579 - accuracy: 0.5930 - val_loss: 0.6702 - val_accuracy: 0.5760\n",
      "Epoch 6/100\n",
      "20/20 [==============================] - 28s 1s/step - loss: 0.6532 - accuracy: 0.5915 - val_loss: 0.6172 - val_accuracy: 0.6450\n",
      "Epoch 7/100\n",
      "20/20 [==============================] - 27s 1s/step - loss: 0.6329 - accuracy: 0.6415 - val_loss: 0.6116 - val_accuracy: 0.6410\n",
      "Epoch 8/100\n",
      "20/20 [==============================] - 28s 1s/step - loss: 0.6176 - accuracy: 0.6460 - val_loss: 0.6292 - val_accuracy: 0.6330\n",
      "Epoch 9/100\n",
      "20/20 [==============================] - 28s 1s/step - loss: 0.6119 - accuracy: 0.6690 - val_loss: 0.5797 - val_accuracy: 0.6790\n",
      "Epoch 10/100\n",
      "20/20 [==============================] - 29s 1s/step - loss: 0.6152 - accuracy: 0.6545 - val_loss: 0.5902 - val_accuracy: 0.6720\n",
      "Epoch 11/100\n",
      "20/20 [==============================] - 29s 1s/step - loss: 0.5972 - accuracy: 0.6665 - val_loss: 0.6024 - val_accuracy: 0.6410\n",
      "Epoch 12/100\n",
      "20/20 [==============================] - 30s 1s/step - loss: 0.5880 - accuracy: 0.6805 - val_loss: 0.5548 - val_accuracy: 0.7100\n",
      "Epoch 13/100\n",
      "20/20 [==============================] - 29s 1s/step - loss: 0.5809 - accuracy: 0.6795 - val_loss: 0.5698 - val_accuracy: 0.7050\n",
      "Epoch 14/100\n",
      "20/20 [==============================] - 28s 1s/step - loss: 0.5683 - accuracy: 0.6960 - val_loss: 0.5608 - val_accuracy: 0.7130\n",
      "Epoch 15/100\n",
      "20/20 [==============================] - 28s 1s/step - loss: 0.5648 - accuracy: 0.7005 - val_loss: 0.5741 - val_accuracy: 0.6980\n",
      "Epoch 16/100\n",
      "20/20 [==============================] - 28s 1s/step - loss: 0.5675 - accuracy: 0.6975 - val_loss: 0.5486 - val_accuracy: 0.7140\n",
      "Epoch 17/100\n",
      "20/20 [==============================] - 28s 1s/step - loss: 0.5636 - accuracy: 0.7005 - val_loss: 0.5349 - val_accuracy: 0.7220\n",
      "Epoch 18/100\n",
      "20/20 [==============================] - 29s 1s/step - loss: 0.5758 - accuracy: 0.6920 - val_loss: 0.5434 - val_accuracy: 0.7200\n",
      "Epoch 19/100\n",
      "20/20 [==============================] - 28s 1s/step - loss: 0.5554 - accuracy: 0.7040 - val_loss: 0.5265 - val_accuracy: 0.7430\n",
      "Epoch 20/100\n",
      "20/20 [==============================] - 28s 1s/step - loss: 0.5443 - accuracy: 0.7150 - val_loss: 0.5367 - val_accuracy: 0.7160\n",
      "Epoch 21/100\n",
      "20/20 [==============================] - 29s 1s/step - loss: 0.5529 - accuracy: 0.7125 - val_loss: 0.5680 - val_accuracy: 0.7160\n",
      "Epoch 22/100\n",
      "20/20 [==============================] - 28s 1s/step - loss: 0.5823 - accuracy: 0.6855 - val_loss: 0.5504 - val_accuracy: 0.7170\n",
      "Epoch 23/100\n",
      "20/20 [==============================] - 28s 1s/step - loss: 0.5617 - accuracy: 0.7055 - val_loss: 0.5374 - val_accuracy: 0.7260\n",
      "Epoch 24/100\n",
      "20/20 [==============================] - 29s 1s/step - loss: 0.5537 - accuracy: 0.7115 - val_loss: 0.5620 - val_accuracy: 0.7000\n",
      "Epoch 25/100\n",
      "20/20 [==============================] - 28s 1s/step - loss: 0.5443 - accuracy: 0.7180 - val_loss: 0.5240 - val_accuracy: 0.7360\n",
      "Epoch 26/100\n",
      "20/20 [==============================] - 29s 1s/step - loss: 0.5403 - accuracy: 0.7205 - val_loss: 0.5314 - val_accuracy: 0.7320\n",
      "Epoch 27/100\n",
      "20/20 [==============================] - 29s 1s/step - loss: 0.5312 - accuracy: 0.7330 - val_loss: 0.5478 - val_accuracy: 0.7230\n",
      "Epoch 28/100\n",
      "20/20 [==============================] - 28s 1s/step - loss: 0.5564 - accuracy: 0.7135 - val_loss: 0.5340 - val_accuracy: 0.7230\n",
      "Epoch 29/100\n",
      "20/20 [==============================] - 29s 1s/step - loss: 0.5246 - accuracy: 0.7345 - val_loss: 0.5227 - val_accuracy: 0.7310\n",
      "Epoch 30/100\n",
      "20/20 [==============================] - 29s 1s/step - loss: 0.5343 - accuracy: 0.7185 - val_loss: 0.5083 - val_accuracy: 0.7490\n",
      "Epoch 31/100\n",
      "20/20 [==============================] - 28s 1s/step - loss: 0.5263 - accuracy: 0.7295 - val_loss: 0.5249 - val_accuracy: 0.7380\n",
      "Epoch 32/100\n",
      "20/20 [==============================] - 29s 1s/step - loss: 0.5402 - accuracy: 0.7310 - val_loss: 0.5445 - val_accuracy: 0.7150\n",
      "Epoch 33/100\n",
      "20/20 [==============================] - 29s 1s/step - loss: 0.5589 - accuracy: 0.7090 - val_loss: 0.5119 - val_accuracy: 0.7480\n",
      "Epoch 34/100\n",
      "20/20 [==============================] - 28s 1s/step - loss: 0.5348 - accuracy: 0.7310 - val_loss: 0.5148 - val_accuracy: 0.7440\n",
      "Epoch 35/100\n",
      "20/20 [==============================] - 29s 1s/step - loss: 0.5155 - accuracy: 0.7395 - val_loss: 0.5319 - val_accuracy: 0.7430\n",
      "Epoch 36/100\n",
      "20/20 [==============================] - 29s 1s/step - loss: 0.5324 - accuracy: 0.7265 - val_loss: 0.5051 - val_accuracy: 0.7430\n",
      "Epoch 37/100\n",
      "20/20 [==============================] - 28s 1s/step - loss: 0.5286 - accuracy: 0.7310 - val_loss: 0.5062 - val_accuracy: 0.7480\n",
      "Epoch 38/100\n",
      "20/20 [==============================] - 29s 1s/step - loss: 0.5064 - accuracy: 0.7505 - val_loss: 0.5094 - val_accuracy: 0.7530\n",
      "Epoch 39/100\n",
      "20/20 [==============================] - 29s 1s/step - loss: 0.5275 - accuracy: 0.7350 - val_loss: 0.5119 - val_accuracy: 0.7470\n",
      "Epoch 40/100\n",
      "20/20 [==============================] - 28s 1s/step - loss: 0.5190 - accuracy: 0.7355 - val_loss: 0.5118 - val_accuracy: 0.7520\n",
      "Epoch 41/100\n",
      "20/20 [==============================] - 28s 1s/step - loss: 0.5213 - accuracy: 0.7355 - val_loss: 0.5284 - val_accuracy: 0.7380\n",
      "Epoch 42/100\n",
      "20/20 [==============================] - 29s 1s/step - loss: 0.5226 - accuracy: 0.7345 - val_loss: 0.5200 - val_accuracy: 0.7400\n",
      "Epoch 43/100\n",
      "20/20 [==============================] - 28s 1s/step - loss: 0.5224 - accuracy: 0.7265 - val_loss: 0.5107 - val_accuracy: 0.7430\n",
      "Epoch 44/100\n",
      "20/20 [==============================] - 29s 1s/step - loss: 0.5142 - accuracy: 0.7350 - val_loss: 0.5558 - val_accuracy: 0.7310\n",
      "Epoch 45/100\n",
      "20/20 [==============================] - 28s 1s/step - loss: 0.5284 - accuracy: 0.7405 - val_loss: 0.5119 - val_accuracy: 0.7480\n",
      "Epoch 46/100\n",
      "20/20 [==============================] - 29s 1s/step - loss: 0.5181 - accuracy: 0.7460 - val_loss: 0.5800 - val_accuracy: 0.7310\n",
      "Epoch 47/100\n",
      "20/20 [==============================] - 28s 1s/step - loss: 0.5232 - accuracy: 0.7430 - val_loss: 0.4983 - val_accuracy: 0.7590\n",
      "Epoch 48/100\n",
      "20/20 [==============================] - 28s 1s/step - loss: 0.5142 - accuracy: 0.7455 - val_loss: 0.4917 - val_accuracy: 0.7760\n",
      "Epoch 49/100\n",
      "20/20 [==============================] - 28s 1s/step - loss: 0.5129 - accuracy: 0.7485 - val_loss: 0.5158 - val_accuracy: 0.7470\n",
      "Epoch 50/100\n",
      "20/20 [==============================] - 28s 1s/step - loss: 0.5160 - accuracy: 0.7320 - val_loss: 0.4955 - val_accuracy: 0.7520\n",
      "Epoch 51/100\n",
      "20/20 [==============================] - 28s 1s/step - loss: 0.5015 - accuracy: 0.7500 - val_loss: 0.4864 - val_accuracy: 0.7670\n",
      "Epoch 52/100\n",
      "20/20 [==============================] - 29s 1s/step - loss: 0.5202 - accuracy: 0.7370 - val_loss: 0.4946 - val_accuracy: 0.7570\n",
      "Epoch 53/100\n",
      "20/20 [==============================] - 29s 1s/step - loss: 0.4967 - accuracy: 0.7580 - val_loss: 0.5099 - val_accuracy: 0.7500\n",
      "Epoch 54/100\n",
      "20/20 [==============================] - 28s 1s/step - loss: 0.5036 - accuracy: 0.7525 - val_loss: 0.4869 - val_accuracy: 0.7690\n",
      "Epoch 55/100\n",
      "20/20 [==============================] - 29s 1s/step - loss: 0.4952 - accuracy: 0.7580 - val_loss: 0.5093 - val_accuracy: 0.7580\n",
      "Epoch 56/100\n",
      "20/20 [==============================] - 28s 1s/step - loss: 0.4977 - accuracy: 0.7535 - val_loss: 0.5033 - val_accuracy: 0.7660\n",
      "Epoch 57/100\n",
      "20/20 [==============================] - 29s 1s/step - loss: 0.4985 - accuracy: 0.7520 - val_loss: 0.5146 - val_accuracy: 0.7460\n",
      "Epoch 58/100\n",
      "20/20 [==============================] - 28s 1s/step - loss: 0.5026 - accuracy: 0.7510 - val_loss: 0.5225 - val_accuracy: 0.7480\n",
      "Epoch 59/100\n",
      "20/20 [==============================] - 28s 1s/step - loss: 0.5209 - accuracy: 0.7460 - val_loss: 0.5003 - val_accuracy: 0.7650\n",
      "Epoch 60/100\n",
      "20/20 [==============================] - 28s 1s/step - loss: 0.4896 - accuracy: 0.7560 - val_loss: 0.5205 - val_accuracy: 0.7520\n",
      "Epoch 61/100\n",
      "20/20 [==============================] - 29s 1s/step - loss: 0.5000 - accuracy: 0.7490 - val_loss: 0.4888 - val_accuracy: 0.7660\n",
      "Epoch 62/100\n",
      "20/20 [==============================] - 28s 1s/step - loss: 0.4899 - accuracy: 0.7655 - val_loss: 0.4875 - val_accuracy: 0.7610\n",
      "Epoch 63/100\n",
      "20/20 [==============================] - 29s 1s/step - loss: 0.4955 - accuracy: 0.7490 - val_loss: 0.5369 - val_accuracy: 0.7350\n",
      "Epoch 64/100\n",
      "20/20 [==============================] - 28s 1s/step - loss: 0.5039 - accuracy: 0.7615 - val_loss: 0.4932 - val_accuracy: 0.7710\n",
      "Epoch 65/100\n",
      "20/20 [==============================] - 28s 1s/step - loss: 0.4982 - accuracy: 0.7490 - val_loss: 0.4929 - val_accuracy: 0.7710\n",
      "Epoch 66/100\n",
      "20/20 [==============================] - 28s 1s/step - loss: 0.4864 - accuracy: 0.7655 - val_loss: 0.5049 - val_accuracy: 0.7580\n",
      "Epoch 67/100\n",
      "20/20 [==============================] - 29s 1s/step - loss: 0.4914 - accuracy: 0.7610 - val_loss: 0.4910 - val_accuracy: 0.7720\n",
      "Epoch 68/100\n",
      "20/20 [==============================] - 28s 1s/step - loss: 0.5008 - accuracy: 0.7635 - val_loss: 0.4959 - val_accuracy: 0.7480\n",
      "Epoch 69/100\n",
      "20/20 [==============================] - 28s 1s/step - loss: 0.4894 - accuracy: 0.7600 - val_loss: 0.5036 - val_accuracy: 0.7610\n",
      "Epoch 70/100\n",
      "20/20 [==============================] - 29s 1s/step - loss: 0.4917 - accuracy: 0.7690 - val_loss: 0.5026 - val_accuracy: 0.7620\n",
      "Epoch 71/100\n",
      "20/20 [==============================] - 28s 1s/step - loss: 0.4948 - accuracy: 0.7645 - val_loss: 0.4963 - val_accuracy: 0.7570\n",
      "Epoch 72/100\n",
      "20/20 [==============================] - 28s 1s/step - loss: 0.4908 - accuracy: 0.7670 - val_loss: 0.4787 - val_accuracy: 0.7670\n",
      "Epoch 73/100\n",
      "20/20 [==============================] - 28s 1s/step - loss: 0.4871 - accuracy: 0.7635 - val_loss: 0.5043 - val_accuracy: 0.7630\n",
      "Epoch 74/100\n",
      "20/20 [==============================] - 28s 1s/step - loss: 0.4986 - accuracy: 0.7490 - val_loss: 0.5064 - val_accuracy: 0.7640\n",
      "Epoch 75/100\n",
      "20/20 [==============================] - 28s 1s/step - loss: 0.4766 - accuracy: 0.7670 - val_loss: 0.4761 - val_accuracy: 0.7680\n",
      "Epoch 76/100\n",
      "20/20 [==============================] - 28s 1s/step - loss: 0.4724 - accuracy: 0.7755 - val_loss: 0.4946 - val_accuracy: 0.7680\n",
      "Epoch 77/100\n",
      "20/20 [==============================] - 28s 1s/step - loss: 0.4898 - accuracy: 0.7695 - val_loss: 0.5420 - val_accuracy: 0.7270\n",
      "Epoch 78/100\n",
      "20/20 [==============================] - 28s 1s/step - loss: 0.5164 - accuracy: 0.7470 - val_loss: 0.5258 - val_accuracy: 0.7410\n",
      "Epoch 79/100\n",
      "20/20 [==============================] - 28s 1s/step - loss: 0.4764 - accuracy: 0.7670 - val_loss: 0.4899 - val_accuracy: 0.7710\n",
      "Epoch 80/100\n",
      "20/20 [==============================] - 28s 1s/step - loss: 0.4759 - accuracy: 0.7815 - val_loss: 0.4770 - val_accuracy: 0.7920\n",
      "Epoch 81/100\n",
      "20/20 [==============================] - 28s 1s/step - loss: 0.4730 - accuracy: 0.7780 - val_loss: 0.4941 - val_accuracy: 0.7760\n",
      "Epoch 82/100\n",
      "20/20 [==============================] - 28s 1s/step - loss: 0.5070 - accuracy: 0.7565 - val_loss: 0.5206 - val_accuracy: 0.7720\n",
      "Epoch 83/100\n",
      "20/20 [==============================] - 28s 1s/step - loss: 0.4884 - accuracy: 0.7500 - val_loss: 0.5149 - val_accuracy: 0.7640\n",
      "Epoch 84/100\n",
      "20/20 [==============================] - 28s 1s/step - loss: 0.4729 - accuracy: 0.7740 - val_loss: 0.4916 - val_accuracy: 0.7580\n",
      "Epoch 85/100\n",
      "20/20 [==============================] - 29s 1s/step - loss: 0.4762 - accuracy: 0.7600 - val_loss: 0.5240 - val_accuracy: 0.7640\n",
      "Epoch 86/100\n",
      "20/20 [==============================] - 28s 1s/step - loss: 0.4771 - accuracy: 0.7725 - val_loss: 0.4809 - val_accuracy: 0.7720\n",
      "Epoch 87/100\n",
      "20/20 [==============================] - 28s 1s/step - loss: 0.4809 - accuracy: 0.7675 - val_loss: 0.4971 - val_accuracy: 0.7690\n",
      "Epoch 88/100\n",
      "20/20 [==============================] - 28s 1s/step - loss: 0.4642 - accuracy: 0.7720 - val_loss: 0.4929 - val_accuracy: 0.7860\n",
      "Epoch 89/100\n",
      "20/20 [==============================] - 28s 1s/step - loss: 0.4790 - accuracy: 0.7810 - val_loss: 0.4762 - val_accuracy: 0.7800\n",
      "Epoch 90/100\n",
      "20/20 [==============================] - 28s 1s/step - loss: 0.4842 - accuracy: 0.7610 - val_loss: 0.5049 - val_accuracy: 0.7710\n",
      "Epoch 91/100\n",
      "20/20 [==============================] - 28s 1s/step - loss: 0.4763 - accuracy: 0.7670 - val_loss: 0.5034 - val_accuracy: 0.7670\n",
      "Epoch 92/100\n",
      "20/20 [==============================] - 29s 1s/step - loss: 0.4634 - accuracy: 0.7815 - val_loss: 0.5100 - val_accuracy: 0.7710\n",
      "Epoch 93/100\n",
      "20/20 [==============================] - 29s 1s/step - loss: 0.4714 - accuracy: 0.7750 - val_loss: 0.5017 - val_accuracy: 0.7690\n",
      "Epoch 94/100\n",
      "20/20 [==============================] - 28s 1s/step - loss: 0.4669 - accuracy: 0.7805 - val_loss: 0.5771 - val_accuracy: 0.7300\n",
      "Epoch 95/100\n",
      "20/20 [==============================] - 28s 1s/step - loss: 0.4797 - accuracy: 0.7755 - val_loss: 0.5123 - val_accuracy: 0.7590\n",
      "Epoch 96/100\n",
      "20/20 [==============================] - 28s 1s/step - loss: 0.4573 - accuracy: 0.7855 - val_loss: 0.5092 - val_accuracy: 0.7620\n",
      "Epoch 97/100\n",
      "20/20 [==============================] - 29s 1s/step - loss: 0.4517 - accuracy: 0.7915 - val_loss: 0.5045 - val_accuracy: 0.7730\n",
      "Epoch 98/100\n",
      "20/20 [==============================] - 28s 1s/step - loss: 0.4926 - accuracy: 0.7615 - val_loss: 0.5229 - val_accuracy: 0.7660\n",
      "Epoch 99/100\n",
      "20/20 [==============================] - 29s 1s/step - loss: 0.4685 - accuracy: 0.7680 - val_loss: 0.5029 - val_accuracy: 0.7700\n",
      "Epoch 100/100\n",
      "20/20 [==============================] - 28s 1s/step - loss: 0.4491 - accuracy: 0.7850 - val_loss: 0.5304 - val_accuracy: 0.7610\n"
     ]
    }
   ],
   "source": [
    "num_dense_l = [0]\n",
    "num_neurons = [64]\n",
    "convolutions = [3]\n",
    "\n",
    "for layer in num_dense_l:\n",
    "    for neuron in num_neurons:\n",
    "        for convolution in convolutions:\n",
    "            # Crear un nombre para el log de TensorBoard\n",
    "            ln = \"mS-{}-convolutions-{}-neurons-{}-layers\".format(convolution, neuron, layer)\n",
    "            print(\"Inicia red:\",ln)\n",
    "            # Se inicia el modelo\n",
    "            model = tf.keras.models.Sequential()\n",
    "            # Esta capa es obligatoria debido a que incluye el valor de input_shape\n",
    "            model.add(tf.keras.layers.Conv2D(16, (3,3),activation='relu',input_shape=[150,150,3]))\n",
    "            # Crear capas convolucionales adicionales\n",
    "            for l in range(convolution-1):\n",
    "                model.add(tf.keras.layers.Conv2D(neuron,(3,3),activation='relu'))\n",
    "                model.add(tf.keras.layers.MaxPooling2D(2, 2))\n",
    "            # Capa Flatten obligatoria. Concervamos la capa Dropout aunque no es obligatoria\n",
    "            model.add(tf.keras.layers.Flatten())\n",
    "            model.add(tf.keras.layers.Dropout(0.2))\n",
    "            # Crear capas completamente conectadas\n",
    "            for l in range(layer):\n",
    "                model.add(tf.keras.layers.Dense(neuron,activation='relu'))\n",
    "            # Capa de salida obligatoria\n",
    "            model.add(tf.keras.layers.Dense(1,activation='sigmoid'))\n",
    "            # Crear el callback de Tensorboard\n",
    "            cb_tb = TensorBoard(log_dir=\"out/logs/mS\".format(ln),histogram_freq=1)\n",
    "            # Compilar el modelo\n",
    "            model.compile(loss='binary_crossentropy',\n",
    "                          optimizer='adam',\n",
    "                          metrics=['accuracy'])\n",
    "            # Aprendizaje del modelo\n",
    "            hmS = model.fit(\n",
    "                train_generator,\n",
    "                epochs=100,\n",
    "                steps_per_epoch=len(train_generator),\n",
    "                validation_data=validation_generator,\n",
    "                validation_steps=len(validation_generator),\n",
    "                callbacks=[cb_tb])\n",
    "            gc.collect()"
   ]
  },
  {
   "cell_type": "markdown",
   "metadata": {},
   "source": [
    "Ahora se han colocado ocho imágenes en la carpeta `im` del presente proyecto, cuatro de perros y otras cuatro de gatos. Se observa que los valores más cercanos a 1 representa los gatos, mientras que los más cercanos a 0 son perros. De estas ocho imágenes, el modelo solo falla en la imagen `g4.jpeg`. Una muestra a continuación."
   ]
  },
  {
   "cell_type": "code",
   "execution_count": 167,
   "metadata": {},
   "outputs": [
    {
     "name": "stdout",
     "output_type": "stream",
     "text": [
      "1/1 [==============================] - 0s 30ms/step\n",
      "El valor de p1.jpeg es: [[0.00026426]]\n",
      "1/1 [==============================] - 0s 13ms/step\n",
      "El valor de g1.jpeg es: [[0.9894533]]\n"
     ]
    }
   ],
   "source": [
    "# Gato = 1, perro = 0\n",
    "img = tf.keras.preprocessing.image.load_img(\"im/p1.jpeg\", target_size=(150,150))\n",
    "im_arr = tf.keras.preprocessing.image.img_to_array(img)\n",
    "im_batch = np.expand_dims(im_arr, axis=0)\n",
    "prediction = model.predict(im_batch)\n",
    "print(\"El valor de p1.jpeg es:\",prediction)\n",
    "img = tf.keras.preprocessing.image.load_img(\"im/g1.jpeg\", target_size=(150,150))\n",
    "im_arr = tf.keras.preprocessing.image.img_to_array(img)\n",
    "im_batch = np.expand_dims(im_arr, axis=0)\n",
    "prediction = model.predict(im_batch)\n",
    "print(\"El valor de g1.jpeg es:\",prediction)"
   ]
  },
  {
   "cell_type": "markdown",
   "metadata": {
    "cell_id": "00034-b2b49737-91a2-4820-af5b-67b2cd7cf72e",
    "deepnote_cell_height": 70,
    "deepnote_cell_type": "markdown",
    "id": "EGWyND0kjWuW",
    "tags": []
   },
   "source": [
    "## Método: Combinación de capas\n",
    "\n",
    "Al hacer algunos ajustes y combinaciones de las CNN iteradas anteriormente (ver [notebook anexo](./Anexo.ipynb)), se aumentan a la mayor cantidad de rasgos las capas de convolución, de tal manera que se pueda ejecutar una red con capas Conv2D con 128 características en dos de dichas capas, además se agrega una capa totalmente conectada."
   ]
  },
  {
   "cell_type": "code",
   "execution_count": 128,
   "metadata": {
    "allow_embed": false,
    "cell_id": "cbd1d69826d2428fa6bf26ca756e5c92",
    "colab": {
     "base_uri": "https://localhost:8080/"
    },
    "deepnote_cell_height": 719,
    "deepnote_cell_type": "code",
    "deepnote_to_be_reexecuted": false,
    "execution_millis": 203,
    "execution_start": 1660361078185,
    "id": "u3i--5PTFTMy",
    "outputId": "bbc289dd-310f-48a9-f1cf-d9b1c0fcd517",
    "output_cleared": false,
    "source_hash": "52084e51"
   },
   "outputs": [
    {
     "name": "stdout",
     "output_type": "stream",
     "text": [
      "Found 2000 images belonging to 2 classes.\n",
      "Found 1000 images belonging to 2 classes.\n"
     ]
    }
   ],
   "source": [
    "# Todas las imagenes tienen que ser reescaldas a 1./255.\n",
    "train_datagen = ImageDataGenerator(\n",
    "    rescale=1./255,\n",
    "    rotation_range=40,\n",
    "    width_shift_range=0.2,\n",
    "    height_shift_range=0.2,\n",
    "    shear_range=0.2,\n",
    "    zoom_range=0.2,\n",
    "    horizontal_flip=True,\n",
    "    fill_mode=\"nearest\"\n",
    "    )\n",
    "test_datagen  = ImageDataGenerator( rescale = 1.0/255.)\n",
    "\n",
    "# --------------------\n",
    "# Flujo de imagenes de entrenamiento en batches de 20 usando el \"train_datagen generator\"\n",
    "# --------------------\n",
    "train_generator = train_datagen.flow_from_directory(train_dir,\n",
    "                                                    batch_size=100,\n",
    "                                                    class_mode='binary',\n",
    "                                                    shuffle=True,\n",
    "                                                    target_size=(150, 150))     \n",
    "# --------------------\n",
    "# Flujo de imagenes de entrenamiento en batches de 20 usando el \"test_datagen generator\"\n",
    "# --------------------\n",
    "validation_generator =  test_datagen.flow_from_directory(validation_dir,\n",
    "                                                         batch_size=100,\n",
    "                                                         class_mode  = 'binary',\n",
    "                                                         target_size = (150, 150))"
   ]
  },
  {
   "cell_type": "code",
   "execution_count": 129,
   "metadata": {
    "cell_id": "9556dfb2546245dbbe67a4b6764d93d8",
    "colab": {
     "base_uri": "https://localhost:8080/"
    },
    "deepnote_cell_height": 1092,
    "deepnote_cell_type": "code",
    "deepnote_to_be_reexecuted": false,
    "execution_millis": 821,
    "execution_start": 1660381468065,
    "id": "3SBNXZJEft2U",
    "outputId": "0492c8a6-3fcb-4afb-bdb9-198cbee83d1f",
    "output_cleared": false,
    "source_hash": "88d7e243",
    "tags": []
   },
   "outputs": [
    {
     "name": "stdout",
     "output_type": "stream",
     "text": [
      "Model: \"sequential_10\"\n",
      "_________________________________________________________________\n",
      " Layer (type)                Output Shape              Param #   \n",
      "=================================================================\n",
      " conv2d_39 (Conv2D)          (None, 148, 148, 32)      896       \n",
      "                                                                 \n",
      " max_pooling2d_37 (MaxPoolin  (None, 74, 74, 32)       0         \n",
      " g2D)                                                            \n",
      "                                                                 \n",
      " conv2d_40 (Conv2D)          (None, 72, 72, 64)        18496     \n",
      "                                                                 \n",
      " max_pooling2d_38 (MaxPoolin  (None, 36, 36, 64)       0         \n",
      " g2D)                                                            \n",
      "                                                                 \n",
      " conv2d_41 (Conv2D)          (None, 34, 34, 128)       73856     \n",
      "                                                                 \n",
      " max_pooling2d_39 (MaxPoolin  (None, 17, 17, 128)      0         \n",
      " g2D)                                                            \n",
      "                                                                 \n",
      " conv2d_42 (Conv2D)          (None, 15, 15, 128)       147584    \n",
      "                                                                 \n",
      " max_pooling2d_40 (MaxPoolin  (None, 7, 7, 128)        0         \n",
      " g2D)                                                            \n",
      "                                                                 \n",
      " dropout_5 (Dropout)         (None, 7, 7, 128)         0         \n",
      "                                                                 \n",
      " flatten_10 (Flatten)        (None, 6272)              0         \n",
      "                                                                 \n",
      " dense_19 (Dense)            (None, 512)               3211776   \n",
      "                                                                 \n",
      " dense_20 (Dense)            (None, 2)                 1026      \n",
      "                                                                 \n",
      "=================================================================\n",
      "Total params: 3,453,634\n",
      "Trainable params: 3,453,634\n",
      "Non-trainable params: 0\n",
      "_________________________________________________________________\n"
     ]
    }
   ],
   "source": [
    "model1 = tf.keras.models.Sequential([\n",
    "    tf.keras.layers.Conv2D(32, (3,3), activation='relu', input_shape=(150, 150, 3)),\n",
    "    tf.keras.layers.MaxPooling2D(2, 2),\n",
    "    tf.keras.layers.Conv2D(64, (3,3), activation='relu'),\n",
    "    tf.keras.layers.MaxPooling2D(2,2),\n",
    "    tf.keras.layers.Conv2D(128, (3,3), activation='relu'),\n",
    "    tf.keras.layers.MaxPooling2D(2,2),\n",
    "    tf.keras.layers.Conv2D(128, (3,3), activation='relu'),\n",
    "    tf.keras.layers.MaxPooling2D(2,2),\n",
    "    tf.keras.layers.Dropout(0.5),\n",
    "    tf.keras.layers.Flatten(),\n",
    "    tf.keras.layers.Dense(512, activation='relu'),\n",
    "    tf.keras.layers.Dense(2)\n",
    "])\n",
    "model1.compile(optimizer='adam',\n",
    "              loss=tf.keras.losses.SparseCategoricalCrossentropy(from_logits=True),\n",
    "              metrics=['accuracy'])\n",
    "model1.summary()"
   ]
  },
  {
   "cell_type": "code",
   "execution_count": 130,
   "metadata": {
    "allow_embed": false,
    "cell_id": "00036-3a2ba492-0241-4bbd-86ce-e578c0c1f9d7",
    "colab": {
     "base_uri": "https://localhost:8080/"
    },
    "deepnote_cell_height": 912,
    "deepnote_cell_type": "code",
    "deepnote_to_be_reexecuted": false,
    "execution_millis": 16902766,
    "execution_start": 1660381468629,
    "id": "OTHKpxWCjku6",
    "outputId": "e2557c64-eb72-4b7c-86b1-02073e96f1b4",
    "output_cleared": false,
    "scrolled": true,
    "source_hash": "232376f9",
    "tags": []
   },
   "outputs": [
    {
     "name": "stdout",
     "output_type": "stream",
     "text": [
      "Epoch 1/100\n",
      "20/20 [==============================] - 20s 978ms/step - loss: 0.7273 - accuracy: 0.4835 - val_loss: 0.6923 - val_accuracy: 0.5000\n",
      "Epoch 2/100\n",
      "20/20 [==============================] - 20s 994ms/step - loss: 0.6945 - accuracy: 0.5015 - val_loss: 0.6930 - val_accuracy: 0.5000\n",
      "Epoch 3/100\n",
      "20/20 [==============================] - 21s 1s/step - loss: 0.6927 - accuracy: 0.5000 - val_loss: 0.6912 - val_accuracy: 0.5000\n",
      "Epoch 4/100\n",
      "20/20 [==============================] - 22s 1s/step - loss: 0.6903 - accuracy: 0.5025 - val_loss: 0.6882 - val_accuracy: 0.5520\n",
      "Epoch 5/100\n",
      "20/20 [==============================] - 21s 1s/step - loss: 0.6867 - accuracy: 0.5670 - val_loss: 0.6890 - val_accuracy: 0.5520\n",
      "Epoch 6/100\n",
      "20/20 [==============================] - 21s 1s/step - loss: 0.6848 - accuracy: 0.5570 - val_loss: 0.6823 - val_accuracy: 0.5570\n",
      "Epoch 7/100\n",
      "20/20 [==============================] - 21s 1s/step - loss: 0.6836 - accuracy: 0.5615 - val_loss: 0.6835 - val_accuracy: 0.5240\n",
      "Epoch 8/100\n",
      "20/20 [==============================] - 21s 1s/step - loss: 0.6845 - accuracy: 0.5390 - val_loss: 0.6494 - val_accuracy: 0.6000\n",
      "Epoch 9/100\n",
      "20/20 [==============================] - 20s 1s/step - loss: 0.6722 - accuracy: 0.5890 - val_loss: 0.6268 - val_accuracy: 0.6430\n",
      "Epoch 10/100\n",
      "20/20 [==============================] - 20s 999ms/step - loss: 0.6499 - accuracy: 0.6245 - val_loss: 0.6098 - val_accuracy: 0.6520\n",
      "Epoch 11/100\n",
      "20/20 [==============================] - 20s 1s/step - loss: 0.6440 - accuracy: 0.6445 - val_loss: 0.5998 - val_accuracy: 0.6750\n",
      "Epoch 12/100\n",
      "20/20 [==============================] - 21s 1s/step - loss: 0.6178 - accuracy: 0.6620 - val_loss: 0.5993 - val_accuracy: 0.6810\n",
      "Epoch 13/100\n",
      "20/20 [==============================] - 20s 1s/step - loss: 0.6189 - accuracy: 0.6540 - val_loss: 0.6346 - val_accuracy: 0.6120\n",
      "Epoch 14/100\n",
      "20/20 [==============================] - 21s 1s/step - loss: 0.6270 - accuracy: 0.6450 - val_loss: 0.5852 - val_accuracy: 0.6820\n",
      "Epoch 15/100\n",
      "20/20 [==============================] - 23s 1s/step - loss: 0.5908 - accuracy: 0.6810 - val_loss: 0.5438 - val_accuracy: 0.7180\n",
      "Epoch 16/100\n",
      "20/20 [==============================] - 23s 1s/step - loss: 0.5731 - accuracy: 0.7040 - val_loss: 0.5298 - val_accuracy: 0.7380\n",
      "Epoch 17/100\n",
      "20/20 [==============================] - 22s 1s/step - loss: 0.5852 - accuracy: 0.7010 - val_loss: 0.5648 - val_accuracy: 0.7030\n",
      "Epoch 18/100\n",
      "20/20 [==============================] - 21s 1s/step - loss: 0.5775 - accuracy: 0.6945 - val_loss: 0.5552 - val_accuracy: 0.7100\n",
      "Epoch 19/100\n",
      "20/20 [==============================] - 22s 1s/step - loss: 0.5866 - accuracy: 0.6905 - val_loss: 0.5557 - val_accuracy: 0.6940\n",
      "Epoch 20/100\n",
      "20/20 [==============================] - 21s 1s/step - loss: 0.5674 - accuracy: 0.7105 - val_loss: 0.5257 - val_accuracy: 0.7330\n",
      "Epoch 21/100\n",
      "20/20 [==============================] - 20s 1s/step - loss: 0.5590 - accuracy: 0.7150 - val_loss: 0.5250 - val_accuracy: 0.7440\n",
      "Epoch 22/100\n",
      "20/20 [==============================] - 20s 1s/step - loss: 0.5417 - accuracy: 0.7335 - val_loss: 0.5067 - val_accuracy: 0.7410\n",
      "Epoch 23/100\n",
      "20/20 [==============================] - 20s 1s/step - loss: 0.5595 - accuracy: 0.7170 - val_loss: 0.5166 - val_accuracy: 0.7410\n",
      "Epoch 24/100\n",
      "20/20 [==============================] - 20s 981ms/step - loss: 0.5471 - accuracy: 0.7200 - val_loss: 0.4985 - val_accuracy: 0.7450\n",
      "Epoch 25/100\n",
      "20/20 [==============================] - 21s 1s/step - loss: 0.5443 - accuracy: 0.7365 - val_loss: 0.5161 - val_accuracy: 0.7490\n",
      "Epoch 26/100\n",
      "20/20 [==============================] - 20s 1s/step - loss: 0.5430 - accuracy: 0.7290 - val_loss: 0.5313 - val_accuracy: 0.7250\n",
      "Epoch 27/100\n",
      "20/20 [==============================] - 20s 996ms/step - loss: 0.5286 - accuracy: 0.7400 - val_loss: 0.4922 - val_accuracy: 0.7580\n",
      "Epoch 28/100\n",
      "20/20 [==============================] - 20s 1s/step - loss: 0.5260 - accuracy: 0.7415 - val_loss: 0.5383 - val_accuracy: 0.7290\n",
      "Epoch 29/100\n",
      "20/20 [==============================] - 20s 1s/step - loss: 0.5185 - accuracy: 0.7380 - val_loss: 0.4806 - val_accuracy: 0.7720\n",
      "Epoch 30/100\n",
      "20/20 [==============================] - 20s 999ms/step - loss: 0.5378 - accuracy: 0.7280 - val_loss: 0.5027 - val_accuracy: 0.7450\n",
      "Epoch 31/100\n",
      "20/20 [==============================] - 20s 1s/step - loss: 0.5091 - accuracy: 0.7390 - val_loss: 0.4746 - val_accuracy: 0.7800\n",
      "Epoch 32/100\n",
      "20/20 [==============================] - 20s 997ms/step - loss: 0.4962 - accuracy: 0.7695 - val_loss: 0.4783 - val_accuracy: 0.7830\n",
      "Epoch 33/100\n",
      "20/20 [==============================] - 21s 1s/step - loss: 0.5095 - accuracy: 0.7660 - val_loss: 0.4708 - val_accuracy: 0.7760\n",
      "Epoch 34/100\n",
      "20/20 [==============================] - 20s 997ms/step - loss: 0.4996 - accuracy: 0.7630 - val_loss: 0.4833 - val_accuracy: 0.7640\n",
      "Epoch 35/100\n",
      "20/20 [==============================] - 21s 1s/step - loss: 0.4942 - accuracy: 0.7630 - val_loss: 0.5180 - val_accuracy: 0.7510\n",
      "Epoch 36/100\n",
      "20/20 [==============================] - 21s 1s/step - loss: 0.4862 - accuracy: 0.7620 - val_loss: 0.4504 - val_accuracy: 0.7870\n",
      "Epoch 37/100\n",
      "20/20 [==============================] - 20s 1s/step - loss: 0.4872 - accuracy: 0.7700 - val_loss: 0.4790 - val_accuracy: 0.7650\n",
      "Epoch 38/100\n",
      "20/20 [==============================] - 21s 1s/step - loss: 0.4864 - accuracy: 0.7605 - val_loss: 0.4610 - val_accuracy: 0.7780\n",
      "Epoch 39/100\n",
      "20/20 [==============================] - 22s 1s/step - loss: 0.4801 - accuracy: 0.7700 - val_loss: 0.4569 - val_accuracy: 0.7910\n",
      "Epoch 40/100\n",
      "20/20 [==============================] - 21s 1s/step - loss: 0.4681 - accuracy: 0.7750 - val_loss: 0.4794 - val_accuracy: 0.7820\n",
      "Epoch 41/100\n",
      "20/20 [==============================] - 21s 1s/step - loss: 0.4702 - accuracy: 0.7725 - val_loss: 0.4754 - val_accuracy: 0.7660\n",
      "Epoch 42/100\n",
      "20/20 [==============================] - 20s 1s/step - loss: 0.4661 - accuracy: 0.7915 - val_loss: 0.4485 - val_accuracy: 0.7970\n",
      "Epoch 43/100\n",
      "20/20 [==============================] - 20s 992ms/step - loss: 0.4612 - accuracy: 0.7820 - val_loss: 0.4689 - val_accuracy: 0.7860\n",
      "Epoch 44/100\n",
      "20/20 [==============================] - 21s 1s/step - loss: 0.4742 - accuracy: 0.7740 - val_loss: 0.4330 - val_accuracy: 0.7950\n",
      "Epoch 45/100\n",
      "20/20 [==============================] - 91s 5s/step - loss: 0.4690 - accuracy: 0.7740 - val_loss: 0.4282 - val_accuracy: 0.8050\n",
      "Epoch 46/100\n",
      "20/20 [==============================] - 20s 982ms/step - loss: 0.4482 - accuracy: 0.7960 - val_loss: 0.4358 - val_accuracy: 0.7990\n",
      "Epoch 47/100\n",
      "20/20 [==============================] - 20s 990ms/step - loss: 0.4505 - accuracy: 0.7900 - val_loss: 0.4485 - val_accuracy: 0.7780\n",
      "Epoch 48/100\n",
      "20/20 [==============================] - 20s 980ms/step - loss: 0.4763 - accuracy: 0.7820 - val_loss: 0.4351 - val_accuracy: 0.7900\n",
      "Epoch 49/100\n",
      "20/20 [==============================] - 20s 1s/step - loss: 0.4364 - accuracy: 0.7945 - val_loss: 0.5272 - val_accuracy: 0.7540\n",
      "Epoch 50/100\n",
      "20/20 [==============================] - 20s 977ms/step - loss: 0.4536 - accuracy: 0.7805 - val_loss: 0.4379 - val_accuracy: 0.7950\n",
      "Epoch 51/100\n",
      "20/20 [==============================] - 20s 991ms/step - loss: 0.4220 - accuracy: 0.8040 - val_loss: 0.4457 - val_accuracy: 0.7960\n",
      "Epoch 52/100\n",
      "20/20 [==============================] - 20s 971ms/step - loss: 0.4499 - accuracy: 0.7855 - val_loss: 0.4252 - val_accuracy: 0.8050\n",
      "Epoch 53/100\n",
      "20/20 [==============================] - 20s 975ms/step - loss: 0.4273 - accuracy: 0.8145 - val_loss: 0.4501 - val_accuracy: 0.7810\n",
      "Epoch 54/100\n",
      "20/20 [==============================] - 21s 1s/step - loss: 0.4160 - accuracy: 0.8095 - val_loss: 0.4862 - val_accuracy: 0.7720\n",
      "Epoch 55/100\n",
      "20/20 [==============================] - 20s 1s/step - loss: 0.4472 - accuracy: 0.7975 - val_loss: 0.4587 - val_accuracy: 0.7870\n",
      "Epoch 56/100\n",
      "20/20 [==============================] - 20s 1s/step - loss: 0.4370 - accuracy: 0.7895 - val_loss: 0.4193 - val_accuracy: 0.8040\n",
      "Epoch 57/100\n",
      "20/20 [==============================] - 20s 989ms/step - loss: 0.4221 - accuracy: 0.8035 - val_loss: 0.4198 - val_accuracy: 0.7890\n",
      "Epoch 58/100\n",
      "20/20 [==============================] - 20s 979ms/step - loss: 0.4063 - accuracy: 0.8140 - val_loss: 0.4068 - val_accuracy: 0.8150\n",
      "Epoch 59/100\n",
      "20/20 [==============================] - 20s 1000ms/step - loss: 0.4122 - accuracy: 0.8210 - val_loss: 0.5885 - val_accuracy: 0.7170\n",
      "Epoch 60/100\n",
      "20/20 [==============================] - 21s 1s/step - loss: 0.4225 - accuracy: 0.8105 - val_loss: 0.4153 - val_accuracy: 0.8040\n",
      "Epoch 61/100\n",
      "20/20 [==============================] - 21s 1s/step - loss: 0.3991 - accuracy: 0.8165 - val_loss: 0.4109 - val_accuracy: 0.8010\n",
      "Epoch 62/100\n",
      "20/20 [==============================] - 21s 1s/step - loss: 0.3861 - accuracy: 0.8395 - val_loss: 0.3987 - val_accuracy: 0.8010\n",
      "Epoch 63/100\n",
      "20/20 [==============================] - 21s 1s/step - loss: 0.3985 - accuracy: 0.8220 - val_loss: 0.4049 - val_accuracy: 0.8180\n",
      "Epoch 64/100\n",
      "20/20 [==============================] - 23s 1s/step - loss: 0.3842 - accuracy: 0.8350 - val_loss: 0.3986 - val_accuracy: 0.8220\n",
      "Epoch 65/100\n",
      "20/20 [==============================] - 22s 1s/step - loss: 0.4153 - accuracy: 0.8075 - val_loss: 0.4480 - val_accuracy: 0.7850\n",
      "Epoch 66/100\n",
      "20/20 [==============================] - 21s 1s/step - loss: 0.3851 - accuracy: 0.8265 - val_loss: 0.4031 - val_accuracy: 0.8020\n",
      "Epoch 67/100\n",
      "20/20 [==============================] - 20s 1s/step - loss: 0.3802 - accuracy: 0.8250 - val_loss: 0.3890 - val_accuracy: 0.8260\n",
      "Epoch 68/100\n",
      "20/20 [==============================] - 21s 1s/step - loss: 0.3670 - accuracy: 0.8410 - val_loss: 0.3884 - val_accuracy: 0.8300\n",
      "Epoch 69/100\n",
      "20/20 [==============================] - 20s 991ms/step - loss: 0.3724 - accuracy: 0.8325 - val_loss: 0.4043 - val_accuracy: 0.8130\n",
      "Epoch 70/100\n",
      "20/20 [==============================] - 20s 1s/step - loss: 0.3827 - accuracy: 0.8190 - val_loss: 0.4313 - val_accuracy: 0.8050\n",
      "Epoch 71/100\n",
      "20/20 [==============================] - 20s 1s/step - loss: 0.3618 - accuracy: 0.8355 - val_loss: 0.3655 - val_accuracy: 0.8440\n",
      "Epoch 72/100\n",
      "20/20 [==============================] - 20s 973ms/step - loss: 0.3536 - accuracy: 0.8405 - val_loss: 0.4109 - val_accuracy: 0.8300\n",
      "Epoch 73/100\n",
      "20/20 [==============================] - 20s 991ms/step - loss: 0.3770 - accuracy: 0.8320 - val_loss: 0.3774 - val_accuracy: 0.8210\n",
      "Epoch 74/100\n",
      "20/20 [==============================] - 20s 983ms/step - loss: 0.3588 - accuracy: 0.8355 - val_loss: 0.4374 - val_accuracy: 0.7970\n",
      "Epoch 75/100\n",
      "20/20 [==============================] - 19s 957ms/step - loss: 0.3662 - accuracy: 0.8395 - val_loss: 0.3676 - val_accuracy: 0.8400\n",
      "Epoch 76/100\n",
      "20/20 [==============================] - 19s 956ms/step - loss: 0.3374 - accuracy: 0.8530 - val_loss: 0.3759 - val_accuracy: 0.8260\n",
      "Epoch 77/100\n",
      "20/20 [==============================] - 19s 947ms/step - loss: 0.3322 - accuracy: 0.8565 - val_loss: 0.3835 - val_accuracy: 0.8350\n",
      "Epoch 78/100\n",
      "20/20 [==============================] - 19s 945ms/step - loss: 0.3376 - accuracy: 0.8535 - val_loss: 0.3811 - val_accuracy: 0.8220\n",
      "Epoch 79/100\n",
      "20/20 [==============================] - 19s 928ms/step - loss: 0.3464 - accuracy: 0.8475 - val_loss: 0.4276 - val_accuracy: 0.7950\n",
      "Epoch 80/100\n",
      "20/20 [==============================] - 19s 947ms/step - loss: 0.3280 - accuracy: 0.8505 - val_loss: 0.3575 - val_accuracy: 0.8370\n",
      "Epoch 81/100\n",
      "20/20 [==============================] - 19s 940ms/step - loss: 0.3296 - accuracy: 0.8560 - val_loss: 0.3562 - val_accuracy: 0.8430\n",
      "Epoch 82/100\n",
      "20/20 [==============================] - 19s 942ms/step - loss: 0.3248 - accuracy: 0.8615 - val_loss: 0.3590 - val_accuracy: 0.8370\n",
      "Epoch 83/100\n",
      "20/20 [==============================] - 19s 940ms/step - loss: 0.3230 - accuracy: 0.8615 - val_loss: 0.3659 - val_accuracy: 0.8450\n",
      "Epoch 84/100\n",
      "20/20 [==============================] - 19s 941ms/step - loss: 0.3504 - accuracy: 0.8490 - val_loss: 0.3701 - val_accuracy: 0.8490\n",
      "Epoch 85/100\n",
      "20/20 [==============================] - 19s 947ms/step - loss: 0.3072 - accuracy: 0.8720 - val_loss: 0.3420 - val_accuracy: 0.8560\n",
      "Epoch 86/100\n",
      "20/20 [==============================] - 19s 939ms/step - loss: 0.3232 - accuracy: 0.8620 - val_loss: 0.3566 - val_accuracy: 0.8460\n",
      "Epoch 87/100\n",
      "20/20 [==============================] - 19s 947ms/step - loss: 0.3119 - accuracy: 0.8630 - val_loss: 0.3518 - val_accuracy: 0.8380\n",
      "Epoch 88/100\n",
      "20/20 [==============================] - 19s 938ms/step - loss: 0.3085 - accuracy: 0.8635 - val_loss: 0.3693 - val_accuracy: 0.8270\n",
      "Epoch 89/100\n",
      "20/20 [==============================] - 19s 928ms/step - loss: 0.3064 - accuracy: 0.8640 - val_loss: 0.3723 - val_accuracy: 0.8410\n",
      "Epoch 90/100\n",
      "20/20 [==============================] - 19s 950ms/step - loss: 0.3120 - accuracy: 0.8570 - val_loss: 0.3511 - val_accuracy: 0.8570\n",
      "Epoch 91/100\n",
      "20/20 [==============================] - 19s 941ms/step - loss: 0.2994 - accuracy: 0.8700 - val_loss: 0.3601 - val_accuracy: 0.8400\n",
      "Epoch 92/100\n",
      "20/20 [==============================] - 19s 924ms/step - loss: 0.2923 - accuracy: 0.8775 - val_loss: 0.3364 - val_accuracy: 0.8540\n",
      "Epoch 93/100\n",
      "20/20 [==============================] - 19s 942ms/step - loss: 0.2914 - accuracy: 0.8695 - val_loss: 0.3497 - val_accuracy: 0.8530\n",
      "Epoch 94/100\n",
      "20/20 [==============================] - 19s 944ms/step - loss: 0.3335 - accuracy: 0.8580 - val_loss: 0.3311 - val_accuracy: 0.8550\n",
      "Epoch 95/100\n",
      "20/20 [==============================] - 19s 931ms/step - loss: 0.3013 - accuracy: 0.8740 - val_loss: 0.3570 - val_accuracy: 0.8460\n",
      "Epoch 96/100\n",
      "20/20 [==============================] - 19s 948ms/step - loss: 0.3037 - accuracy: 0.8625 - val_loss: 0.3471 - val_accuracy: 0.8530\n",
      "Epoch 97/100\n",
      "20/20 [==============================] - 19s 936ms/step - loss: 0.2998 - accuracy: 0.8765 - val_loss: 0.3195 - val_accuracy: 0.8670\n",
      "Epoch 98/100\n",
      "20/20 [==============================] - 19s 942ms/step - loss: 0.2704 - accuracy: 0.8880 - val_loss: 0.3500 - val_accuracy: 0.8560\n",
      "Epoch 99/100\n",
      "20/20 [==============================] - 19s 941ms/step - loss: 0.2663 - accuracy: 0.8815 - val_loss: 0.3246 - val_accuracy: 0.8650\n",
      "Epoch 100/100\n",
      "20/20 [==============================] - 19s 947ms/step - loss: 0.2881 - accuracy: 0.8755 - val_loss: 0.3555 - val_accuracy: 0.8530\n"
     ]
    }
   ],
   "source": [
    "h1 = model1.fit(\n",
    "    train_generator,\n",
    "    epochs=60,\n",
    "    steps_per_epoch=len(train_generator),\n",
    "    validation_data=validation_generator,\n",
    "    validation_steps=len(validation_generator),\n",
    "    callbacks=[cb_m1, es_accu, es_loss]\n",
    ")"
   ]
  },
  {
   "cell_type": "markdown",
   "metadata": {},
   "source": [
    "La ventaja de este modelo es que sigue creciendo, aunque parece que aparece _overfitting_  en la gráfica de perdida, también es posible apreciar que en la gráfica de presición las dos curvas siguen avanzando en paralelo y sin alejarse, por lo tanto, se convierte en un modelo a tomar en cuenta pues presenta buenos valores de precisión."
   ]
  },
  {
   "cell_type": "code",
   "execution_count": 175,
   "metadata": {},
   "outputs": [
    {
     "name": "stdout",
     "output_type": "stream",
     "text": [
      "1/1 [==============================] - 0s 14ms/step\n",
      "El valor de p1.jpeg es: [[-1253.6305  1125.8881]]\n",
      "1/1 [==============================] - 0s 12ms/step\n",
      "El valor de g1.jpeg es: [[ 34.240738 -74.94243 ]]\n"
     ]
    }
   ],
   "source": [
    "# Predicción devuelve [P(gato), P(perro)]\n",
    "img = tf.keras.preprocessing.image.load_img(\"im/p2.jpeg\", target_size=(150,150))\n",
    "im_arr = tf.keras.preprocessing.image.img_to_array(img)\n",
    "im_batch = np.expand_dims(im_arr, axis=0)\n",
    "prediction = model1.predict(im_batch)\n",
    "print(\"El valor de p1.jpeg es:\",prediction)\n",
    "img = tf.keras.preprocessing.image.load_img(\"im/g2.jpeg\", target_size=(150,150))\n",
    "im_arr = tf.keras.preprocessing.image.img_to_array(img)\n",
    "im_batch = np.expand_dims(im_arr, axis=0)\n",
    "prediction = model1.predict(im_batch)\n",
    "print(\"El valor de g1.jpeg es:\",prediction)"
   ]
  },
  {
   "cell_type": "markdown",
   "metadata": {},
   "source": [
    "Al probar este nuevo modelo con las imágenes de la carpeta `im`, tal y como hicimos anteriormente, es posible notar que este modelo falla en mayor número de ocasiones que el anterior."
   ]
  },
  {
   "cell_type": "markdown",
   "metadata": {},
   "source": [
    "## Conclusión\n",
    "\n",
    "En esta práctica se ha probado disminuir el overfitting de una red neuronal convolucional que distingue perros y gatos por medio de imágenes. Se han probado numerosos modelos y se han seleccionado dos de ellos para mostrarlos en este documento, mientras que algunos otros se encuentran en otro notebook. \n",
    "\n",
    "Se pueden hacer las siguientes observaciones particulares:\n",
    "\n",
    "- El aumento de datos es fundamental, por si solo resuelve el problema del overfitting y consigue un modelo de hasta 0.76 como valor de precisión en la validación.\n",
    "- Los modelos sin capas Dense probados en la iteración de modelos resultan menos variables y pueden llegar a tener una buena precisión.\n",
    "- Las capas de convolución con una máscara menor (por ejemplo, 3x3) permiten llegar a una precisión más alta; mientras que aquellos con una máscara mayor (por ejemplo, 5x5) permiten menor precisión pero menor varianza en los modelos.\n",
    "- Las capas Dropout ayudan a disminuir el overfitting de un modelo, sin embargo, si el valor de la capa es excesivo, puede evitar el aprendizaje.\n",
    "- Las capas de Normalización colocadas después de una capa de convolución no impactan en el modelo por si solas. Ayudan a reducir el overfitting si son usadas constantemente, aunque no ayudan con la varianza.\n",
    "- Parece que el optimizador Adam adapta mejor el valor de _learning rate_ automáticamente. Definir este valor de forma manual puede ser innecesario en estos casos.\n",
    "\n",
    "Es posible suponer que un modelo con una precisión mayor o igual a 0.75 es un modelo utilizable para una aplicación de usuario final siempre y cuando el mismo tenga una varianza controlada, una precisión mayor no será lo mejor si la varianza es muy alta o existe overfitting.\n",
    "\n",
    "Finalmente, aclarar que algunos modelos del anexo pueden presentar resultados superiores a los del documento final, no fueron seleccionados porque es muy complicado repetir el modelo con resultados similares a los mostrados (tal y como puede verse en el notebook anexo), por eso se decidió guardar los entrenamientos, pese a esto, se ha considerado que el resultado no es repetible y comprobable, en consecuencia, no son la mejor opción para una aplicación real."
   ]
  },
  {
   "cell_type": "code",
   "execution_count": null,
   "metadata": {},
   "outputs": [],
   "source": []
  }
 ],
 "metadata": {
  "accelerator": "GPU",
  "colab": {
   "name": "Actividad_2_master_IA_SCA.ipynb",
   "provenance": []
  },
  "deepnote": {},
  "deepnote_execution_queue": [],
  "deepnote_notebook_id": "3a788cd5-9822-45fa-880e-4c8ecd901829",
  "gpuClass": "standard",
  "kernelspec": {
   "display_name": "Python 3 (ipykernel)",
   "language": "python",
   "name": "python3"
  },
  "language_info": {
   "codemirror_mode": {
    "name": "ipython",
    "version": 3
   },
   "file_extension": ".py",
   "mimetype": "text/x-python",
   "name": "python",
   "nbconvert_exporter": "python",
   "pygments_lexer": "ipython3",
   "version": "3.10.5"
  }
 },
 "nbformat": 4,
 "nbformat_minor": 4
}
