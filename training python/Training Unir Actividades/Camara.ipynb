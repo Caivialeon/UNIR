{
 "cells": [
  {
   "cell_type": "code",
   "execution_count": 2,
   "id": "04c5e885",
   "metadata": {},
   "outputs": [
    {
     "ename": "ModuleNotFoundError",
     "evalue": "No module named 'imutils'",
     "output_type": "error",
     "traceback": [
      "\u001b[1;31m---------------------------------------------------------------------------\u001b[0m",
      "\u001b[1;31mModuleNotFoundError\u001b[0m                       Traceback (most recent call last)",
      "\u001b[1;32m~\\AppData\\Local\\Temp/ipykernel_5340/2413157828.py\u001b[0m in \u001b[0;36m<module>\u001b[1;34m\u001b[0m\n\u001b[1;32m----> 1\u001b[1;33m \u001b[1;32mimport\u001b[0m \u001b[0mimutils\u001b[0m\u001b[1;33m\u001b[0m\u001b[1;33m\u001b[0m\u001b[0m\n\u001b[0m\u001b[0;32m      2\u001b[0m \u001b[1;32mimport\u001b[0m \u001b[0mnumpy\u001b[0m \u001b[1;32mas\u001b[0m \u001b[0mnp\u001b[0m\u001b[1;33m\u001b[0m\u001b[1;33m\u001b[0m\u001b[0m\n\u001b[0;32m      3\u001b[0m \u001b[1;32mimport\u001b[0m \u001b[0mcv2\u001b[0m\u001b[1;33m\u001b[0m\u001b[1;33m\u001b[0m\u001b[0m\n\u001b[0;32m      4\u001b[0m \u001b[1;32mimport\u001b[0m \u001b[0mos\u001b[0m\u001b[1;33m\u001b[0m\u001b[1;33m\u001b[0m\u001b[0m\n\u001b[0;32m      5\u001b[0m \u001b[1;33m\u001b[0m\u001b[0m\n",
      "\u001b[1;31mModuleNotFoundError\u001b[0m: No module named 'imutils'"
     ]
    }
   ],
   "source": [
    "import imutils\n",
    "import numpy as np\n",
    "import cv2\n",
    "import os\n",
    "\n",
    "Video_Camara = 0\n",
    "WidthVideo = 300 # 300\n",
    "\n",
    "def main():\n",
    "\n",
    "    capWebcam = cv2.VideoCapture(Video_Camara)         # captura el video de la camara\n",
    "\n",
    "    if capWebcam.isOpened() == False:               # verifica si es posible cargar al video\n",
    "        print (\"error: capWebcam not accessed successfully\\n\\n\")      \n",
    "        os.system(\"pause\")                                          \n",
    "        return                                                      \n",
    "\n",
    "    while cv2.waitKey(1) != 27 and capWebcam.isOpened():            # until the Esc key is pressed or webcam connection is lost\n",
    "        blnFrameReadSuccessfully, imgOriginal = capWebcam.read()    # read next frame\n",
    "\n",
    "        ## REDIMENSIONA LA IMAGEN\n",
    "        imgOriginal = imutils.resize(imgOriginal, width = WidthVideo)   \n",
    "\n",
    "        if not blnFrameReadSuccessfully or imgOriginal is None:     # if frame was not read successfully\n",
    "            print (\"error: frame not read from webcam\\n\")             # print error message to std out\n",
    "            os.system(\"pause\")                                      # pause until user presses a key so user can see error message\n",
    "            break                                                   # exit while loop (which exits program)\n",
    "\n",
    "        imgGrayscale = cv2.cvtColor(imgOriginal, cv2.COLOR_BGR2GRAY)        # convert to grayscale\n",
    "       \n",
    "        cv2.imshow(\"IMAGEN ORIGINAL\", imgOriginal)         # show windows       \n",
    "        cv2.imshow(\"ESCALA DE GRISES\", imgGrayscale)\n",
    "              \n",
    "    # end while\n",
    "\n",
    "    cv2.destroyAllWindows()                 # remove windows from memory\n",
    "    return\n",
    "\n",
    "###################################################################################################\n",
    "if __name__ == \"__main__\":\n",
    "    main()\n"
   ]
  },
  {
   "cell_type": "code",
   "execution_count": null,
   "id": "de3e1437",
   "metadata": {},
   "outputs": [],
   "source": []
  }
 ],
 "metadata": {
  "kernelspec": {
   "display_name": "Python 3 (ipykernel)",
   "language": "python",
   "name": "python3"
  },
  "language_info": {
   "codemirror_mode": {
    "name": "ipython",
    "version": 3
   },
   "file_extension": ".py",
   "mimetype": "text/x-python",
   "name": "python",
   "nbconvert_exporter": "python",
   "pygments_lexer": "ipython3",
   "version": "3.9.7"
  }
 },
 "nbformat": 4,
 "nbformat_minor": 5
}
