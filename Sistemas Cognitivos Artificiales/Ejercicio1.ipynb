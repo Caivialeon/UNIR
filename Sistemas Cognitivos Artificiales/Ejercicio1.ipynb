{
 "cells": [
  {
   "cell_type": "markdown",
   "metadata": {
    "id": "YXolHjTPG5GF"
   },
   "source": [
    "Cargar el framework tensorflow y verificar su versión"
   ]
  },
  {
   "cell_type": "code",
   "execution_count": 1,
   "metadata": {
    "colab": {
     "base_uri": "https://localhost:8080/"
    },
    "id": "yB9aFIMOvU2M",
    "outputId": "66f71321-6fb7-4611-ab5a-beac2e76e0a5"
   },
   "outputs": [
    {
     "name": "stdout",
     "output_type": "stream",
     "text": [
      "2.8.0\n"
     ]
    }
   ],
   "source": [
    "import tensorflow as tf\n",
    "# from tensorflow import keras\n",
    "print(tf.__version__)"
   ]
  },
  {
   "cell_type": "markdown",
   "metadata": {
    "id": "N1Oiz8tpPy8A"
   },
   "source": []
  },
  {
   "cell_type": "markdown",
   "metadata": {
    "id": "hHMc68OkUArR"
   },
   "source": [
    "# MNIST"
   ]
  },
  {
   "cell_type": "markdown",
   "metadata": {
    "id": "I6B0iZa_RL6J"
   },
   "source": [
    "**MNIST** es una base de datos de dígitos escritos a mano, que se compone de un conjunto de entrenamiento de 60000 imágenes, y un conjunto de prueba de 10000 imágenes\n",
    "\n",
    "http://yann.lecun.com/exdb/mnist/"
   ]
  },
  {
   "cell_type": "code",
   "execution_count": 2,
   "metadata": {
    "colab": {
     "base_uri": "https://localhost:8080/"
    },
    "id": "i6Wiczf4wFOq",
    "outputId": "db2ced7e-3dd1-47ea-ece6-7ed63926e239"
   },
   "outputs": [],
   "source": [
    "digit_mnist = tf.keras.datasets.mnist\n",
    "(X_train_whole, y_train_whole), (X_test, y_test) = digit_mnist.load_data()"
   ]
  },
  {
   "cell_type": "code",
   "execution_count": 3,
   "metadata": {
    "colab": {
     "base_uri": "https://localhost:8080/"
    },
    "id": "I3354S_Mwy8V",
    "outputId": "fc450267-8974-460c-86b4-770befb6a30c"
   },
   "outputs": [
    {
     "name": "stdout",
     "output_type": "stream",
     "text": [
      "Numero de imagenes para entrenamiento 60000, de tamaño 28x28\n",
      "Numero de imagenes para validación 10000, de tamaño 28x28\n"
     ]
    }
   ],
   "source": [
    "print(f'Numero de imagenes para entrenamiento {X_train_whole.shape[0]}, de tamaño {X_train_whole.shape[1]}x{X_train_whole.shape[2]}')\n",
    "print(f'Numero de imagenes para validación {X_test.shape[0]}, de tamaño {X_test.shape[1]}x{X_test.shape[2]}')"
   ]
  },
  {
   "cell_type": "code",
   "execution_count": 4,
   "metadata": {
    "colab": {
     "base_uri": "https://localhost:8080/",
     "height": 795
    },
    "id": "zXLcxwoitLFR",
    "outputId": "bafe4226-3160-48c3-ae64-ad7e75319e17"
   },
   "outputs": [
    {
     "name": "stdout",
     "output_type": "stream",
     "text": [
      "5\n",
      "[[  0   0   0   0   0   0   0   0   0   0   0   0   0   0   0   0   0   0   0   0   0   0   0   0   0   0   0   0]\n",
      " [  0   0   0   0   0   0   0   0   0   0   0   0   0   0   0   0   0   0   0   0   0   0   0   0   0   0   0   0]\n",
      " [  0   0   0   0   0   0   0   0   0   0   0   0   0   0   0   0   0   0   0   0   0   0   0   0   0   0   0   0]\n",
      " [  0   0   0   0   0   0   0   0   0   0   0   0   0   0   0   0   0   0   0   0   0   0   0   0   0   0   0   0]\n",
      " [  0   0   0   0   0   0   0   0   0   0   0   0   0   0   0   0   0   0   0   0   0   0   0   0   0   0   0   0]\n",
      " [  0   0   0   0   0   0   0   0   0   0   0   0   0   0   0   0   0   0   0   0   0   0   0   0   0   0   0   0]\n",
      " [  0   0   0   0   0   0   0   0   0   0   0   0   0   0   0   0   0   0   0   0   0   0   0   0   0   0   0   0]\n",
      " [  0   0   0   0   0   0  84 185 159 151  60  36   0   0   0   0   0   0   0   0   0   0   0   0   0   0   0   0]\n",
      " [  0   0   0   0   0   0 222 254 254 254 254 241 198 198 198 198 198 198 198 198 170  52   0   0   0   0   0   0]\n",
      " [  0   0   0   0   0   0  67 114  72 114 163 227 254 225 254 254 254 250 229 254 254 140   0   0   0   0   0   0]\n",
      " [  0   0   0   0   0   0   0   0   0   0   0  17  66  14  67  67  67  59  21 236 254 106   0   0   0   0   0   0]\n",
      " [  0   0   0   0   0   0   0   0   0   0   0   0   0   0   0   0   0   0  83 253 209  18   0   0   0   0   0   0]\n",
      " [  0   0   0   0   0   0   0   0   0   0   0   0   0   0   0   0   0  22 233 255  83   0   0   0   0   0   0   0]\n",
      " [  0   0   0   0   0   0   0   0   0   0   0   0   0   0   0   0   0 129 254 238  44   0   0   0   0   0   0   0]\n",
      " [  0   0   0   0   0   0   0   0   0   0   0   0   0   0   0   0  59 249 254  62   0   0   0   0   0   0   0   0]\n",
      " [  0   0   0   0   0   0   0   0   0   0   0   0   0   0   0   0 133 254 187   5   0   0   0   0   0   0   0   0]\n",
      " [  0   0   0   0   0   0   0   0   0   0   0   0   0   0   0   9 205 248  58   0   0   0   0   0   0   0   0   0]\n",
      " [  0   0   0   0   0   0   0   0   0   0   0   0   0   0   0 126 254 182   0   0   0   0   0   0   0   0   0   0]\n",
      " [  0   0   0   0   0   0   0   0   0   0   0   0   0   0  75 251 240  57   0   0   0   0   0   0   0   0   0   0]\n",
      " [  0   0   0   0   0   0   0   0   0   0   0   0   0  19 221 254 166   0   0   0   0   0   0   0   0   0   0   0]\n",
      " [  0   0   0   0   0   0   0   0   0   0   0   0   3 203 254 219  35   0   0   0   0   0   0   0   0   0   0   0]\n",
      " [  0   0   0   0   0   0   0   0   0   0   0   0  38 254 254  77   0   0   0   0   0   0   0   0   0   0   0   0]\n",
      " [  0   0   0   0   0   0   0   0   0   0   0  31 224 254 115   1   0   0   0   0   0   0   0   0   0   0   0   0]\n",
      " [  0   0   0   0   0   0   0   0   0   0   0 133 254 254  52   0   0   0   0   0   0   0   0   0   0   0   0   0]\n",
      " [  0   0   0   0   0   0   0   0   0   0  61 242 254 254  52   0   0   0   0   0   0   0   0   0   0   0   0   0]\n",
      " [  0   0   0   0   0   0   0   0   0   0 121 254 254 219  40   0   0   0   0   0   0   0   0   0   0   0   0   0]\n",
      " [  0   0   0   0   0   0   0   0   0   0 121 254 207  18   0   0   0   0   0   0   0   0   0   0   0   0   0   0]\n",
      " [  0   0   0   0   0   0   0   0   0   0   0   0   0   0   0   0   0   0   0   0   0   0   0   0   0   0   0   0]]\n"
     ]
    },
    {
     "data": {
      "image/png": "[encoded data removed]",
      "text/plain": [
       "<Figure size 432x288 with 1 Axes>"
      ]
     },
     "metadata": {
      "needs_background": "light"
     },
     "output_type": "display_data"
    }
   ],
   "source": [
    "import numpy as np\n",
    "# linewidth - número de caracteres por línea\n",
    "np.set_printoptions(linewidth=200)\n",
    "import matplotlib.pyplot as plt\n",
    "# Mapa de color: gris\n",
    "plt.imshow(X_train_whole[0], cmap=\"gray\") # \"Blues\" \"viridis\" (G, Y, B)\n",
    "\n",
    "print(y_train_whole[0])\n",
    "print(X_test[0])"
   ]
  },
  {
   "cell_type": "markdown",
   "metadata": {
    "id": "lfE_M8X4sXfR"
   },
   "source": [
    "Tipo de datos"
   ]
  },
  {
   "cell_type": "code",
   "execution_count": 5,
   "metadata": {
    "colab": {
     "base_uri": "https://localhost:8080/"
    },
    "id": "eF72P2Ttw9l1",
    "outputId": "235b586b-ca44-45f2-bbca-252317b182c5"
   },
   "outputs": [
    {
     "data": {
      "text/plain": [
       "dtype('uint8')"
      ]
     },
     "execution_count": 5,
     "metadata": {},
     "output_type": "execute_result"
    }
   ],
   "source": [
    "X_train_whole.dtype"
   ]
  },
  {
   "cell_type": "markdown",
   "metadata": {
    "id": "LbwfZKPgshUi"
   },
   "source": [
    "## Dataset para entrenamiento"
   ]
  },
  {
   "cell_type": "markdown",
   "metadata": {
    "id": "2abFWJ97sfMW"
   },
   "source": [
    "\n",
    "Dividir el conjunto *X_train_whole* en dos conjuntos: el de entrenamiento y el de validación"
   ]
  },
  {
   "cell_type": "code",
   "execution_count": 6,
   "metadata": {
    "colab": {
     "base_uri": "https://localhost:8080/"
    },
    "id": "FmXje7LExDBl",
    "outputId": "ed015ffa-dd1f-4aa4-c9a8-564053af5c62"
   },
   "outputs": [
    {
     "name": "stdout",
     "output_type": "stream",
     "text": [
      "(48000, 28, 28)\n",
      "(12000, 28, 28)\n"
     ]
    }
   ],
   "source": [
    "X_valid, X_train = X_train_whole[:12000], X_train_whole[12000:]\n",
    "y_valid, y_train = y_train_whole[:12000], y_train_whole[12000:]\n",
    "print(X_train.shape)\n",
    "print(X_valid.shape)"
   ]
  },
  {
   "cell_type": "code",
   "execution_count": 7,
   "metadata": {
    "colab": {
     "base_uri": "https://localhost:8080/"
    },
    "id": "UJBjqDR4s9p4",
    "outputId": "30c385c0-9ae2-4273-baee-48c6c9551173"
   },
   "outputs": [
    {
     "name": "stdout",
     "output_type": "stream",
     "text": [
      "(48000, 28, 28)\n",
      "(12000, 28, 28)\n"
     ]
    }
   ],
   "source": [
    "from sklearn.model_selection import train_test_split\n",
    "\n",
    "X_train_1, X_test_1, y_train_1, y_test_1 = train_test_split(X_train_whole, y_train_whole, test_size=0.2, random_state=42)\n",
    "print(X_train_1.shape)\n",
    "print(X_test_1.shape)"
   ]
  },
  {
   "cell_type": "markdown",
   "metadata": {
    "id": "O7zmlyOz2j4B"
   },
   "source": [
    "Normalización de datos"
   ]
  },
  {
   "cell_type": "code",
   "execution_count": 8,
   "metadata": {
    "colab": {
     "base_uri": "https://localhost:8080/"
    },
    "id": "yb6oVnsa2jBa",
    "outputId": "40a8b824-269e-4e85-b723-1d92ca58f8d5"
   },
   "outputs": [
    {
     "name": "stdout",
     "output_type": "stream",
     "text": [
      "[0.         0.05490196 0.00392157 0.60392157 0.99215686 0.35294118 0.        ]\n"
     ]
    }
   ],
   "source": [
    "X_train = X_train / 255.0\n",
    "X_valid = X_valid / 255.0\n",
    "print(X_valid[0,10,8:15])\n"
   ]
  },
  {
   "cell_type": "markdown",
   "metadata": {
    "id": "wyWzaWL44MkB"
   },
   "source": [
    "Clases del problema\n",
    "\n",
    "Dígitos del 0 al 9"
   ]
  },
  {
   "cell_type": "markdown",
   "metadata": {
    "id": "VSjLMbi44hvQ"
   },
   "source": [
    "# Red neuronal (modelo)"
   ]
  },
  {
   "cell_type": "markdown",
   "metadata": {
    "id": "-PImDurg4n-N"
   },
   "source": [
    "Capas\n",
    "\n",
    "*  **Sequential** - SECUENCIA de capas (apiladas) en la red neuronal\n",
    "*  **Dense** - Capa de neuronas densamente conectada\n",
    "*  **Flatten** - Convierte un arreglo bidimensional (matrix) a un vector de una dimensión.\n",
    "\n",
    "Funciones de activación\n",
    "\n",
    "*   **Relu** Si X>0 devuelve X, si no, devuelve 0\n",
    "*   **Softmax** toma un conjunto de valores, y escoge el más grande."
   ]
  },
  {
   "cell_type": "code",
   "execution_count": 9,
   "metadata": {
    "id": "X2sZ86B6ywW-"
   },
   "outputs": [],
   "source": [
    "model = tf.keras.models.Sequential()\n",
    "model.add(tf.keras.layers.Flatten(input_shape=[28,28]))\n",
    "model.add(tf.keras.layers.Dense(300, activation='relu'))\n",
    "model.add(tf.keras.layers.Dense(300, activation='relu'))\n",
    "model.add(tf.keras.layers.Dense(10, activation='softmax'))\n",
    "\n",
    "\n",
    "model_ = tf.keras.Sequential()\n",
    "model_.add(tf.keras.layers.Flatten(input_shape=(28, 28)))\n",
    "model_.add(tf.keras.layers.Dense(512, activation='relu'))\n",
    "model_.add(tf.keras.layers.Dense(10, activation='softmax'))"
   ]
  },
  {
   "cell_type": "markdown",
   "metadata": {
    "id": "7lRAIqAL7uq7"
   },
   "source": [
    "Número de parámetros"
   ]
  },
  {
   "cell_type": "code",
   "execution_count": 10,
   "metadata": {
    "colab": {
     "base_uri": "https://localhost:8080/"
    },
    "id": "FQ1T4S6K65Or",
    "outputId": "d4db4bce-14e4-4e05-89f9-505a69070941"
   },
   "outputs": [
    {
     "name": "stdout",
     "output_type": "stream",
     "text": [
      "Model: \"sequential\"\n",
      "_________________________________________________________________\n",
      " Layer (type)                Output Shape              Param #   \n",
      "=================================================================\n",
      " flatten (Flatten)           (None, 784)               0         \n",
      "                                                                 \n",
      " dense (Dense)               (None, 300)               235500    \n",
      "                                                                 \n",
      " dense_1 (Dense)             (None, 300)               90300     \n",
      "                                                                 \n",
      " dense_2 (Dense)             (None, 10)                3010      \n",
      "                                                                 \n",
      "=================================================================\n",
      "Total params: 328,810\n",
      "Trainable params: 328,810\n",
      "Non-trainable params: 0\n",
      "_________________________________________________________________\n",
      "Model: \"sequential_1\"\n",
      "_________________________________________________________________\n",
      " Layer (type)                Output Shape              Param #   \n",
      "=================================================================\n",
      " flatten_1 (Flatten)         (None, 784)               0         \n",
      "                                                                 \n",
      " dense_3 (Dense)             (None, 512)               401920    \n",
      "                                                                 \n",
      " dense_4 (Dense)             (None, 10)                5130      \n",
      "                                                                 \n",
      "=================================================================\n",
      "Total params: 407,050\n",
      "Trainable params: 407,050\n",
      "Non-trainable params: 0\n",
      "_________________________________________________________________\n"
     ]
    }
   ],
   "source": [
    "model.summary()\n",
    "model_.summary()"
   ]
  },
  {
   "cell_type": "markdown",
   "metadata": {
    "id": "z5XhUd-18t7h"
   },
   "source": [
    "**Configuración del modelo**\n",
    "\n",
    "*   *optimizer* - Optimizador (https://www.tensorflow.org/api_docs/python/tf/keras/optimizers)\n",
    "*   *loss* - Función de perdida\n",
    "*   *metrics* - Métricas para la evaluación (desempeño) del modelo"
   ]
  },
  {
   "cell_type": "code",
   "execution_count": 11,
   "metadata": {
    "id": "LY4yI5ay8Yjv"
   },
   "outputs": [],
   "source": [
    "model.compile(loss='sparse_categorical_crossentropy',\n",
    "              optimizer = \"sgd\",\n",
    "              metrics = [\"accuracy\"]\n",
    "              )"
   ]
  },
  {
   "cell_type": "markdown",
   "metadata": {
    "id": "iQIYQJRE-YfI"
   },
   "source": [
    "Entrenamiento del modelo\n",
    "\n",
    "*   epochs - Número de epocas para entrenar el modelo\n",
    "*   validation_data - Conjunto de datos que se emplean para evaluar la perdida al final de cada epoca.\n",
    "*   batch_size - Número de muestras para actualización del gradiente\n",
    "*   verbose - Salida del proceso de entrenamiento (0, 1, 2)"
   ]
  },
  {
   "cell_type": "code",
   "execution_count": 12,
   "metadata": {
    "colab": {
     "base_uri": "https://localhost:8080/"
    },
    "id": "7w7Li9AZ9AjT",
    "outputId": "a49d8aed-9645-4be0-d42b-38786ae72d31"
   },
   "outputs": [
    {
     "name": "stdout",
     "output_type": "stream",
     "text": [
      "Epoch 1/15\n",
      "1500/1500 [==============================] - 6s 4ms/step - loss: 0.6639 - accuracy: 0.8340 - val_loss: 0.3341 - val_accuracy: 0.9080\n",
      "Epoch 2/15\n",
      "1500/1500 [==============================] - 5s 4ms/step - loss: 0.3021 - accuracy: 0.9142 - val_loss: 0.2649 - val_accuracy: 0.9256\n",
      "Epoch 3/15\n",
      "1500/1500 [==============================] - 5s 3ms/step - loss: 0.2504 - accuracy: 0.9296 - val_loss: 0.2280 - val_accuracy: 0.9366\n",
      "Epoch 4/15\n",
      "1500/1500 [==============================] - 5s 3ms/step - loss: 0.2168 - accuracy: 0.9380 - val_loss: 0.2072 - val_accuracy: 0.9417\n",
      "Epoch 5/15\n",
      "1500/1500 [==============================] - 5s 3ms/step - loss: 0.1915 - accuracy: 0.9459 - val_loss: 0.1882 - val_accuracy: 0.9466\n",
      "Epoch 6/15\n",
      "1500/1500 [==============================] - 5s 3ms/step - loss: 0.1713 - accuracy: 0.9513 - val_loss: 0.1681 - val_accuracy: 0.9519\n",
      "Epoch 7/15\n",
      "1500/1500 [==============================] - 5s 4ms/step - loss: 0.1545 - accuracy: 0.9555 - val_loss: 0.1548 - val_accuracy: 0.9553\n",
      "Epoch 8/15\n",
      "1500/1500 [==============================] - 5s 4ms/step - loss: 0.1397 - accuracy: 0.9605 - val_loss: 0.1527 - val_accuracy: 0.9557\n",
      "Epoch 9/15\n",
      "1500/1500 [==============================] - 5s 3ms/step - loss: 0.1278 - accuracy: 0.9637 - val_loss: 0.1369 - val_accuracy: 0.9599\n",
      "Epoch 10/15\n",
      "1500/1500 [==============================] - 6s 4ms/step - loss: 0.1170 - accuracy: 0.9669 - val_loss: 0.1325 - val_accuracy: 0.9614\n",
      "Epoch 11/15\n",
      "1500/1500 [==============================] - 5s 3ms/step - loss: 0.1079 - accuracy: 0.9695 - val_loss: 0.1231 - val_accuracy: 0.9648\n",
      "Epoch 12/15\n",
      "1500/1500 [==============================] - 5s 3ms/step - loss: 0.0996 - accuracy: 0.9716 - val_loss: 0.1186 - val_accuracy: 0.9655\n",
      "Epoch 13/15\n",
      "1500/1500 [==============================] - 5s 3ms/step - loss: 0.0924 - accuracy: 0.9737 - val_loss: 0.1130 - val_accuracy: 0.9678\n",
      "Epoch 14/15\n",
      "1500/1500 [==============================] - 5s 3ms/step - loss: 0.0856 - accuracy: 0.9762 - val_loss: 0.1080 - val_accuracy: 0.9676\n",
      "Epoch 15/15\n",
      "1500/1500 [==============================] - 5s 3ms/step - loss: 0.0800 - accuracy: 0.9778 - val_loss: 0.1045 - val_accuracy: 0.9682\n"
     ]
    }
   ],
   "source": [
    "history = model.fit(X_train, y_train, epochs=15, validation_data=(X_valid, y_valid), verbose=1, batch_size=32)"
   ]
  },
  {
   "cell_type": "code",
   "execution_count": 13,
   "metadata": {
    "colab": {
     "base_uri": "https://localhost:8080/",
     "height": 324
    },
    "id": "DRhle9_C9tCO",
    "outputId": "4a0863da-3a16-483c-cda5-ffbac02dd91e"
   },
   "outputs": [
    {
     "data": {
      "image/png": "[encoded data removed]",
      "text/plain": [
       "<Figure size 576x360 with 1 Axes>"
      ]
     },
     "metadata": {
      "needs_background": "light"
     },
     "output_type": "display_data"
    }
   ],
   "source": [
    "import pandas as pd\n",
    "import matplotlib.pyplot as plt\n",
    "\n",
    "pd.DataFrame(history.history).plot(figsize=(8,5))\n",
    "plt.grid(True)\n",
    "plt.gca().set_ylim(0,1)\n",
    "plt.show()"
   ]
  },
  {
   "cell_type": "code",
   "execution_count": 14,
   "metadata": {
    "colab": {
     "base_uri": "https://localhost:8080/"
    },
    "id": "5efCJ2SJ_Cvv",
    "outputId": "7ea33c77-ebaa-4053-dfff-69d11ae2339a"
   },
   "outputs": [
    {
     "name": "stdout",
     "output_type": "stream",
     "text": [
      "313/313 [==============================] - 1s 3ms/step - loss: 13.6527 - accuracy: 0.9694\n"
     ]
    },
    {
     "data": {
      "text/plain": [
       "[13.652666091918945, 0.9693999886512756]"
      ]
     },
     "execution_count": 14,
     "metadata": {},
     "output_type": "execute_result"
    }
   ],
   "source": [
    "model.evaluate(X_test, y_test)"
   ]
  },
  {
   "cell_type": "code",
   "execution_count": null,
   "metadata": {
    "id": "_JOhzz6N_Iqm"
   },
   "outputs": [],
   "source": []
  }
 ],
 "metadata": {
  "colab": {
   "name": "Ejercicio1.ipynb",
   "provenance": []
  },
  "kernelspec": {
   "display_name": "Python 3 (ipykernel)",
   "language": "python",
   "name": "python3"
  },
  "language_info": {
   "codemirror_mode": {
    "name": "ipython",
    "version": 3
   },
   "file_extension": ".py",
   "mimetype": "text/x-python",
   "name": "python",
   "nbconvert_exporter": "python",
   "pygments_lexer": "ipython3",
   "version": "3.9.7"
  }
 },
 "nbformat": 4,
 "nbformat_minor": 1
}
