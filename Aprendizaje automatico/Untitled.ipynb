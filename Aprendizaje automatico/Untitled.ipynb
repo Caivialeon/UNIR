{
 "cells": [
  {
   "cell_type": "code",
   "execution_count": 33,
   "id": "3bd67cb6",
   "metadata": {},
   "outputs": [
    {
     "name": "stdout",
     "output_type": "stream",
     "text": [
      "      Id  SepalLengthCm  SepalWidthCm  PetalLengthCm  PetalWidthCm  \\\n",
      "0      1            5.1           3.5            1.4           0.2   \n",
      "1      2            4.9           3.0            1.4           0.2   \n",
      "2      3            4.7           3.2            1.3           0.2   \n",
      "3      4            4.6           3.1            1.5           0.2   \n",
      "4      5            5.0           3.6            1.4           0.2   \n",
      "..   ...            ...           ...            ...           ...   \n",
      "145  146            6.7           3.0            5.2           2.3   \n",
      "146  147            6.3           2.5            5.0           1.9   \n",
      "147  148            6.5           3.0            5.2           2.0   \n",
      "148  149            6.2           3.4            5.4           2.3   \n",
      "149  150            5.9           3.0            5.1           1.8   \n",
      "\n",
      "            Species  \n",
      "0       Iris-setosa  \n",
      "1       Iris-setosa  \n",
      "2       Iris-setosa  \n",
      "3       Iris-setosa  \n",
      "4       Iris-setosa  \n",
      "..              ...  \n",
      "145  Iris-virginica  \n",
      "146  Iris-virginica  \n",
      "147  Iris-virginica  \n",
      "148  Iris-virginica  \n",
      "149  Iris-virginica  \n",
      "\n",
      "[150 rows x 6 columns]\n"
     ]
    }
   ],
   "source": [
    "import pandas as pd\n",
    "from sklearn.model_selection import train_test_split\n",
    "from sklearn import svm\n",
    "from sklearn import metrics\n",
    "from sklearn.neighbors import KNeighborsClassifier\n",
    "import numpy as np\n",
    "\n",
    "data = pd.read_csv(r\"Iris\\Iris.csv\")\n",
    "print(data)"
   ]
  },
  {
   "cell_type": "code",
   "execution_count": 6,
   "id": "a2283fa0",
   "metadata": {},
   "outputs": [
    {
     "name": "stdout",
     "output_type": "stream",
     "text": [
      "(120, 6)\n",
      "(30, 6)\n"
     ]
    }
   ],
   "source": [
    "train,test = train_test_split(data , test_size = 0.2)\n",
    "print(train.shape)\n",
    "print(test.shape)"
   ]
  },
  {
   "cell_type": "code",
   "execution_count": 7,
   "id": "48906df0",
   "metadata": {},
   "outputs": [
    {
     "name": "stdout",
     "output_type": "stream",
     "text": [
      "      Id  SepalLengthCm  SepalWidthCm  PetalLengthCm  PetalWidthCm  \\\n",
      "96    97            5.7           2.9            4.2           1.3   \n",
      "56    57            6.3           3.3            4.7           1.6   \n",
      "57    58            4.9           2.4            3.3           1.0   \n",
      "58    59            6.6           2.9            4.6           1.3   \n",
      "4      5            5.0           3.6            1.4           0.2   \n",
      "21    22            5.1           3.7            1.5           0.4   \n",
      "27    28            5.2           3.5            1.5           0.2   \n",
      "41    42            4.5           2.3            1.3           0.3   \n",
      "48    49            5.3           3.7            1.5           0.2   \n",
      "105  106            7.6           3.0            6.6           2.1   \n",
      "15    16            5.7           4.4            1.5           0.4   \n",
      "64    65            5.6           2.9            3.6           1.3   \n",
      "65    66            6.7           3.1            4.4           1.4   \n",
      "106  107            4.9           2.5            4.5           1.7   \n",
      "143  144            6.8           3.2            5.9           2.3   \n",
      "28    29            5.2           3.4            1.4           0.2   \n",
      "36    37            5.5           3.5            1.3           0.2   \n",
      "92    93            5.8           2.6            4.0           1.2   \n",
      "134  135            6.1           2.6            5.6           1.4   \n",
      "42    43            4.4           3.2            1.3           0.2   \n",
      "147  148            6.5           3.0            5.2           2.0   \n",
      "135  136            7.7           3.0            6.1           2.3   \n",
      "79    80            5.7           2.6            3.5           1.0   \n",
      "98    99            5.1           2.5            3.0           1.1   \n",
      "51    52            6.4           3.2            4.5           1.5   \n",
      "49    50            5.0           3.3            1.4           0.2   \n",
      "29    30            4.7           3.2            1.6           0.2   \n",
      "50    51            7.0           3.2            4.7           1.4   \n",
      "22    23            4.6           3.6            1.0           0.2   \n",
      "111  112            6.4           2.7            5.3           1.9   \n",
      "\n",
      "             Species  \n",
      "96   Iris-versicolor  \n",
      "56   Iris-versicolor  \n",
      "57   Iris-versicolor  \n",
      "58   Iris-versicolor  \n",
      "4        Iris-setosa  \n",
      "21       Iris-setosa  \n",
      "27       Iris-setosa  \n",
      "41       Iris-setosa  \n",
      "48       Iris-setosa  \n",
      "105   Iris-virginica  \n",
      "15       Iris-setosa  \n",
      "64   Iris-versicolor  \n",
      "65   Iris-versicolor  \n",
      "106   Iris-virginica  \n",
      "143   Iris-virginica  \n",
      "28       Iris-setosa  \n",
      "36       Iris-setosa  \n",
      "92   Iris-versicolor  \n",
      "134   Iris-virginica  \n",
      "42       Iris-setosa  \n",
      "147   Iris-virginica  \n",
      "135   Iris-virginica  \n",
      "79   Iris-versicolor  \n",
      "98   Iris-versicolor  \n",
      "51   Iris-versicolor  \n",
      "49       Iris-setosa  \n",
      "29       Iris-setosa  \n",
      "50   Iris-versicolor  \n",
      "22       Iris-setosa  \n",
      "111   Iris-virginica  \n"
     ]
    }
   ],
   "source": [
    "print(test)"
   ]
  },
  {
   "cell_type": "code",
   "execution_count": 14,
   "id": "a7d9e09a",
   "metadata": {},
   "outputs": [
    {
     "name": "stdout",
     "output_type": "stream",
     "text": [
      "96     Iris-versicolor\n",
      "56     Iris-versicolor\n",
      "57     Iris-versicolor\n",
      "58     Iris-versicolor\n",
      "4          Iris-setosa\n",
      "21         Iris-setosa\n",
      "27         Iris-setosa\n",
      "41         Iris-setosa\n",
      "48         Iris-setosa\n",
      "105     Iris-virginica\n",
      "15         Iris-setosa\n",
      "64     Iris-versicolor\n",
      "65     Iris-versicolor\n",
      "106     Iris-virginica\n",
      "143     Iris-virginica\n",
      "28         Iris-setosa\n",
      "36         Iris-setosa\n",
      "92     Iris-versicolor\n",
      "134     Iris-virginica\n",
      "42         Iris-setosa\n",
      "147     Iris-virginica\n",
      "135     Iris-virginica\n",
      "79     Iris-versicolor\n",
      "98     Iris-versicolor\n",
      "51     Iris-versicolor\n",
      "49         Iris-setosa\n",
      "29         Iris-setosa\n",
      "50     Iris-versicolor\n",
      "22         Iris-setosa\n",
      "111     Iris-virginica\n",
      "Name: Species, dtype: object\n"
     ]
    }
   ],
   "source": [
    "train_x = train[[\"SepalLengthCm\" , \"SepalWidthCm\" , \"PetalLengthCm\" , \"PetalWidthCm\" ]]\n",
    "train_y = train.Species\n",
    "\n",
    "test_x = test [[\"SepalLengthCm\" , \"SepalWidthCm\" , \"PetalLengthCm\" , \"PetalWidthCm\" ]]\n",
    "test_y = test.Species\n",
    "\n",
    "print(test_y)"
   ]
  },
  {
   "cell_type": "code",
   "execution_count": 19,
   "id": "a8b13b7b",
   "metadata": {},
   "outputs": [
    {
     "name": "stdout",
     "output_type": "stream",
     "text": [
      "the accuary of the SVM is: 0.9666666666666667\n"
     ]
    }
   ],
   "source": [
    "model = svm.SVC()\n",
    "model.fit(train_x,train_y)\n",
    "\n",
    "prediction = model.predict(test_x)\n",
    "print(\"the accuary of the SVM is:\" , metrics.accuracy_score(prediction,test_y))"
   ]
  },
  {
   "cell_type": "code",
   "execution_count": 31,
   "id": "dea7bce3",
   "metadata": {},
   "outputs": [
    {
     "name": "stdout",
     "output_type": "stream",
     "text": [
      "The accuracy of the KNN is: 0.9666666666666667\n"
     ]
    }
   ],
   "source": [
    "knn_model = KNeighborsClassifier(n_neighbors=5)\n",
    "knn_model.fit(train_x,train_y)\n",
    "prediction=knn_model.predict(test_x)\n",
    "\n",
    "print('The accuracy of the KNN is:',metrics.accuracy_score(prediction,test_y))"
   ]
  },
  {
   "cell_type": "code",
   "execution_count": 36,
   "id": "7a7772de",
   "metadata": {},
   "outputs": [
    {
     "name": "stdout",
     "output_type": "stream",
     "text": [
      "The accuracy of the KNN is: 0.9800000000000001\n"
     ]
    }
   ],
   "source": [
    "output= np.zeros(5)\n",
    "\n",
    "for i in range(5):\n",
    "    train, test = train_test_split(data, test_size = 0.2)\n",
    "    train_X = train[['SepalLengthCm','SepalWidthCm','PetalLengthCm','PetalWidthCm']]\n",
    "    train_y=train.Species\n",
    "    test_X= test[['SepalLengthCm','SepalWidthCm','PetalLengthCm','PetalWidthCm']] \n",
    "    test_y =test.Species  \n",
    "    knn_model = KNeighborsClassifier(n_neighbors=3)\n",
    "    knn_model.fit(train_X,train_y)\n",
    "    prediction=knn_model.predict(test_X)\n",
    "    output[i]=metrics.accuracy_score(prediction,test_y)\n",
    "print('The accuracy of the KNN is:',np.mean(output))\n",
    "\n"
   ]
  },
  {
   "cell_type": "code",
   "execution_count": 37,
   "id": "1503f569",
   "metadata": {},
   "outputs": [
    {
     "name": "stdout",
     "output_type": "stream",
     "text": [
      "[1.         1.         1.         0.93333333 0.96666667]\n"
     ]
    }
   ],
   "source": [
    "print(output)"
   ]
  },
  {
   "cell_type": "code",
   "execution_count": 38,
   "id": "9a9b6453",
   "metadata": {},
   "outputs": [
    {
     "name": "stdout",
     "output_type": "stream",
     "text": [
      "4.3\n",
      "7.9\n"
     ]
    }
   ],
   "source": [
    "col = data[\"SepalLengthCm\"]\n",
    "print(col.min())\n",
    "print(col.max())"
   ]
  },
  {
   "cell_type": "code",
   "execution_count": 39,
   "id": "ef1404b8",
   "metadata": {},
   "outputs": [],
   "source": [
    "data['Label'] = pd.cut(x=data['SepalLengthCm'], bins=[0, 5.3, 6.7, 8],labels=['Grupo1', 'Grupo2', 'Grupo3'])"
   ]
  },
  {
   "cell_type": "code",
   "execution_count": 40,
   "id": "f2ea60e2",
   "metadata": {},
   "outputs": [
    {
     "name": "stdout",
     "output_type": "stream",
     "text": [
      "      Id  SepalLengthCm  SepalWidthCm  PetalLengthCm  PetalWidthCm  \\\n",
      "0      1            5.1           3.5            1.4           0.2   \n",
      "1      2            4.9           3.0            1.4           0.2   \n",
      "2      3            4.7           3.2            1.3           0.2   \n",
      "3      4            4.6           3.1            1.5           0.2   \n",
      "4      5            5.0           3.6            1.4           0.2   \n",
      "..   ...            ...           ...            ...           ...   \n",
      "145  146            6.7           3.0            5.2           2.3   \n",
      "146  147            6.3           2.5            5.0           1.9   \n",
      "147  148            6.5           3.0            5.2           2.0   \n",
      "148  149            6.2           3.4            5.4           2.3   \n",
      "149  150            5.9           3.0            5.1           1.8   \n",
      "\n",
      "            Species   Label  \n",
      "0       Iris-setosa  Grupo1  \n",
      "1       Iris-setosa  Grupo1  \n",
      "2       Iris-setosa  Grupo1  \n",
      "3       Iris-setosa  Grupo1  \n",
      "4       Iris-setosa  Grupo1  \n",
      "..              ...     ...  \n",
      "145  Iris-virginica  Grupo2  \n",
      "146  Iris-virginica  Grupo2  \n",
      "147  Iris-virginica  Grupo2  \n",
      "148  Iris-virginica  Grupo2  \n",
      "149  Iris-virginica  Grupo2  \n",
      "\n",
      "[150 rows x 7 columns]\n"
     ]
    }
   ],
   "source": [
    "print(data)"
   ]
  },
  {
   "cell_type": "code",
   "execution_count": 41,
   "id": "49e92927",
   "metadata": {},
   "outputs": [
    {
     "name": "stdout",
     "output_type": "stream",
     "text": [
      "     SepalLengthCm   Label\n",
      "0              5.1  Grupo1\n",
      "1              4.9  Grupo1\n",
      "2              4.7  Grupo1\n",
      "3              4.6  Grupo1\n",
      "4              5.0  Grupo1\n",
      "..             ...     ...\n",
      "145            6.7  Grupo2\n",
      "146            6.3  Grupo2\n",
      "147            6.5  Grupo2\n",
      "148            6.2  Grupo2\n",
      "149            5.9  Grupo2\n",
      "\n",
      "[150 rows x 2 columns]\n"
     ]
    }
   ],
   "source": [
    "x = data[['SepalLengthCm', 'Label']]\n",
    "print(x)\n",
    "x.to_csv(\"discreted.csv\")"
   ]
  },
  {
   "cell_type": "code",
   "execution_count": null,
   "id": "0fcc9139",
   "metadata": {},
   "outputs": [],
   "source": []
  }
 ],
 "metadata": {
  "kernelspec": {
   "display_name": "Python 3 (ipykernel)",
   "language": "python",
   "name": "python3"
  },
  "language_info": {
   "codemirror_mode": {
    "name": "ipython",
    "version": 3
   },
   "file_extension": ".py",
   "mimetype": "text/x-python",
   "name": "python",
   "nbconvert_exporter": "python",
   "pygments_lexer": "ipython3",
   "version": "3.9.7"
  }
 },
 "nbformat": 4,
 "nbformat_minor": 5
}
