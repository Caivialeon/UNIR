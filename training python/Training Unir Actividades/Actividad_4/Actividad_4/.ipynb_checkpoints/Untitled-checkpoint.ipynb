{
 "cells": [
  {
   "cell_type": "markdown",
   "id": "94e8f53c",
   "metadata": {},
   "source": [
    "# Implementa una función llamada ejercicio4 que recibiendo el dataframe con los datos del Titanic, devuelva en una tupla el porcentaje de hombres y mujeres que viajaban en el Titanic, redondeados al segundo decimal."
   ]
  },
  {
   "cell_type": "code",
   "execution_count": 20,
   "id": "d90567b7",
   "metadata": {},
   "outputs": [],
   "source": [
    "import pandas as pd\n",
    "import numpy as np\n",
    "import math\n",
    "\n",
    "tp = ()\n",
    "contador = 0\n",
    "total = 0\n",
    "ruta  = \"titanic.csv\"\n",
    "df = pd.read_csv(ruta)\n",
    "dataframe = pd.DataFrame(df)\n",
    "for i in dataframe[\"Survived\"]:\n",
    "    total = total + 1\n",
    "    if i == True:\n",
    "        contador = contador + 1\n",
    "\n",
    "porcentaje = (contador / total)*100"
   ]
  },
  {
   "cell_type": "code",
   "execution_count": 21,
   "id": "ae2e3f06",
   "metadata": {},
   "outputs": [
    {
     "name": "stdout",
     "output_type": "stream",
     "text": [
      "891\n",
      "342\n",
      "38.38\n",
      "()\n"
     ]
    }
   ],
   "source": [
    "print(total)\n",
    "print(contador)\n",
    "print(round(porcentaje , 2))\n",
    "print(tp)"
   ]
  },
  {
   "cell_type": "code",
   "execution_count": 36,
   "id": "31b6e59c",
   "metadata": {},
   "outputs": [],
   "source": [
    "import pandas as pd\n",
    "import numpy as np\n",
    "import math\n",
    "\n",
    "tp = ()\n",
    "hombre = 0\n",
    "mujer = 0\n",
    "total = 0\n",
    "\n",
    "df = pd.read_csv(\"titanic.csv\")\n",
    "dataframe = pd.DataFrame(df)\n",
    "\n",
    "for i in dataframe[\"Sex\"]:\n",
    "    total = total + 1\n",
    "    if i == \"male\":\n",
    "        hombre = hombre + 1\n",
    "    else:\n",
    "        mujer = mujer + 1\n",
    "\n",
    "tp = (round((hombre/total)*100,2), round(((mujer/total)*100),2))\n",
    "        \n",
    "    "
   ]
  },
  {
   "cell_type": "code",
   "execution_count": 37,
   "id": "81c8cc21",
   "metadata": {
    "scrolled": true
   },
   "outputs": [
    {
     "name": "stdout",
     "output_type": "stream",
     "text": [
      "577\n",
      "314\n",
      "891\n",
      "(64.76, 35.24)\n"
     ]
    }
   ],
   "source": [
    "print(hombre)\n",
    "print(mujer)\n",
    "print(total)\n",
    "print(tp)"
   ]
  },
  {
   "cell_type": "markdown",
   "id": "26b8c268",
   "metadata": {},
   "source": [
    "# Implementa una función llamada ejercicio5 que recibiendo el dataframe con los datos del Titanic, devuelva en una lista el número de pasajeros que viajaban en 1ª, 2ª y 3ª clase."
   ]
  },
  {
   "cell_type": "code",
   "execution_count": 46,
   "id": "9a64b31f",
   "metadata": {},
   "outputs": [],
   "source": [
    "import pandas as pd\n",
    "import numpy as np\n",
    "import math\n",
    "\n",
    "class1 = 0\n",
    "class2 = 0\n",
    "class3 = 0\n",
    "lt = []\n",
    "\n",
    "df = pd.read_csv(\"titanic.csv\")\n",
    "dataframe = pd.DataFrame(df)\n",
    "\n",
    "for i in dataframe[\"Pclass\"]:\n",
    "    if i == 1:\n",
    "        class1 = class1 + 1\n",
    "    if i == 2:\n",
    "        class2 = class2 + 1\n",
    "    if i == 3:\n",
    "        class3 = class3 + 1\n",
    "\n",
    "lt = [class1 , class2 , class3]\n",
    "    "
   ]
  },
  {
   "cell_type": "code",
   "execution_count": 47,
   "id": "c3221edd",
   "metadata": {},
   "outputs": [
    {
     "name": "stdout",
     "output_type": "stream",
     "text": [
      "[216, 184, 491]\n"
     ]
    }
   ],
   "source": [
    "print(lt)"
   ]
  },
  {
   "cell_type": "code",
   "execution_count": null,
   "id": "ffe9fe0c",
   "metadata": {},
   "outputs": [],
   "source": []
  }
 ],
 "metadata": {
  "kernelspec": {
   "display_name": "Python 3",
   "language": "python",
   "name": "python3"
  },
  "language_info": {
   "codemirror_mode": {
    "name": "ipython",
    "version": 3
   },
   "file_extension": ".py",
   "mimetype": "text/x-python",
   "name": "python",
   "nbconvert_exporter": "python",
   "pygments_lexer": "ipython3",
   "version": "3.8.8"
  }
 },
 "nbformat": 4,
 "nbformat_minor": 5
}
