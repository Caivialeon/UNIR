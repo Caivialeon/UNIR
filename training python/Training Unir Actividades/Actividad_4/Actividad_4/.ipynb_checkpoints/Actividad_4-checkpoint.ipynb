{
 "cells": [
  {
   "cell_type": "markdown",
   "metadata": {},
   "source": [
    "## Ejercicio 1\n",
    "\n",
    "Crea una función llamada ejercicio1, que recibe la ruta donde se encuentra un dataset y devuelve una DataFrame con los datos que hay en el dataset. Para comprobar esta función utiliza el dataset `titanic.csv` que se incluye en esta actividad."
   ]
  },
  {
   "cell_type": "code",
   "execution_count": 22,
   "metadata": {},
   "outputs": [],
   "source": [
    "import pandas as pd\n",
    "\n",
    "def ejercicio1(ruta):\n",
    "    df = pd.read_csv(ruta)\n",
    "    dataframe = pd.DataFrame(df)\n",
    "    return dataframe"
   ]
  },
  {
   "cell_type": "markdown",
   "metadata": {},
   "source": [
    "## Ejercicio 2\n",
    "\n",
    "Crea otra función llamada ejercicio2. Esta función recibe un único argumento que es un dataframe. En concreto debe recibir el dataframe que se ha obtenido de leer el dataset `titanic.csv`. Esta función devolverá otro dataset que incluya únicamente a los pasajeros menores de 35 años y que viajaban en 3ª clase."
   ]
  },
  {
   "cell_type": "code",
   "execution_count": 23,
   "metadata": {},
   "outputs": [],
   "source": [
    "import pandas as pd\n",
    "\n",
    "def ejercicio2(dataframe):\n",
    "    dataframe2 = pd.DataFrame()\n",
    "    dataframe2 = dataframe[(dataframe[\"Pclass\"] == 3) & (dataframe[\"Age\"] < 35) ]\n",
    "\n",
    "    return dataframe2\n",
    "    "
   ]
  },
  {
   "cell_type": "markdown",
   "metadata": {},
   "source": [
    "## Ejercicio 3\n",
    "\n",
    "Crea una función llamada ejercicio3, que recibiendo como argumento el dataframe del dataset `titanic.csv`, calcule el porcentaje de persona que sobrevieron. Redondee el resultado al segundo decimal."
   ]
  },
  {
   "cell_type": "code",
   "execution_count": 29,
   "metadata": {},
   "outputs": [],
   "source": [
    "import pandas as pd\n",
    "import numpy as np\n",
    "\n",
    "def ejercicio3(dataframe):\n",
    "    contador = 0\n",
    "    total = 0\n",
    "    for i in dataframe[\"Survived\"]:\n",
    "        total = total + 1\n",
    "        if i == True:\n",
    "            contador = contador + 1\n",
    "\n",
    "    porcentaje = round((contador / total) * 100 , 2)\n",
    "\n",
    "    return porcentaje"
   ]
  },
  {
   "cell_type": "markdown",
   "metadata": {},
   "source": [
    "## Ejercicio 4\n",
    "\n",
    "Implementa una función llamada ejercicio4 que recibiendo el dataframe con los datos del Titanic, devuelva en una tupla el porcentaje de hombres y mujeres que viajaban en el Titanic, redondeados al segundo decimal."
   ]
  },
  {
   "cell_type": "code",
   "execution_count": 30,
   "metadata": {},
   "outputs": [],
   "source": [
    "import pandas as pd\n",
    "import numpy as np\n",
    "\n",
    "def ejercicio4(dataframe):\n",
    "    tp = ()\n",
    "    hombre = 0\n",
    "    mujer = 0\n",
    "    total = 0\n",
    "\n",
    "    df = pd.read_csv(\"titanic.csv\")\n",
    "    dataframe = pd.DataFrame(df)\n",
    "\n",
    "    for i in dataframe[\"Sex\"]:\n",
    "        total = total + 1\n",
    "        if i == \"male\":\n",
    "            hombre = hombre + 1\n",
    "        else:\n",
    "            mujer = mujer + 1\n",
    "\n",
    "    tp = (round((hombre/total)*100,2), round(((mujer/total)*100),2))\n",
    "    return tp\n",
    "    "
   ]
  },
  {
   "cell_type": "markdown",
   "metadata": {},
   "source": [
    "## Ejercicio 5\n",
    "\n",
    "\n",
    "Implementa una función llamada ejercicio5 que recibiendo el dataframe con los datos del Titanic, devuelva en una lista el número de pasajeros que viajaban en 1ª, 2ª y 3ª clase."
   ]
  },
  {
   "cell_type": "code",
   "execution_count": 31,
   "metadata": {},
   "outputs": [],
   "source": [
    "import pandas as pd\n",
    "import numpy as np\n",
    "\n",
    "def ejercicio5(dataframe):\n",
    "    \n",
    "    class1 = 0\n",
    "    class2 = 0\n",
    "    class3 = 0\n",
    "    lt = []\n",
    "\n",
    "    df = pd.read_csv(\"titanic.csv\")\n",
    "    dataframe = pd.DataFrame(df)\n",
    "\n",
    "    for i in dataframe[\"Pclass\"]:\n",
    "        if i == 1:\n",
    "            class1 = class1 + 1\n",
    "        if i == 2:\n",
    "            class2 = class2 + 1\n",
    "        if i == 3:\n",
    "            class3 = class3 + 1\n",
    "\n",
    "    lt = [class1 , class2 , class3]\n",
    "    \n",
    "    return lt"
   ]
  }
 ],
 "metadata": {
  "kernelspec": {
   "display_name": "Python 3",
   "language": "python",
   "name": "python3"
  },
  "language_info": {
   "codemirror_mode": {
    "name": "ipython",
    "version": 3
   },
   "file_extension": ".py",
   "mimetype": "text/x-python",
   "name": "python",
   "nbconvert_exporter": "python",
   "pygments_lexer": "ipython3",
   "version": "3.8.8"
  }
 },
 "nbformat": 4,
 "nbformat_minor": 2
}
