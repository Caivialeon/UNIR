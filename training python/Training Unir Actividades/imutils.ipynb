{
 "cells": [
  {
   "cell_type": "code",
   "execution_count": 7,
   "id": "50ab2d02",
   "metadata": {},
   "outputs": [
    {
     "name": "stdout",
     "output_type": "stream",
     "text": [
      "la version de Opencv es:\n",
      "4.5.5\n"
     ]
    }
   ],
   "source": [
    "import cv2\n",
    "\n",
    "print(\"la version de Opencv es:\")\n",
    "print(cv2.__version__)"
   ]
  },
  {
   "cell_type": "code",
   "execution_count": 1,
   "id": "674d84f7",
   "metadata": {},
   "outputs": [],
   "source": [
    "# Import the necessary packages\n",
    "import numpy as np\n",
    "import cv2\n",
    "\n",
    "def translate(image, x, y):\n",
    "\t# Define the translation matrix and perform the translation\n",
    "\tM = np.float32([[1, 0, x], [0, 1, y]])\n",
    "\tshifted = cv2.warpAffine(image, M, (image.shape[1], image.shape[0]))\n",
    "\n",
    "\t# Return the translated image\n",
    "\treturn shifted\n",
    "\n",
    "def rotate(image, angle, center = None, scale = 1.0):\n",
    "\t# Grab the dimensions of the image\n",
    "\t(h, w) = image.shape[:2]\n",
    "\n",
    "\t# If the center is None, initialize it as the center of\n",
    "\t# the image\n",
    "\tif center is None:\n",
    "\t\tcenter = (w / 2, h / 2)\n",
    "\n",
    "\t# Perform the rotation\n",
    "\tM = cv2.getRotationMatrix2D(center, angle, scale)\n",
    "\trotated = cv2.warpAffine(image, M, (w, h))\n",
    "\n",
    "\t# Return the rotated image\n",
    "\treturn rotated\n",
    "\n",
    "def resize(image, width = None, height = None, inter = cv2.INTER_AREA):\n",
    "\t# initialize the dimensions of the image to be resized and\n",
    "\t# grab the image size\n",
    "\tdim = None\n",
    "\t(h, w) = image.shape[:2]\n",
    "\n",
    "\t# if both the width and height are None, then return the\n",
    "\t# original image\n",
    "\tif width is None and height is None:\n",
    "\t\treturn image\n",
    "\n",
    "\t# check to see if the width is None\n",
    "\tif width is None:\n",
    "\t\t# calculate the ratio of the height and construct the\n",
    "\t\t# dimensions\n",
    "\t\tr = height / float(h)\n",
    "\t\tdim = (int(w * r), height)\n",
    "\n",
    "\t# otherwise, the height is None\n",
    "\telse:\n",
    "\t\t# calculate the ratio of the width and construct the\n",
    "\t\t# dimensions\n",
    "\t\tr = width / float(w)\n",
    "\t\tdim = (width, int(h * r))\n",
    "\n",
    "\t# resize the image\n",
    "\tresized = cv2.resize(image, dim, interpolation = inter)\n",
    "\n",
    "\t# return the resized image\n",
    "\treturn resized"
   ]
  },
  {
   "cell_type": "code",
   "execution_count": null,
   "id": "b1f6b1c5",
   "metadata": {},
   "outputs": [],
   "source": []
  }
 ],
 "metadata": {
  "kernelspec": {
   "display_name": "Python 3 (ipykernel)",
   "language": "python",
   "name": "python3"
  },
  "language_info": {
   "codemirror_mode": {
    "name": "ipython",
    "version": 3
   },
   "file_extension": ".py",
   "mimetype": "text/x-python",
   "name": "python",
   "nbconvert_exporter": "python",
   "pygments_lexer": "ipython3",
   "version": "3.9.7"
  }
 },
 "nbformat": 4,
 "nbformat_minor": 5
}
