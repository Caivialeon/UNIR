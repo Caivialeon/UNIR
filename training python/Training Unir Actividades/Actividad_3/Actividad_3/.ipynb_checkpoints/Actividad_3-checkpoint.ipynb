{
 "cells": [
  {
   "cell_type": "markdown",
   "metadata": {},
   "source": [
    "En la siguiente celda, completa los siguientes ejercicios:\n",
    "\n",
    "## Ejercicio 1\n",
    "\n",
    "Escribe una clase llamada Numero. Esta clase debe tener una constructora que reciba un número y almacene ese número en 2 atributos: romano que almacenará el número en el formato de número romanos como una cadena de caracteres y normal que guardará el número que nos han dado en la constructora.\n",
    "\n",
    "## Ejercicio 2\n",
    "Crea dos nuevos métodos en la clase Numero. El primer método, llamado imprime() imprime un mensaje mostrando el valor de ambos atributos; el segundo atributo, suma_romano() tendrá como parámetros una cadena de caracteres que representará otro número romano y que sumaremos a los atributos que ya teníamos.\n",
    "\n",
    "## Ejercicio 3\n",
    "\n",
    "Define una función dentro de la clase Numero que a partir de una cadena de caracteres, devuelve True si esa cadena de caracteres corresponde con un número romano y falso en caso contrario. Después, modifica el método para que lance un error en el caso de que el valor que nos pasan por parámetro no se corresponde con el patrón de un número romano"
   ]
  },
  {
   "cell_type": "code",
   "execution_count": 12,
   "metadata": {},
   "outputs": [],
   "source": [
    "\n",
    "class Numero:\n",
    "    entero = 0\n",
    "    def __init__(self , e):\n",
    "        self.entero = e\n",
    "        self.normal = self.entero\n",
    "        self.romano = self.convertir_a_romano(e)\n",
    "\n",
    "    def convertir_a_romano(self,enteros):\n",
    "        numeros = [1000, 900, 500, 400, 100, 90, 50, 40, 10, 9, 5, 4, 1]\n",
    "        numerales = [\"M\", \"CM\", \"D\", \"CD\", \"C\", \"XC\", \"L\", \"XL\", \"X\", \"IX\", \"V\", \"IV\", \"I\"]\n",
    "        numeral = \"\"\n",
    "\n",
    "        i = 0\n",
    "        while enteros > 0:\n",
    "            for _ in range(enteros // numeros[i]):\n",
    "                numeral += numerales[i]\n",
    "                enteros -= numeros[i]\n",
    "            i += 1\n",
    "        return str(numeral)\n",
    "\n",
    "    def imprime(self):\n",
    "        print(f\"{self.normal}\" + \" \" + self.romano)\n",
    "\n",
    "    def suma_romano(self,roma):\n",
    "        self.normal += self.convertir_a_entero(str(roma))\n",
    "        self.romano = str(self.convertir_a_romano(self.normal))\n",
    "\n",
    "    def convertir_a_entero(self, s):\n",
    "        a = {\"I\": 1, \"V\": 5, \"X\": 10, \"L\": 50, \"C\": 100, \"D\": 500, \"M\": 1000}\n",
    "        ans = 0\n",
    "        for i in range(len(s)):\n",
    "            if i < len(s) - 1 and a[s[i]] < a[s[i + 1]]:\n",
    "                ans -= a[s[i]]\n",
    "            else:\n",
    "                ans += a[s[i]]\n",
    "        return ans\n",
    "\n",
    "    def is_romano(self, r):\n",
    "        numerales = [\"M\", \"CM\", \"D\", \"CD\", \"C\", \"XC\", \"L\", \"XL\", \"X\", \"IX\", \"V\", \"IV\", \"I\"]\n",
    "        for i in range(len(r)):\n",
    "            if r[i] in numerales:\n",
    "                l = True\n",
    "            else:\n",
    "                l = False\n",
    "        return l"
   ]
  },
  {
   "cell_type": "markdown",
   "metadata": {},
   "source": [
    "En la siguiente celda, completa los siguientes ejercicios:\n",
    "\n",
    "## Ejercicio 4\n",
    "\n",
    "Implementa una clase MejorNumero. Esta clase heredará las propiedades de Numero e incluirá dos métodos nuevos para restar y multiplicar los atributos recibiendo por parámetro otro número romano.\n",
    "\n",
    "## Ejercicio 5\n",
    "\n",
    "En la clase MejorNumero, crea un nuevo método que reciba una lista con 3 números romanos. A continuación, iterando sobre los elementos de la lista llamará a la función suma_romano(). Los posibles errores se tendrán que gestionar con excepciones para mostrar un mensaje y seguir ejecutando el siguiente número."
   ]
  },
  {
   "cell_type": "code",
   "execution_count": 14,
   "metadata": {},
   "outputs": [],
   "source": [
    "class MejorNumero(Numero):\n",
    "    \n",
    "        def __init__(self, a):\n",
    "            Numero.__init__(self, a)\n",
    "            self.normal = a\n",
    "            self.romano = Numero.convertir_a_romano(self,self.normal)\n",
    "        \n",
    "        def resta(self,r):\n",
    "            self.normal -= Numero.convertir_a_entero(self, str(r))\n",
    "            self.romano = Numero.convertir_a_romano(self , self.normal)\n",
    "        \n",
    "        def multiplica(self,r):\n",
    "            self.normal *= Numero.convertir_a_entero(self, str(r))\n",
    "            self.romano = Numero.convertir_a_romano(self , self.normal)\n",
    "            \n",
    "        def iterar(self,lista):\n",
    "            suma = 0\n",
    "            for i in range(len(lista)):\n",
    "                try:\n",
    "                    Numero.suma_romano(self,lista[i])\n",
    "                except:\n",
    "                    print(f\"Ha fallado el número {lista[i]}\")"
   ]
  }
 ],
 "metadata": {
  "kernelspec": {
   "display_name": "Python 3",
   "language": "python",
   "name": "python3"
  },
  "language_info": {
   "codemirror_mode": {
    "name": "ipython",
    "version": 3
   },
   "file_extension": ".py",
   "mimetype": "text/x-python",
   "name": "python",
   "nbconvert_exporter": "python",
   "pygments_lexer": "ipython3",
   "version": "3.8.8"
  }
 },
 "nbformat": 4,
 "nbformat_minor": 2
}
